{
 "cells": [
  {
   "cell_type": "markdown",
   "metadata": {},
   "source": [
    "# Logistic regression"
   ]
  },
  {
   "cell_type": "markdown",
   "metadata": {},
   "source": [
    "# Dataset:\n",
    "German Credit"
   ]
  },
  {
   "cell_type": "markdown",
   "metadata": {},
   "source": [
    "# Objective\n",
    "Estimate default probabilities using logistic regression"
   ]
  },
  {
   "cell_type": "markdown",
   "metadata": {},
   "source": [
    "# 1. Load Libraries and data"
   ]
  },
  {
   "cell_type": "code",
   "execution_count": 23,
   "metadata": {},
   "outputs": [],
   "source": [
    "import numpy as np\n",
    "import seaborn as sns\n",
    "import pandas as pd\n",
    "import matplotlib.pyplot as plt\n",
    "import warnings\n",
    "warnings.filterwarnings(\"ignore\")\n",
    "from sklearn.model_selection import train_test_split\n",
    "from sklearn.linear_model import LogisticRegression\n",
    "from sklearn.metrics import accuracy_score\n",
    "from sklearn.metrics import confusion_matrix\n",
    "from sklearn.metrics import ConfusionMatrixDisplay"
   ]
  },
  {
   "cell_type": "code",
   "execution_count": 24,
   "metadata": {},
   "outputs": [
    {
     "data": {
      "text/html": [
       "<div>\n",
       "<style scoped>\n",
       "    .dataframe tbody tr th:only-of-type {\n",
       "        vertical-align: middle;\n",
       "    }\n",
       "\n",
       "    .dataframe tbody tr th {\n",
       "        vertical-align: top;\n",
       "    }\n",
       "\n",
       "    .dataframe thead th {\n",
       "        text-align: right;\n",
       "    }\n",
       "</style>\n",
       "<table border=\"1\" class=\"dataframe\">\n",
       "  <thead>\n",
       "    <tr style=\"text-align: right;\">\n",
       "      <th></th>\n",
       "      <th>Creditability</th>\n",
       "      <th>CreditAmount</th>\n",
       "      <th>DurationOfCreditInMonths</th>\n",
       "    </tr>\n",
       "  </thead>\n",
       "  <tbody>\n",
       "    <tr>\n",
       "      <th>0</th>\n",
       "      <td>1</td>\n",
       "      <td>1049</td>\n",
       "      <td>18</td>\n",
       "    </tr>\n",
       "    <tr>\n",
       "      <th>1</th>\n",
       "      <td>1</td>\n",
       "      <td>2799</td>\n",
       "      <td>9</td>\n",
       "    </tr>\n",
       "    <tr>\n",
       "      <th>2</th>\n",
       "      <td>1</td>\n",
       "      <td>841</td>\n",
       "      <td>12</td>\n",
       "    </tr>\n",
       "    <tr>\n",
       "      <th>3</th>\n",
       "      <td>1</td>\n",
       "      <td>2122</td>\n",
       "      <td>12</td>\n",
       "    </tr>\n",
       "    <tr>\n",
       "      <th>4</th>\n",
       "      <td>1</td>\n",
       "      <td>2171</td>\n",
       "      <td>12</td>\n",
       "    </tr>\n",
       "  </tbody>\n",
       "</table>\n",
       "</div>"
      ],
      "text/plain": [
       "   Creditability  CreditAmount  DurationOfCreditInMonths\n",
       "0              1          1049                        18\n",
       "1              1          2799                         9\n",
       "2              1           841                        12\n",
       "3              1          2122                        12\n",
       "4              1          2171                        12"
      ]
     },
     "execution_count": 24,
     "metadata": {},
     "output_type": "execute_result"
    }
   ],
   "source": [
    "df=pd.read_excel(\"GermanCredit.xlsx\")\n",
    "df.head()"
   ]
  },
  {
   "cell_type": "markdown",
   "metadata": {},
   "source": [
    "# 2. Check how many records do we have\n"
   ]
  },
  {
   "cell_type": "code",
   "execution_count": 25,
   "metadata": {},
   "outputs": [
    {
     "data": {
      "text/plain": [
       "1000"
      ]
     },
     "execution_count": 25,
     "metadata": {},
     "output_type": "execute_result"
    }
   ],
   "source": [
    "df.shape[0]"
   ]
  },
  {
   "cell_type": "markdown",
   "metadata": {},
   "source": [
    "# 3. Plot Histogram for column 'CreditAmount'"
   ]
  },
  {
   "cell_type": "code",
   "execution_count": 26,
   "metadata": {},
   "outputs": [
    {
     "data": {
      "image/png": "[encoded data removed]",
      "text/plain": [
       "<Figure size 432x288 with 1 Axes>"
      ]
     },
     "metadata": {
      "needs_background": "light"
     },
     "output_type": "display_data"
    }
   ],
   "source": [
    "sns.histplot(x='CreditAmount',data=df)\n",
    "plt.show()"
   ]
  },
  {
   "cell_type": "markdown",
   "metadata": {},
   "source": [
    "# 3b. Create creditability dataframe"
   ]
  },
  {
   "cell_type": "code",
   "execution_count": 27,
   "metadata": {},
   "outputs": [
    {
     "data": {
      "text/plain": [
       "1    700\n",
       "0    300\n",
       "Name: Creditability, dtype: int64"
      ]
     },
     "execution_count": 27,
     "metadata": {},
     "output_type": "execute_result"
    }
   ],
   "source": [
    "df.Creditability.value_counts()"
   ]
  },
  {
   "cell_type": "code",
   "execution_count": 28,
   "metadata": {},
   "outputs": [
    {
     "data": {
      "text/html": [
       "<div>\n",
       "<style scoped>\n",
       "    .dataframe tbody tr th:only-of-type {\n",
       "        vertical-align: middle;\n",
       "    }\n",
       "\n",
       "    .dataframe tbody tr th {\n",
       "        vertical-align: top;\n",
       "    }\n",
       "\n",
       "    .dataframe thead th {\n",
       "        text-align: right;\n",
       "    }\n",
       "</style>\n",
       "<table border=\"1\" class=\"dataframe\">\n",
       "  <thead>\n",
       "    <tr style=\"text-align: right;\">\n",
       "      <th></th>\n",
       "      <th>Creditability</th>\n",
       "      <th>CreditAmount</th>\n",
       "      <th>DurationOfCreditInMonths</th>\n",
       "    </tr>\n",
       "  </thead>\n",
       "  <tbody>\n",
       "    <tr>\n",
       "      <th>22</th>\n",
       "      <td>0</td>\n",
       "      <td>2384</td>\n",
       "      <td>36</td>\n",
       "    </tr>\n",
       "    <tr>\n",
       "      <th>45</th>\n",
       "      <td>0</td>\n",
       "      <td>1216</td>\n",
       "      <td>18</td>\n",
       "    </tr>\n",
       "    <tr>\n",
       "      <th>47</th>\n",
       "      <td>0</td>\n",
       "      <td>1864</td>\n",
       "      <td>18</td>\n",
       "    </tr>\n",
       "    <tr>\n",
       "      <th>97</th>\n",
       "      <td>0</td>\n",
       "      <td>4455</td>\n",
       "      <td>36</td>\n",
       "    </tr>\n",
       "    <tr>\n",
       "      <th>110</th>\n",
       "      <td>0</td>\n",
       "      <td>3959</td>\n",
       "      <td>15</td>\n",
       "    </tr>\n",
       "    <tr>\n",
       "      <th>...</th>\n",
       "      <td>...</td>\n",
       "      <td>...</td>\n",
       "      <td>...</td>\n",
       "    </tr>\n",
       "    <tr>\n",
       "      <th>995</th>\n",
       "      <td>0</td>\n",
       "      <td>1987</td>\n",
       "      <td>24</td>\n",
       "    </tr>\n",
       "    <tr>\n",
       "      <th>996</th>\n",
       "      <td>0</td>\n",
       "      <td>2303</td>\n",
       "      <td>24</td>\n",
       "    </tr>\n",
       "    <tr>\n",
       "      <th>997</th>\n",
       "      <td>0</td>\n",
       "      <td>12680</td>\n",
       "      <td>21</td>\n",
       "    </tr>\n",
       "    <tr>\n",
       "      <th>998</th>\n",
       "      <td>0</td>\n",
       "      <td>6468</td>\n",
       "      <td>12</td>\n",
       "    </tr>\n",
       "    <tr>\n",
       "      <th>999</th>\n",
       "      <td>0</td>\n",
       "      <td>6350</td>\n",
       "      <td>30</td>\n",
       "    </tr>\n",
       "  </tbody>\n",
       "</table>\n",
       "<p>300 rows × 3 columns</p>\n",
       "</div>"
      ],
      "text/plain": [
       "     Creditability  CreditAmount  DurationOfCreditInMonths\n",
       "22               0          2384                        36\n",
       "45               0          1216                        18\n",
       "47               0          1864                        18\n",
       "97               0          4455                        36\n",
       "110              0          3959                        15\n",
       "..             ...           ...                       ...\n",
       "995              0          1987                        24\n",
       "996              0          2303                        24\n",
       "997              0         12680                        21\n",
       "998              0          6468                        12\n",
       "999              0          6350                        30\n",
       "\n",
       "[300 rows x 3 columns]"
      ]
     },
     "execution_count": 28,
     "metadata": {},
     "output_type": "execute_result"
    }
   ],
   "source": [
    "cred_0=df.loc[df.Creditability==0]\n",
    "cred_0"
   ]
  },
  {
   "cell_type": "code",
   "execution_count": 29,
   "metadata": {},
   "outputs": [
    {
     "data": {
      "text/html": [
       "<div>\n",
       "<style scoped>\n",
       "    .dataframe tbody tr th:only-of-type {\n",
       "        vertical-align: middle;\n",
       "    }\n",
       "\n",
       "    .dataframe tbody tr th {\n",
       "        vertical-align: top;\n",
       "    }\n",
       "\n",
       "    .dataframe thead th {\n",
       "        text-align: right;\n",
       "    }\n",
       "</style>\n",
       "<table border=\"1\" class=\"dataframe\">\n",
       "  <thead>\n",
       "    <tr style=\"text-align: right;\">\n",
       "      <th></th>\n",
       "      <th>Creditability</th>\n",
       "      <th>CreditAmount</th>\n",
       "      <th>DurationOfCreditInMonths</th>\n",
       "    </tr>\n",
       "  </thead>\n",
       "  <tbody>\n",
       "    <tr>\n",
       "      <th>0</th>\n",
       "      <td>1</td>\n",
       "      <td>1049</td>\n",
       "      <td>18</td>\n",
       "    </tr>\n",
       "    <tr>\n",
       "      <th>1</th>\n",
       "      <td>1</td>\n",
       "      <td>2799</td>\n",
       "      <td>9</td>\n",
       "    </tr>\n",
       "    <tr>\n",
       "      <th>2</th>\n",
       "      <td>1</td>\n",
       "      <td>841</td>\n",
       "      <td>12</td>\n",
       "    </tr>\n",
       "    <tr>\n",
       "      <th>3</th>\n",
       "      <td>1</td>\n",
       "      <td>2122</td>\n",
       "      <td>12</td>\n",
       "    </tr>\n",
       "    <tr>\n",
       "      <th>4</th>\n",
       "      <td>1</td>\n",
       "      <td>2171</td>\n",
       "      <td>12</td>\n",
       "    </tr>\n",
       "    <tr>\n",
       "      <th>...</th>\n",
       "      <td>...</td>\n",
       "      <td>...</td>\n",
       "      <td>...</td>\n",
       "    </tr>\n",
       "    <tr>\n",
       "      <th>746</th>\n",
       "      <td>1</td>\n",
       "      <td>2760</td>\n",
       "      <td>24</td>\n",
       "    </tr>\n",
       "    <tr>\n",
       "      <th>747</th>\n",
       "      <td>1</td>\n",
       "      <td>5507</td>\n",
       "      <td>24</td>\n",
       "    </tr>\n",
       "    <tr>\n",
       "      <th>748</th>\n",
       "      <td>1</td>\n",
       "      <td>1199</td>\n",
       "      <td>9</td>\n",
       "    </tr>\n",
       "    <tr>\n",
       "      <th>749</th>\n",
       "      <td>1</td>\n",
       "      <td>2892</td>\n",
       "      <td>24</td>\n",
       "    </tr>\n",
       "    <tr>\n",
       "      <th>750</th>\n",
       "      <td>1</td>\n",
       "      <td>2862</td>\n",
       "      <td>36</td>\n",
       "    </tr>\n",
       "  </tbody>\n",
       "</table>\n",
       "<p>700 rows × 3 columns</p>\n",
       "</div>"
      ],
      "text/plain": [
       "     Creditability  CreditAmount  DurationOfCreditInMonths\n",
       "0                1          1049                        18\n",
       "1                1          2799                         9\n",
       "2                1           841                        12\n",
       "3                1          2122                        12\n",
       "4                1          2171                        12\n",
       "..             ...           ...                       ...\n",
       "746              1          2760                        24\n",
       "747              1          5507                        24\n",
       "748              1          1199                         9\n",
       "749              1          2892                        24\n",
       "750              1          2862                        36\n",
       "\n",
       "[700 rows x 3 columns]"
      ]
     },
     "execution_count": 29,
     "metadata": {},
     "output_type": "execute_result"
    }
   ],
   "source": [
    "cred_1=df.loc[df.Creditability==1]\n",
    "cred_1"
   ]
  },
  {
   "cell_type": "markdown",
   "metadata": {},
   "source": [
    "# 4. Concatenate the above 2 dataframes and give the total of Credibiliity0 and Credibiliity1"
   ]
  },
  {
   "cell_type": "code",
   "execution_count": 30,
   "metadata": {},
   "outputs": [
    {
     "data": {
      "text/plain": [
       "1    700\n",
       "0    300\n",
       "Name: Creditability, dtype: int64"
      ]
     },
     "execution_count": 30,
     "metadata": {},
     "output_type": "execute_result"
    }
   ],
   "source": [
    "pd.concat([cred_0,cred_1],axis=0).Creditability.value_counts()"
   ]
  },
  {
   "cell_type": "markdown",
   "metadata": {},
   "source": [
    "# 5. Plot Creditworthiness plot for Credibility == 0 and also ==1"
   ]
  },
  {
   "cell_type": "code",
   "execution_count": 31,
   "metadata": {},
   "outputs": [
    {
     "data": {
      "image/png": "[encoded data removed]",
      "text/plain": [
       "<Figure size 432x288 with 1 Axes>"
      ]
     },
     "metadata": {
      "needs_background": "light"
     },
     "output_type": "display_data"
    }
   ],
   "source": [
    "sns.distplot(cred_0.CreditAmount)\n",
    "plt.show()"
   ]
  },
  {
   "cell_type": "code",
   "execution_count": 32,
   "metadata": {},
   "outputs": [
    {
     "data": {
      "image/png": "[encoded data removed]",
      "text/plain": [
       "<Figure size 432x288 with 1 Axes>"
      ]
     },
     "metadata": {
      "needs_background": "light"
     },
     "output_type": "display_data"
    }
   ],
   "source": [
    "sns.distplot(cred_1.CreditAmount)\n",
    "plt.show()"
   ]
  },
  {
   "cell_type": "markdown",
   "metadata": {},
   "source": [
    "# 6. Prepare input data for the model"
   ]
  },
  {
   "cell_type": "code",
   "execution_count": 33,
   "metadata": {},
   "outputs": [
    {
     "data": {
      "text/html": [
       "<div>\n",
       "<style scoped>\n",
       "    .dataframe tbody tr th:only-of-type {\n",
       "        vertical-align: middle;\n",
       "    }\n",
       "\n",
       "    .dataframe tbody tr th {\n",
       "        vertical-align: top;\n",
       "    }\n",
       "\n",
       "    .dataframe thead th {\n",
       "        text-align: right;\n",
       "    }\n",
       "</style>\n",
       "<table border=\"1\" class=\"dataframe\">\n",
       "  <thead>\n",
       "    <tr style=\"text-align: right;\">\n",
       "      <th></th>\n",
       "      <th>CreditAmount</th>\n",
       "      <th>DurationOfCreditInMonths</th>\n",
       "    </tr>\n",
       "  </thead>\n",
       "  <tbody>\n",
       "    <tr>\n",
       "      <th>0</th>\n",
       "      <td>1049</td>\n",
       "      <td>18</td>\n",
       "    </tr>\n",
       "    <tr>\n",
       "      <th>1</th>\n",
       "      <td>2799</td>\n",
       "      <td>9</td>\n",
       "    </tr>\n",
       "    <tr>\n",
       "      <th>2</th>\n",
       "      <td>841</td>\n",
       "      <td>12</td>\n",
       "    </tr>\n",
       "    <tr>\n",
       "      <th>3</th>\n",
       "      <td>2122</td>\n",
       "      <td>12</td>\n",
       "    </tr>\n",
       "    <tr>\n",
       "      <th>4</th>\n",
       "      <td>2171</td>\n",
       "      <td>12</td>\n",
       "    </tr>\n",
       "    <tr>\n",
       "      <th>...</th>\n",
       "      <td>...</td>\n",
       "      <td>...</td>\n",
       "    </tr>\n",
       "    <tr>\n",
       "      <th>995</th>\n",
       "      <td>1987</td>\n",
       "      <td>24</td>\n",
       "    </tr>\n",
       "    <tr>\n",
       "      <th>996</th>\n",
       "      <td>2303</td>\n",
       "      <td>24</td>\n",
       "    </tr>\n",
       "    <tr>\n",
       "      <th>997</th>\n",
       "      <td>12680</td>\n",
       "      <td>21</td>\n",
       "    </tr>\n",
       "    <tr>\n",
       "      <th>998</th>\n",
       "      <td>6468</td>\n",
       "      <td>12</td>\n",
       "    </tr>\n",
       "    <tr>\n",
       "      <th>999</th>\n",
       "      <td>6350</td>\n",
       "      <td>30</td>\n",
       "    </tr>\n",
       "  </tbody>\n",
       "</table>\n",
       "<p>1000 rows × 2 columns</p>\n",
       "</div>"
      ],
      "text/plain": [
       "     CreditAmount  DurationOfCreditInMonths\n",
       "0            1049                        18\n",
       "1            2799                         9\n",
       "2             841                        12\n",
       "3            2122                        12\n",
       "4            2171                        12\n",
       "..            ...                       ...\n",
       "995          1987                        24\n",
       "996          2303                        24\n",
       "997         12680                        21\n",
       "998          6468                        12\n",
       "999          6350                        30\n",
       "\n",
       "[1000 rows x 2 columns]"
      ]
     },
     "execution_count": 33,
     "metadata": {},
     "output_type": "execute_result"
    }
   ],
   "source": [
    "from sklearn.model_selection import train_test_split\n",
    "from sklearn.linear_model import LogisticRegression\n",
    "X=df.drop('Creditability',axis=1)\n",
    "X"
   ]
  },
  {
   "cell_type": "code",
   "execution_count": 34,
   "metadata": {},
   "outputs": [
    {
     "data": {
      "text/plain": [
       "0      1\n",
       "1      1\n",
       "2      1\n",
       "3      1\n",
       "4      1\n",
       "      ..\n",
       "995    0\n",
       "996    0\n",
       "997    0\n",
       "998    0\n",
       "999    0\n",
       "Name: Creditability, Length: 1000, dtype: int64"
      ]
     },
     "execution_count": 34,
     "metadata": {},
     "output_type": "execute_result"
    }
   ],
   "source": [
    "y=df['Creditability']\n",
    "y"
   ]
  },
  {
   "cell_type": "code",
   "execution_count": 35,
   "metadata": {},
   "outputs": [],
   "source": [
    "X_train,X_test,y_train,y_test=train_test_split(X,y,random_state=10,test_size=0.30)"
   ]
  },
  {
   "cell_type": "markdown",
   "metadata": {},
   "source": [
    "# 7. Fit logistic regression model"
   ]
  },
  {
   "cell_type": "code",
   "execution_count": 36,
   "metadata": {},
   "outputs": [],
   "source": [
    "logreg=LogisticRegression()"
   ]
  },
  {
   "cell_type": "code",
   "execution_count": 37,
   "metadata": {},
   "outputs": [],
   "source": [
    "logreg_model=logreg.fit(X_train,y_train)"
   ]
  },
  {
   "cell_type": "code",
   "execution_count": 38,
   "metadata": {},
   "outputs": [
    {
     "data": {
      "text/plain": [
       "array([1, 1, 1, 1, 1, 1, 1, 1, 1, 1, 1, 1, 1, 1, 1, 1, 1, 1, 1, 1, 0, 1,\n",
       "       1, 0, 1, 1, 1, 1, 1, 1, 1, 1, 1, 1, 1, 1, 1, 1, 1, 0, 1, 1, 1, 1,\n",
       "       1, 0, 0, 1, 1, 0, 1, 1, 1, 0, 1, 1, 1, 1, 1, 1, 1, 1, 1, 1, 1, 1,\n",
       "       1, 1, 1, 1, 1, 1, 1, 1, 0, 1, 1, 1, 1, 0, 0, 1, 1, 1, 1, 1, 0, 1,\n",
       "       1, 1, 1, 1, 1, 0, 1, 1, 1, 1, 1, 0, 1, 1, 0, 1, 1, 1, 1, 1, 1, 1,\n",
       "       1, 0, 1, 1, 1, 1, 1, 1, 1, 1, 0, 1, 1, 1, 1, 1, 1, 1, 1, 1, 1, 1,\n",
       "       1, 1, 1, 1, 1, 1, 1, 1, 1, 1, 1, 1, 1, 1, 1, 1, 1, 1, 1, 1, 1, 1,\n",
       "       1, 1, 1, 1, 1, 1, 1, 1, 1, 1, 1, 1, 1, 0, 1, 1, 1, 1, 1, 1, 1, 1,\n",
       "       1, 1, 1, 1, 1, 1, 1, 1, 1, 1, 1, 0, 1, 1, 1, 0, 1, 1, 1, 1, 0, 1,\n",
       "       1, 1, 1, 1, 1, 1, 1, 1, 1, 1, 1, 1, 1, 1, 1, 1, 1, 1, 1, 1, 1, 1,\n",
       "       1, 1, 1, 1, 1, 1, 1, 1, 1, 1, 1, 1, 1, 1, 1, 1, 1, 1, 1, 1, 1, 1,\n",
       "       1, 1, 1, 1, 1, 1, 1, 1, 1, 1, 1, 1, 1, 1, 0, 1, 1, 1, 1, 1, 1, 0,\n",
       "       1, 1, 1, 1, 1, 1, 1, 1, 1, 1, 1, 1, 1, 1, 1, 1, 1, 1, 1, 1, 1, 0,\n",
       "       1, 1, 1, 1, 1, 1, 1, 1, 1, 1, 1, 1, 1, 1], dtype=int64)"
      ]
     },
     "execution_count": 38,
     "metadata": {},
     "output_type": "execute_result"
    }
   ],
   "source": [
    "y_pred=logreg_model.predict(X_test)\n",
    "y_pred"
   ]
  },
  {
   "cell_type": "markdown",
   "metadata": {},
   "source": [
    "# 8. Test accuracy calculation"
   ]
  },
  {
   "cell_type": "code",
   "execution_count": 39,
   "metadata": {},
   "outputs": [
    {
     "data": {
      "text/plain": [
       "0.67"
      ]
     },
     "execution_count": 39,
     "metadata": {},
     "output_type": "execute_result"
    }
   ],
   "source": [
    "from sklearn.metrics import accuracy_score\n",
    "accuracy_score(y_test,y_pred)"
   ]
  },
  {
   "cell_type": "markdown",
   "metadata": {},
   "source": [
    "# 9. Build a confusion matrix"
   ]
  },
  {
   "cell_type": "code",
   "execution_count": 40,
   "metadata": {},
   "outputs": [
    {
     "data": {
      "image/png": "[encoded data removed]",
      "text/plain": [
       "<Figure size 432x288 with 2 Axes>"
      ]
     },
     "metadata": {
      "needs_background": "light"
     },
     "output_type": "display_data"
    }
   ],
   "source": [
    "from sklearn.metrics import confusion_matrix\n",
    "from sklearn.metrics import ConfusionMatrixDisplay\n",
    "cm=confusion_matrix(y_test,y_pred)\n",
    "ConfusionMatrixDisplay(cm).plot()\n",
    "plt.show()"
   ]
  },
  {
   "cell_type": "markdown",
   "metadata": {},
   "source": [
    "# 10.  Predicted Probability distribution Plots for Defaults and Non Defaults"
   ]
  },
  {
   "cell_type": "code",
   "execution_count": 41,
   "metadata": {},
   "outputs": [
    {
     "data": {
      "text/plain": [
       "array([[0.252453  , 0.747547  ],\n",
       "       [0.27983254, 0.72016746],\n",
       "       [0.17500445, 0.82499555],\n",
       "       [0.28591261, 0.71408739],\n",
       "       [0.38548459, 0.61451541],\n",
       "       [0.24504707, 0.75495293],\n",
       "       [0.42456976, 0.57543024],\n",
       "       [0.28291785, 0.71708215],\n",
       "       [0.38320671, 0.61679329],\n",
       "       [0.41089447, 0.58910553],\n",
       "       [0.17677996, 0.82322004],\n",
       "       [0.23059382, 0.76940618],\n",
       "       [0.39687976, 0.60312024],\n",
       "       [0.2072665 , 0.7927335 ],\n",
       "       [0.18037996, 0.81962004],\n",
       "       [0.33470676, 0.66529324],\n",
       "       [0.31688771, 0.68311229],\n",
       "       [0.23159334, 0.76840666],\n",
       "       [0.24531542, 0.75468458],\n",
       "       [0.26728381, 0.73271619],\n",
       "       [0.50919557, 0.49080443],\n",
       "       [0.28950999, 0.71049001],\n",
       "       [0.30372779, 0.69627221],\n",
       "       [0.57619674, 0.42380326],\n",
       "       [0.19273211, 0.80726789],\n",
       "       [0.23151771, 0.76848229],\n",
       "       [0.391527  , 0.608473  ],\n",
       "       [0.28470805, 0.71529195],\n",
       "       [0.21188344, 0.78811656],\n",
       "       [0.26466135, 0.73533865],\n",
       "       [0.28892488, 0.71107512],\n",
       "       [0.48948564, 0.51051436],\n",
       "       [0.29668511, 0.70331489],\n",
       "       [0.20838937, 0.79161063],\n",
       "       [0.2448385 , 0.7551615 ],\n",
       "       [0.22947143, 0.77052857],\n",
       "       [0.27684589, 0.72315411],\n",
       "       [0.2259664 , 0.7740336 ],\n",
       "       [0.3041027 , 0.6958973 ],\n",
       "       [0.57614485, 0.42385515],\n",
       "       [0.20719592, 0.79280408],\n",
       "       [0.18158196, 0.81841804],\n",
       "       [0.24756848, 0.75243152],\n",
       "       [0.27744287, 0.72255713],\n",
       "       [0.21500292, 0.78499708],\n",
       "       [0.71039445, 0.28960555],\n",
       "       [0.67973253, 0.32026747],\n",
       "       [0.22856113, 0.77143887],\n",
       "       [0.26602227, 0.73397773],\n",
       "       [0.59520741, 0.40479259],\n",
       "       [0.19579179, 0.80420821],\n",
       "       [0.21292557, 0.78707443],\n",
       "       [0.28500343, 0.71499657],\n",
       "       [0.55944372, 0.44055628],\n",
       "       [0.2091689 , 0.7908311 ],\n",
       "       [0.25844847, 0.74155153],\n",
       "       [0.27921745, 0.72078255],\n",
       "       [0.17949243, 0.82050757],\n",
       "       [0.38411158, 0.61588842],\n",
       "       [0.37995308, 0.62004692],\n",
       "       [0.25955128, 0.74044872],\n",
       "       [0.20885041, 0.79114959],\n",
       "       [0.24292721, 0.75707279],\n",
       "       [0.26784115, 0.73215885],\n",
       "       [0.18054676, 0.81945324],\n",
       "       [0.19414813, 0.80585187],\n",
       "       [0.47401072, 0.52598928],\n",
       "       [0.23760441, 0.76239559],\n",
       "       [0.28214494, 0.71785506],\n",
       "       [0.3264259 , 0.6735741 ],\n",
       "       [0.35396888, 0.64603112],\n",
       "       [0.32739437, 0.67260563],\n",
       "       [0.3119087 , 0.6880913 ],\n",
       "       [0.29368246, 0.70631754],\n",
       "       [0.65379571, 0.34620429],\n",
       "       [0.24176239, 0.75823761],\n",
       "       [0.18190141, 0.81809859],\n",
       "       [0.20969465, 0.79030535],\n",
       "       [0.40947828, 0.59052172],\n",
       "       [0.63224011, 0.36775989],\n",
       "       [0.61814719, 0.38185281],\n",
       "       [0.44881925, 0.55118075],\n",
       "       [0.29303677, 0.70696323],\n",
       "       [0.17946871, 0.82053129],\n",
       "       [0.28301592, 0.71698408],\n",
       "       [0.18276611, 0.81723389],\n",
       "       [0.52323668, 0.47676332],\n",
       "       [0.39095633, 0.60904367],\n",
       "       [0.45756246, 0.54243754],\n",
       "       [0.31598165, 0.68401835],\n",
       "       [0.25560774, 0.74439226],\n",
       "       [0.33637105, 0.66362895],\n",
       "       [0.24530548, 0.75469452],\n",
       "       [0.6101106 , 0.3898894 ],\n",
       "       [0.18702316, 0.81297684],\n",
       "       [0.24370832, 0.75629168],\n",
       "       [0.21007646, 0.78992354],\n",
       "       [0.49861708, 0.50138292],\n",
       "       [0.19235639, 0.80764361],\n",
       "       [0.57739023, 0.42260977],\n",
       "       [0.32615236, 0.67384764],\n",
       "       [0.18270195, 0.81729805],\n",
       "       [0.52279456, 0.47720544],\n",
       "       [0.33332253, 0.66667747],\n",
       "       [0.27999491, 0.72000509],\n",
       "       [0.34403747, 0.65596253],\n",
       "       [0.21354724, 0.78645276],\n",
       "       [0.23740866, 0.76259134],\n",
       "       [0.27467799, 0.72532201],\n",
       "       [0.17737472, 0.82262528],\n",
       "       [0.19638438, 0.80361562],\n",
       "       [0.52722222, 0.47277778],\n",
       "       [0.20330536, 0.79669464],\n",
       "       [0.35121378, 0.64878622],\n",
       "       [0.33378965, 0.66621035],\n",
       "       [0.20312312, 0.79687688],\n",
       "       [0.42401881, 0.57598119],\n",
       "       [0.49355591, 0.50644409],\n",
       "       [0.49238809, 0.50761191],\n",
       "       [0.30007201, 0.69992799],\n",
       "       [0.53043882, 0.46956118],\n",
       "       [0.37451548, 0.62548452],\n",
       "       [0.21758824, 0.78241176],\n",
       "       [0.21709494, 0.78290506],\n",
       "       [0.31414909, 0.68585091],\n",
       "       [0.30010585, 0.69989415],\n",
       "       [0.21493948, 0.78506052],\n",
       "       [0.18135063, 0.81864937],\n",
       "       [0.3090804 , 0.6909196 ],\n",
       "       [0.31746925, 0.68253075],\n",
       "       [0.41982566, 0.58017434],\n",
       "       [0.35409484, 0.64590516],\n",
       "       [0.23410916, 0.76589084],\n",
       "       [0.46573052, 0.53426948],\n",
       "       [0.29848406, 0.70151594],\n",
       "       [0.28708724, 0.71291276],\n",
       "       [0.20664952, 0.79335048],\n",
       "       [0.21236811, 0.78763189],\n",
       "       [0.39807587, 0.60192413],\n",
       "       [0.35857833, 0.64142167],\n",
       "       [0.2911601 , 0.7088399 ],\n",
       "       [0.1875961 , 0.8124039 ],\n",
       "       [0.21464059, 0.78535941],\n",
       "       [0.23024733, 0.76975267],\n",
       "       [0.21330382, 0.78669618],\n",
       "       [0.45424545, 0.54575455],\n",
       "       [0.21542015, 0.78457985],\n",
       "       [0.2892022 , 0.7107978 ],\n",
       "       [0.30787753, 0.69212247],\n",
       "       [0.17750797, 0.82249203],\n",
       "       [0.20990832, 0.79009168],\n",
       "       [0.28805545, 0.71194455],\n",
       "       [0.20802638, 0.79197362],\n",
       "       [0.38359083, 0.61640917],\n",
       "       [0.45487125, 0.54512875],\n",
       "       [0.22425211, 0.77574789],\n",
       "       [0.43903933, 0.56096067],\n",
       "       [0.34996507, 0.65003493],\n",
       "       [0.22971841, 0.77028159],\n",
       "       [0.21014738, 0.78985262],\n",
       "       [0.20808794, 0.79191206],\n",
       "       [0.24847077, 0.75152923],\n",
       "       [0.21250288, 0.78749712],\n",
       "       [0.25230101, 0.74769899],\n",
       "       [0.27579074, 0.72420926],\n",
       "       [0.20646469, 0.79353531],\n",
       "       [0.35378784, 0.64621216],\n",
       "       [0.630853  , 0.369147  ],\n",
       "       [0.17595306, 0.82404694],\n",
       "       [0.24371822, 0.75628178],\n",
       "       [0.37693398, 0.62306602],\n",
       "       [0.23442584, 0.76557416],\n",
       "       [0.26242039, 0.73757961],\n",
       "       [0.23291727, 0.76708273],\n",
       "       [0.22807857, 0.77192143],\n",
       "       [0.25911452, 0.74088548],\n",
       "       [0.31099692, 0.68900308],\n",
       "       [0.31509867, 0.68490133],\n",
       "       [0.34723189, 0.65276811],\n",
       "       [0.30180056, 0.69819944],\n",
       "       [0.38601904, 0.61398096],\n",
       "       [0.49396517, 0.50603483],\n",
       "       [0.18299081, 0.81700919],\n",
       "       [0.25644654, 0.74355346],\n",
       "       [0.17742174, 0.82257826],\n",
       "       [0.32139045, 0.67860955],\n",
       "       [0.39461955, 0.60538045],\n",
       "       [0.53771492, 0.46228508],\n",
       "       [0.2073371 , 0.7926629 ],\n",
       "       [0.20402068, 0.79597932],\n",
       "       [0.30448633, 0.69551367],\n",
       "       [0.51188608, 0.48811392],\n",
       "       [0.23093701, 0.76906299],\n",
       "       [0.39347831, 0.60652169],\n",
       "       [0.2290539 , 0.7709461 ],\n",
       "       [0.29832665, 0.70167335],\n",
       "       [0.55450605, 0.44549395],\n",
       "       [0.21436009, 0.78563991],\n",
       "       [0.20776991, 0.79223009],\n",
       "       [0.3922358 , 0.6077642 ],\n",
       "       [0.37854973, 0.62145027],\n",
       "       [0.21218851, 0.78781149],\n",
       "       [0.28551805, 0.71448195],\n",
       "       [0.28584683, 0.71415317],\n",
       "       [0.21163245, 0.78836755],\n",
       "       [0.18602903, 0.81397097],\n",
       "       [0.26881024, 0.73118976],\n",
       "       [0.32693182, 0.67306818],\n",
       "       [0.36952825, 0.63047175],\n",
       "       [0.1877182 , 0.8122818 ],\n",
       "       [0.19854603, 0.80145397],\n",
       "       [0.4807015 , 0.5192985 ],\n",
       "       [0.25986872, 0.74013128],\n",
       "       [0.25444461, 0.74555539],\n",
       "       [0.20158023, 0.79841977],\n",
       "       [0.26545642, 0.73454358],\n",
       "       [0.47761723, 0.52238277],\n",
       "       [0.35892426, 0.64107574],\n",
       "       [0.28647212, 0.71352788],\n",
       "       [0.28199269, 0.71800731],\n",
       "       [0.21243099, 0.78756901],\n",
       "       [0.25601669, 0.74398331],\n",
       "       [0.31196633, 0.68803367],\n",
       "       [0.31252257, 0.68747743],\n",
       "       [0.21854975, 0.78145025],\n",
       "       [0.21575618, 0.78424382],\n",
       "       [0.32155245, 0.67844755],\n",
       "       [0.28975449, 0.71024551],\n",
       "       [0.25801643, 0.74198357],\n",
       "       [0.20659557, 0.79340443],\n",
       "       [0.22086059, 0.77913941],\n",
       "       [0.25572016, 0.74427984],\n",
       "       [0.28363748, 0.71636252],\n",
       "       [0.39847484, 0.60152516],\n",
       "       [0.20810602, 0.79189398],\n",
       "       [0.21888968, 0.78111032],\n",
       "       [0.35800719, 0.64199281],\n",
       "       [0.20770804, 0.79229196],\n",
       "       [0.25577888, 0.74422112],\n",
       "       [0.36249237, 0.63750763],\n",
       "       [0.42965509, 0.57034491],\n",
       "       [0.44151074, 0.55848926],\n",
       "       [0.29995635, 0.70004365],\n",
       "       [0.22569532, 0.77430468],\n",
       "       [0.22656932, 0.77343068],\n",
       "       [0.28404139, 0.71595861],\n",
       "       [0.17771192, 0.82228808],\n",
       "       [0.28592357, 0.71407643],\n",
       "       [0.27168037, 0.72831963],\n",
       "       [0.25132969, 0.74867031],\n",
       "       [0.24884072, 0.75115928],\n",
       "       [0.34210096, 0.65789904],\n",
       "       [0.28982997, 0.71017003],\n",
       "       [0.21426966, 0.78573034],\n",
       "       [0.18969895, 0.81030105],\n",
       "       [0.30745281, 0.69254719],\n",
       "       [0.55942233, 0.44057767],\n",
       "       [0.28627457, 0.71372543],\n",
       "       [0.2289022 , 0.7710978 ],\n",
       "       [0.26985787, 0.73014213],\n",
       "       [0.20234154, 0.79765846],\n",
       "       [0.18872749, 0.81127251],\n",
       "       [0.27566204, 0.72433796],\n",
       "       [0.53788195, 0.46211805],\n",
       "       [0.20401993, 0.79598007],\n",
       "       [0.20742538, 0.79257462],\n",
       "       [0.17829339, 0.82170661],\n",
       "       [0.20735476, 0.79264524],\n",
       "       [0.31960106, 0.68039894],\n",
       "       [0.26925245, 0.73074755],\n",
       "       [0.34384669, 0.65615331],\n",
       "       [0.20755709, 0.79244291],\n",
       "       [0.21362727, 0.78637273],\n",
       "       [0.21828388, 0.78171612],\n",
       "       [0.31091834, 0.68908166],\n",
       "       [0.24726807, 0.75273193],\n",
       "       [0.30760295, 0.69239705],\n",
       "       [0.2910936 , 0.7089064 ],\n",
       "       [0.2901304 , 0.7098696 ],\n",
       "       [0.23099424, 0.76900576],\n",
       "       [0.44660506, 0.55339494],\n",
       "       [0.34967348, 0.65032652],\n",
       "       [0.28626219, 0.71373781],\n",
       "       [0.29332611, 0.70667389],\n",
       "       [0.24882193, 0.75117807],\n",
       "       [0.62117217, 0.37882783],\n",
       "       [0.38025353, 0.61974647],\n",
       "       [0.38775935, 0.61224065],\n",
       "       [0.30373915, 0.69626085],\n",
       "       [0.29155927, 0.70844073],\n",
       "       [0.27932554, 0.72067446],\n",
       "       [0.49898956, 0.50101044],\n",
       "       [0.31479742, 0.68520258],\n",
       "       [0.45614992, 0.54385008],\n",
       "       [0.17890001, 0.82109999],\n",
       "       [0.20804408, 0.79195592],\n",
       "       [0.28393219, 0.71606781],\n",
       "       [0.18359375, 0.81640625],\n",
       "       [0.2056213 , 0.7943787 ],\n",
       "       [0.24252123, 0.75747877]])"
      ]
     },
     "execution_count": 41,
     "metadata": {},
     "output_type": "execute_result"
    }
   ],
   "source": [
    "y_pred_prob=logreg_model.predict_proba(X_test)\n",
    "y_pred_prob"
   ]
  },
  {
   "cell_type": "code",
   "execution_count": 42,
   "metadata": {},
   "outputs": [
    {
     "data": {
      "image/png": "[encoded data removed]",
      "text/plain": [
       "<Figure size 432x288 with 1 Axes>"
      ]
     },
     "metadata": {
      "needs_background": "light"
     },
     "output_type": "display_data"
    }
   ],
   "source": [
    "y_pred_prob_0=[]\n",
    "for  i in y_pred_prob:\n",
    "    y_pred_prob_0.append(i[0])\n",
    "sns.histplot(y_pred_prob_0,kde=True)\n",
    "plt.show()"
   ]
  },
  {
   "cell_type": "code",
   "execution_count": 43,
   "metadata": {},
   "outputs": [
    {
     "data": {
      "image/png": "[encoded data removed]",
      "text/plain": [
       "<Figure size 432x288 with 1 Axes>"
      ]
     },
     "metadata": {
      "needs_background": "light"
     },
     "output_type": "display_data"
    }
   ],
   "source": [
    "y_pred_prob_1=[]\n",
    "for i in y_pred_prob:\n",
    "    y_pred_prob_1.append(i[1])\n",
    "sns.histplot(y_pred_prob_1,kde=True)\n",
    "plt.show()"
   ]
  }
 ],
 "metadata": {
  "kernelspec": {
   "display_name": "Python 3 (ipykernel)",
   "language": "python",
   "name": "python3"
  },
  "language_info": {
   "codemirror_mode": {
    "name": "ipython",
    "version": 3
   },
   "file_extension": ".py",
   "mimetype": "text/x-python",
   "name": "python",
   "nbconvert_exporter": "python",
   "pygments_lexer": "ipython3",
   "version": "3.9.7"
  }
 },
 "nbformat": 4,
 "nbformat_minor": 2
}
