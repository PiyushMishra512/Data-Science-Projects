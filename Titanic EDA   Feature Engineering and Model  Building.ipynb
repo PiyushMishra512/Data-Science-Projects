{
 "cells": [
  {
   "cell_type": "code",
   "execution_count": 97,
   "id": "686bb605",
   "metadata": {},
   "outputs": [],
   "source": [
    "import numpy as np\n",
    "import pandas as pd\n",
    "import matplotlib.pyplot as plt\n",
    "import seaborn as sns\n",
    "from sklearn.preprocessing import StandardScaler\n",
    "plt.rcParams['figure.figsize']=[15,7]\n",
    "import warnings\n",
    "warnings.filterwarnings('ignore')"
   ]
  },
  {
   "cell_type": "code",
   "execution_count": 98,
   "id": "b19f6343",
   "metadata": {},
   "outputs": [],
   "source": [
    "#Import the train and test\n",
    "train=pd.read_csv(\"~/Downloads/titanic_train.csv\")\n",
    "test=pd.read_csv(\"~/Downloads/titanic_test.csv\")"
   ]
  },
  {
   "cell_type": "code",
   "execution_count": 99,
   "id": "38b79533",
   "metadata": {},
   "outputs": [],
   "source": [
    "#concatenate the data...\n",
    "combined=pd.concat([train,test],ignore_index=False,sort=False)"
   ]
  },
  {
   "cell_type": "code",
   "execution_count": 100,
   "id": "995dd3ad",
   "metadata": {},
   "outputs": [
    {
     "data": {
      "text/plain": [
       "((891, 12), (418, 11), (1309, 12))"
      ]
     },
     "execution_count": 100,
     "metadata": {},
     "output_type": "execute_result"
    }
   ],
   "source": [
    "train.shape,test.shape,combined.shape"
   ]
  },
  {
   "cell_type": "code",
   "execution_count": 101,
   "id": "16a4896e",
   "metadata": {},
   "outputs": [
    {
     "data": {
      "text/html": [
       "<div>\n",
       "<style scoped>\n",
       "    .dataframe tbody tr th:only-of-type {\n",
       "        vertical-align: middle;\n",
       "    }\n",
       "\n",
       "    .dataframe tbody tr th {\n",
       "        vertical-align: top;\n",
       "    }\n",
       "\n",
       "    .dataframe thead th {\n",
       "        text-align: right;\n",
       "    }\n",
       "</style>\n",
       "<table border=\"1\" class=\"dataframe\">\n",
       "  <thead>\n",
       "    <tr style=\"text-align: right;\">\n",
       "      <th></th>\n",
       "      <th>PassengerId</th>\n",
       "      <th>Survived</th>\n",
       "      <th>Pclass</th>\n",
       "      <th>Name</th>\n",
       "      <th>Sex</th>\n",
       "      <th>Age</th>\n",
       "      <th>SibSp</th>\n",
       "      <th>Parch</th>\n",
       "      <th>Ticket</th>\n",
       "      <th>Fare</th>\n",
       "      <th>Cabin</th>\n",
       "      <th>Embarked</th>\n",
       "    </tr>\n",
       "  </thead>\n",
       "  <tbody>\n",
       "    <tr>\n",
       "      <th>0</th>\n",
       "      <td>1</td>\n",
       "      <td>0.0</td>\n",
       "      <td>3</td>\n",
       "      <td>Braund, Mr. Owen Harris</td>\n",
       "      <td>male</td>\n",
       "      <td>22.0</td>\n",
       "      <td>1</td>\n",
       "      <td>0</td>\n",
       "      <td>A/5 21171</td>\n",
       "      <td>7.2500</td>\n",
       "      <td>NaN</td>\n",
       "      <td>S</td>\n",
       "    </tr>\n",
       "    <tr>\n",
       "      <th>1</th>\n",
       "      <td>2</td>\n",
       "      <td>1.0</td>\n",
       "      <td>1</td>\n",
       "      <td>Cumings, Mrs. John Bradley (Florence Briggs Th...</td>\n",
       "      <td>female</td>\n",
       "      <td>38.0</td>\n",
       "      <td>1</td>\n",
       "      <td>0</td>\n",
       "      <td>PC 17599</td>\n",
       "      <td>71.2833</td>\n",
       "      <td>C85</td>\n",
       "      <td>C</td>\n",
       "    </tr>\n",
       "    <tr>\n",
       "      <th>2</th>\n",
       "      <td>3</td>\n",
       "      <td>1.0</td>\n",
       "      <td>3</td>\n",
       "      <td>Heikkinen, Miss. Laina</td>\n",
       "      <td>female</td>\n",
       "      <td>26.0</td>\n",
       "      <td>0</td>\n",
       "      <td>0</td>\n",
       "      <td>STON/O2. 3101282</td>\n",
       "      <td>7.9250</td>\n",
       "      <td>NaN</td>\n",
       "      <td>S</td>\n",
       "    </tr>\n",
       "    <tr>\n",
       "      <th>3</th>\n",
       "      <td>4</td>\n",
       "      <td>1.0</td>\n",
       "      <td>1</td>\n",
       "      <td>Futrelle, Mrs. Jacques Heath (Lily May Peel)</td>\n",
       "      <td>female</td>\n",
       "      <td>35.0</td>\n",
       "      <td>1</td>\n",
       "      <td>0</td>\n",
       "      <td>113803</td>\n",
       "      <td>53.1000</td>\n",
       "      <td>C123</td>\n",
       "      <td>S</td>\n",
       "    </tr>\n",
       "    <tr>\n",
       "      <th>4</th>\n",
       "      <td>5</td>\n",
       "      <td>0.0</td>\n",
       "      <td>3</td>\n",
       "      <td>Allen, Mr. William Henry</td>\n",
       "      <td>male</td>\n",
       "      <td>35.0</td>\n",
       "      <td>0</td>\n",
       "      <td>0</td>\n",
       "      <td>373450</td>\n",
       "      <td>8.0500</td>\n",
       "      <td>NaN</td>\n",
       "      <td>S</td>\n",
       "    </tr>\n",
       "    <tr>\n",
       "      <th>...</th>\n",
       "      <td>...</td>\n",
       "      <td>...</td>\n",
       "      <td>...</td>\n",
       "      <td>...</td>\n",
       "      <td>...</td>\n",
       "      <td>...</td>\n",
       "      <td>...</td>\n",
       "      <td>...</td>\n",
       "      <td>...</td>\n",
       "      <td>...</td>\n",
       "      <td>...</td>\n",
       "      <td>...</td>\n",
       "    </tr>\n",
       "    <tr>\n",
       "      <th>413</th>\n",
       "      <td>1305</td>\n",
       "      <td>NaN</td>\n",
       "      <td>3</td>\n",
       "      <td>Spector, Mr. Woolf</td>\n",
       "      <td>male</td>\n",
       "      <td>NaN</td>\n",
       "      <td>0</td>\n",
       "      <td>0</td>\n",
       "      <td>A.5. 3236</td>\n",
       "      <td>8.0500</td>\n",
       "      <td>NaN</td>\n",
       "      <td>S</td>\n",
       "    </tr>\n",
       "    <tr>\n",
       "      <th>414</th>\n",
       "      <td>1306</td>\n",
       "      <td>NaN</td>\n",
       "      <td>1</td>\n",
       "      <td>Oliva y Ocana, Dona. Fermina</td>\n",
       "      <td>female</td>\n",
       "      <td>39.0</td>\n",
       "      <td>0</td>\n",
       "      <td>0</td>\n",
       "      <td>PC 17758</td>\n",
       "      <td>108.9000</td>\n",
       "      <td>C105</td>\n",
       "      <td>C</td>\n",
       "    </tr>\n",
       "    <tr>\n",
       "      <th>415</th>\n",
       "      <td>1307</td>\n",
       "      <td>NaN</td>\n",
       "      <td>3</td>\n",
       "      <td>Saether, Mr. Simon Sivertsen</td>\n",
       "      <td>male</td>\n",
       "      <td>38.5</td>\n",
       "      <td>0</td>\n",
       "      <td>0</td>\n",
       "      <td>SOTON/O.Q. 3101262</td>\n",
       "      <td>7.2500</td>\n",
       "      <td>NaN</td>\n",
       "      <td>S</td>\n",
       "    </tr>\n",
       "    <tr>\n",
       "      <th>416</th>\n",
       "      <td>1308</td>\n",
       "      <td>NaN</td>\n",
       "      <td>3</td>\n",
       "      <td>Ware, Mr. Frederick</td>\n",
       "      <td>male</td>\n",
       "      <td>NaN</td>\n",
       "      <td>0</td>\n",
       "      <td>0</td>\n",
       "      <td>359309</td>\n",
       "      <td>8.0500</td>\n",
       "      <td>NaN</td>\n",
       "      <td>S</td>\n",
       "    </tr>\n",
       "    <tr>\n",
       "      <th>417</th>\n",
       "      <td>1309</td>\n",
       "      <td>NaN</td>\n",
       "      <td>3</td>\n",
       "      <td>Peter, Master. Michael J</td>\n",
       "      <td>male</td>\n",
       "      <td>NaN</td>\n",
       "      <td>1</td>\n",
       "      <td>1</td>\n",
       "      <td>2668</td>\n",
       "      <td>22.3583</td>\n",
       "      <td>NaN</td>\n",
       "      <td>C</td>\n",
       "    </tr>\n",
       "  </tbody>\n",
       "</table>\n",
       "<p>1309 rows × 12 columns</p>\n",
       "</div>"
      ],
      "text/plain": [
       "     PassengerId  Survived  Pclass  \\\n",
       "0              1       0.0       3   \n",
       "1              2       1.0       1   \n",
       "2              3       1.0       3   \n",
       "3              4       1.0       1   \n",
       "4              5       0.0       3   \n",
       "..           ...       ...     ...   \n",
       "413         1305       NaN       3   \n",
       "414         1306       NaN       1   \n",
       "415         1307       NaN       3   \n",
       "416         1308       NaN       3   \n",
       "417         1309       NaN       3   \n",
       "\n",
       "                                                  Name     Sex   Age  SibSp  \\\n",
       "0                              Braund, Mr. Owen Harris    male  22.0      1   \n",
       "1    Cumings, Mrs. John Bradley (Florence Briggs Th...  female  38.0      1   \n",
       "2                               Heikkinen, Miss. Laina  female  26.0      0   \n",
       "3         Futrelle, Mrs. Jacques Heath (Lily May Peel)  female  35.0      1   \n",
       "4                             Allen, Mr. William Henry    male  35.0      0   \n",
       "..                                                 ...     ...   ...    ...   \n",
       "413                                 Spector, Mr. Woolf    male   NaN      0   \n",
       "414                       Oliva y Ocana, Dona. Fermina  female  39.0      0   \n",
       "415                       Saether, Mr. Simon Sivertsen    male  38.5      0   \n",
       "416                                Ware, Mr. Frederick    male   NaN      0   \n",
       "417                           Peter, Master. Michael J    male   NaN      1   \n",
       "\n",
       "     Parch              Ticket      Fare Cabin Embarked  \n",
       "0        0           A/5 21171    7.2500   NaN        S  \n",
       "1        0            PC 17599   71.2833   C85        C  \n",
       "2        0    STON/O2. 3101282    7.9250   NaN        S  \n",
       "3        0              113803   53.1000  C123        S  \n",
       "4        0              373450    8.0500   NaN        S  \n",
       "..     ...                 ...       ...   ...      ...  \n",
       "413      0           A.5. 3236    8.0500   NaN        S  \n",
       "414      0            PC 17758  108.9000  C105        C  \n",
       "415      0  SOTON/O.Q. 3101262    7.2500   NaN        S  \n",
       "416      0              359309    8.0500   NaN        S  \n",
       "417      1                2668   22.3583   NaN        C  \n",
       "\n",
       "[1309 rows x 12 columns]"
      ]
     },
     "execution_count": 101,
     "metadata": {},
     "output_type": "execute_result"
    }
   ],
   "source": [
    "combined"
   ]
  },
  {
   "cell_type": "code",
   "execution_count": 102,
   "id": "22cdf1c4",
   "metadata": {
    "scrolled": true
   },
   "outputs": [
    {
     "data": {
      "text/plain": [
       "PassengerId       0\n",
       "Survived        418\n",
       "Pclass            0\n",
       "Name              0\n",
       "Sex               0\n",
       "Age             263\n",
       "SibSp             0\n",
       "Parch             0\n",
       "Ticket            0\n",
       "Fare              1\n",
       "Cabin          1014\n",
       "Embarked          2\n",
       "dtype: int64"
      ]
     },
     "execution_count": 102,
     "metadata": {},
     "output_type": "execute_result"
    }
   ],
   "source": [
    "#Check the Missing Values\n",
    "\n",
    "combined.isnull().sum()"
   ]
  },
  {
   "cell_type": "markdown",
   "id": "bd1604da",
   "metadata": {},
   "source": [
    "# Univariate Analysis"
   ]
  },
  {
   "cell_type": "code",
   "execution_count": 103,
   "id": "6cac0752",
   "metadata": {},
   "outputs": [],
   "source": [
    "numcolumns=combined.select_dtypes(include=np.number).columns"
   ]
  },
  {
   "cell_type": "code",
   "execution_count": 104,
   "id": "e53bef58",
   "metadata": {},
   "outputs": [
    {
     "data": {
      "text/plain": [
       "Index(['PassengerId', 'Survived', 'Pclass', 'Age', 'SibSp', 'Parch', 'Fare'], dtype='object')"
      ]
     },
     "execution_count": 104,
     "metadata": {},
     "output_type": "execute_result"
    }
   ],
   "source": [
    "numcolumns"
   ]
  },
  {
   "cell_type": "code",
   "execution_count": 105,
   "id": "69004903",
   "metadata": {},
   "outputs": [
    {
     "data": {
      "image/png": "[encoded data removed]",
      "text/plain": [
       "<Figure size 1080x504 with 1 Axes>"
      ]
     },
     "metadata": {
      "needs_background": "light"
     },
     "output_type": "display_data"
    }
   ],
   "source": [
    "# Age and Fare\n",
    "\n",
    "sns.distplot(combined.Age)\n",
    "plt.axvline(combined.Age.mean(),color='red')\n",
    "plt.axvline(combined.Age.median(),color='green')\n",
    "#plt.axvline(combined.Age.mode(), color='blue')  # All are unique values so no Mode\n",
    "plt.show()"
   ]
  },
  {
   "cell_type": "code",
   "execution_count": 106,
   "id": "b1ca9c0f",
   "metadata": {},
   "outputs": [
    {
     "data": {
      "text/plain": [
       "count    1046.000000\n",
       "mean       29.881138\n",
       "std        14.413493\n",
       "min         0.170000\n",
       "25%        21.000000\n",
       "50%        28.000000\n",
       "75%        39.000000\n",
       "max        80.000000\n",
       "Name: Age, dtype: float64"
      ]
     },
     "execution_count": 106,
     "metadata": {},
     "output_type": "execute_result"
    }
   ],
   "source": [
    "combined.Age.describe()"
   ]
  },
  {
   "cell_type": "code",
   "execution_count": 107,
   "id": "f65cc39c",
   "metadata": {},
   "outputs": [
    {
     "data": {
      "text/plain": [
       "count    1308.000000\n",
       "mean       33.295479\n",
       "std        51.758668\n",
       "min         0.000000\n",
       "25%         7.895800\n",
       "50%        14.454200\n",
       "75%        31.275000\n",
       "max       512.329200\n",
       "Name: Fare, dtype: float64"
      ]
     },
     "execution_count": 107,
     "metadata": {},
     "output_type": "execute_result"
    }
   ],
   "source": [
    "combined.Fare.describe()"
   ]
  },
  {
   "cell_type": "code",
   "execution_count": 108,
   "id": "1f1f6b06",
   "metadata": {},
   "outputs": [
    {
     "data": {
      "image/png": "[encoded data removed]",
      "text/plain": [
       "<Figure size 1080x504 with 1 Axes>"
      ]
     },
     "metadata": {
      "needs_background": "light"
     },
     "output_type": "display_data"
    }
   ],
   "source": [
    "# Fare\n",
    "\n",
    "sns.distplot(combined.Fare)\n",
    "plt.axvline(combined.Fare.mean(),color='red')\n",
    "plt.axvline(combined.Fare.median(),color='green')\n",
    "#plt.axvline(combined.Fare.mode(),color='blue')   \n",
    "plt.show()"
   ]
  },
  {
   "cell_type": "code",
   "execution_count": 109,
   "id": "e05824e4",
   "metadata": {},
   "outputs": [
    {
     "data": {
      "image/png": "[encoded data removed]",
      "text/plain": [
       "<Figure size 1080x504 with 1 Axes>"
      ]
     },
     "metadata": {
      "needs_background": "light"
     },
     "output_type": "display_data"
    }
   ],
   "source": [
    "#Categorial variable- TGT\n",
    "\n",
    "sns.countplot(combined.Survived)\n",
    "plt.show()\n",
    "\n",
    "#Count of People who died are more than the ones who survived"
   ]
  },
  {
   "cell_type": "code",
   "execution_count": 110,
   "id": "b9af2e87",
   "metadata": {},
   "outputs": [
    {
     "data": {
      "text/plain": [
       "0.0    549\n",
       "1.0    342\n",
       "Name: Survived, dtype: int64"
      ]
     },
     "execution_count": 110,
     "metadata": {},
     "output_type": "execute_result"
    }
   ],
   "source": [
    "combined.Survived.value_counts()"
   ]
  },
  {
   "cell_type": "code",
   "execution_count": 111,
   "id": "5e867e6e",
   "metadata": {},
   "outputs": [
    {
     "name": "stdout",
     "output_type": "stream",
     "text": [
      "<class 'pandas.core.frame.DataFrame'>\n",
      "Int64Index: 1309 entries, 0 to 417\n",
      "Data columns (total 12 columns):\n",
      " #   Column       Non-Null Count  Dtype  \n",
      "---  ------       --------------  -----  \n",
      " 0   PassengerId  1309 non-null   int64  \n",
      " 1   Survived     891 non-null    float64\n",
      " 2   Pclass       1309 non-null   int64  \n",
      " 3   Name         1309 non-null   object \n",
      " 4   Sex          1309 non-null   object \n",
      " 5   Age          1046 non-null   float64\n",
      " 6   SibSp        1309 non-null   int64  \n",
      " 7   Parch        1309 non-null   int64  \n",
      " 8   Ticket       1309 non-null   object \n",
      " 9   Fare         1308 non-null   float64\n",
      " 10  Cabin        295 non-null    object \n",
      " 11  Embarked     1307 non-null   object \n",
      "dtypes: float64(3), int64(4), object(5)\n",
      "memory usage: 165.2+ KB\n"
     ]
    }
   ],
   "source": [
    "combined.info()"
   ]
  },
  {
   "cell_type": "code",
   "execution_count": 112,
   "id": "bb3dffa4",
   "metadata": {},
   "outputs": [
    {
     "data": {
      "text/plain": [
       "<AxesSubplot:>"
      ]
     },
     "execution_count": 112,
     "metadata": {},
     "output_type": "execute_result"
    },
    {
     "data": {
      "image/png": "[encoded data removed]",
      "text/plain": [
       "<Figure size 1080x504 with 1 Axes>"
      ]
     },
     "metadata": {
      "needs_background": "light"
     },
     "output_type": "display_data"
    }
   ],
   "source": [
    "# Count of PClass\n",
    "\n",
    "combined.Pclass.value_counts().plot(kind='bar')\n",
    "\n",
    "#since we know that there were lot of passengers in Class 3\n",
    "#therefore there is a high possibility that max people who died came from class 3"
   ]
  },
  {
   "cell_type": "code",
   "execution_count": 113,
   "id": "e04b8887",
   "metadata": {},
   "outputs": [
    {
     "data": {
      "text/plain": [
       "Index(['PassengerId', 'Survived', 'Pclass', 'Name', 'Sex', 'Age', 'SibSp',\n",
       "       'Parch', 'Ticket', 'Fare', 'Cabin', 'Embarked'],\n",
       "      dtype='object')"
      ]
     },
     "execution_count": 113,
     "metadata": {},
     "output_type": "execute_result"
    }
   ],
   "source": [
    "combined.columns"
   ]
  },
  {
   "cell_type": "code",
   "execution_count": 114,
   "id": "24a2d02f",
   "metadata": {},
   "outputs": [
    {
     "data": {
      "text/plain": [
       "<AxesSubplot:>"
      ]
     },
     "execution_count": 114,
     "metadata": {},
     "output_type": "execute_result"
    },
    {
     "data": {
      "image/png": "[encoded data removed]",
      "text/plain": [
       "<Figure size 1080x504 with 1 Axes>"
      ]
     },
     "metadata": {
      "needs_background": "light"
     },
     "output_type": "display_data"
    }
   ],
   "source": [
    "# Count of Gender\n",
    "\n",
    "combined.Sex.value_counts().plot(kind='bar')\n",
    "\n",
    "# More males on the board of titanic...."
   ]
  },
  {
   "cell_type": "code",
   "execution_count": 115,
   "id": "26a40406",
   "metadata": {},
   "outputs": [
    {
     "data": {
      "text/plain": [
       "<AxesSubplot:>"
      ]
     },
     "execution_count": 115,
     "metadata": {},
     "output_type": "execute_result"
    },
    {
     "data": {
      "image/png": "[encoded data removed]",
      "text/plain": [
       "<Figure size 1080x504 with 1 Axes>"
      ]
     },
     "metadata": {
      "needs_background": "light"
     },
     "output_type": "display_data"
    }
   ],
   "source": [
    "# Count of SipSP\n",
    "\n",
    "combined.SibSp.value_counts().plot(kind='bar')\n",
    "\n",
    "# 0 represents there is minimum one passenger travelling..."
   ]
  },
  {
   "cell_type": "code",
   "execution_count": 116,
   "id": "6c7738ee",
   "metadata": {},
   "outputs": [
    {
     "data": {
      "text/html": [
       "<div>\n",
       "<style scoped>\n",
       "    .dataframe tbody tr th:only-of-type {\n",
       "        vertical-align: middle;\n",
       "    }\n",
       "\n",
       "    .dataframe tbody tr th {\n",
       "        vertical-align: top;\n",
       "    }\n",
       "\n",
       "    .dataframe thead th {\n",
       "        text-align: right;\n",
       "    }\n",
       "</style>\n",
       "<table border=\"1\" class=\"dataframe\">\n",
       "  <thead>\n",
       "    <tr style=\"text-align: right;\">\n",
       "      <th></th>\n",
       "      <th>PassengerId</th>\n",
       "      <th>Survived</th>\n",
       "      <th>Pclass</th>\n",
       "      <th>Name</th>\n",
       "      <th>Sex</th>\n",
       "      <th>Age</th>\n",
       "      <th>SibSp</th>\n",
       "      <th>Parch</th>\n",
       "      <th>Ticket</th>\n",
       "      <th>Fare</th>\n",
       "      <th>Cabin</th>\n",
       "      <th>Embarked</th>\n",
       "    </tr>\n",
       "  </thead>\n",
       "  <tbody>\n",
       "    <tr>\n",
       "      <th>0</th>\n",
       "      <td>1</td>\n",
       "      <td>0.0</td>\n",
       "      <td>3</td>\n",
       "      <td>Braund, Mr. Owen Harris</td>\n",
       "      <td>male</td>\n",
       "      <td>22.0</td>\n",
       "      <td>1</td>\n",
       "      <td>0</td>\n",
       "      <td>A/5 21171</td>\n",
       "      <td>7.2500</td>\n",
       "      <td>NaN</td>\n",
       "      <td>S</td>\n",
       "    </tr>\n",
       "    <tr>\n",
       "      <th>1</th>\n",
       "      <td>2</td>\n",
       "      <td>1.0</td>\n",
       "      <td>1</td>\n",
       "      <td>Cumings, Mrs. John Bradley (Florence Briggs Th...</td>\n",
       "      <td>female</td>\n",
       "      <td>38.0</td>\n",
       "      <td>1</td>\n",
       "      <td>0</td>\n",
       "      <td>PC 17599</td>\n",
       "      <td>71.2833</td>\n",
       "      <td>C85</td>\n",
       "      <td>C</td>\n",
       "    </tr>\n",
       "    <tr>\n",
       "      <th>2</th>\n",
       "      <td>3</td>\n",
       "      <td>1.0</td>\n",
       "      <td>3</td>\n",
       "      <td>Heikkinen, Miss. Laina</td>\n",
       "      <td>female</td>\n",
       "      <td>26.0</td>\n",
       "      <td>0</td>\n",
       "      <td>0</td>\n",
       "      <td>STON/O2. 3101282</td>\n",
       "      <td>7.9250</td>\n",
       "      <td>NaN</td>\n",
       "      <td>S</td>\n",
       "    </tr>\n",
       "    <tr>\n",
       "      <th>3</th>\n",
       "      <td>4</td>\n",
       "      <td>1.0</td>\n",
       "      <td>1</td>\n",
       "      <td>Futrelle, Mrs. Jacques Heath (Lily May Peel)</td>\n",
       "      <td>female</td>\n",
       "      <td>35.0</td>\n",
       "      <td>1</td>\n",
       "      <td>0</td>\n",
       "      <td>113803</td>\n",
       "      <td>53.1000</td>\n",
       "      <td>C123</td>\n",
       "      <td>S</td>\n",
       "    </tr>\n",
       "    <tr>\n",
       "      <th>4</th>\n",
       "      <td>5</td>\n",
       "      <td>0.0</td>\n",
       "      <td>3</td>\n",
       "      <td>Allen, Mr. William Henry</td>\n",
       "      <td>male</td>\n",
       "      <td>35.0</td>\n",
       "      <td>0</td>\n",
       "      <td>0</td>\n",
       "      <td>373450</td>\n",
       "      <td>8.0500</td>\n",
       "      <td>NaN</td>\n",
       "      <td>S</td>\n",
       "    </tr>\n",
       "  </tbody>\n",
       "</table>\n",
       "</div>"
      ],
      "text/plain": [
       "   PassengerId  Survived  Pclass  \\\n",
       "0            1       0.0       3   \n",
       "1            2       1.0       1   \n",
       "2            3       1.0       3   \n",
       "3            4       1.0       1   \n",
       "4            5       0.0       3   \n",
       "\n",
       "                                                Name     Sex   Age  SibSp  \\\n",
       "0                            Braund, Mr. Owen Harris    male  22.0      1   \n",
       "1  Cumings, Mrs. John Bradley (Florence Briggs Th...  female  38.0      1   \n",
       "2                             Heikkinen, Miss. Laina  female  26.0      0   \n",
       "3       Futrelle, Mrs. Jacques Heath (Lily May Peel)  female  35.0      1   \n",
       "4                           Allen, Mr. William Henry    male  35.0      0   \n",
       "\n",
       "   Parch            Ticket     Fare Cabin Embarked  \n",
       "0      0         A/5 21171   7.2500   NaN        S  \n",
       "1      0          PC 17599  71.2833   C85        C  \n",
       "2      0  STON/O2. 3101282   7.9250   NaN        S  \n",
       "3      0            113803  53.1000  C123        S  \n",
       "4      0            373450   8.0500   NaN        S  "
      ]
     },
     "execution_count": 116,
     "metadata": {},
     "output_type": "execute_result"
    }
   ],
   "source": [
    "combined.head()"
   ]
  },
  {
   "cell_type": "code",
   "execution_count": 117,
   "id": "bd391f29",
   "metadata": {},
   "outputs": [
    {
     "data": {
      "text/plain": [
       "<AxesSubplot:>"
      ]
     },
     "execution_count": 117,
     "metadata": {},
     "output_type": "execute_result"
    },
    {
     "data": {
      "image/png": "[encoded data removed]",
      "text/plain": [
       "<Figure size 1080x504 with 1 Axes>"
      ]
     },
     "metadata": {
      "needs_background": "light"
     },
     "output_type": "display_data"
    }
   ],
   "source": [
    "# Count of Parch\n",
    "\n",
    "combined.Parch.value_counts().plot(kind='bar')"
   ]
  },
  {
   "cell_type": "code",
   "execution_count": 118,
   "id": "e623a86d",
   "metadata": {},
   "outputs": [
    {
     "data": {
      "text/plain": [
       "array(['A/5 21171', 'PC 17599', 'STON/O2. 3101282', '113803', '373450',\n",
       "       '330877', '17463', '349909', '347742', '237736', 'PP 9549',\n",
       "       '113783', 'A/5. 2151', '347082', '350406', '248706', '382652',\n",
       "       '244373', '345763', '2649', '239865', '248698', '330923', '113788',\n",
       "       '347077', '2631', '19950', '330959', '349216', 'PC 17601',\n",
       "       'PC 17569', '335677', 'C.A. 24579', 'PC 17604', '113789', '2677',\n",
       "       'A./5. 2152', '345764', '2651', '7546', '11668', '349253',\n",
       "       'SC/Paris 2123', '330958', 'S.C./A.4. 23567', '370371', '14311',\n",
       "       '2662', '349237', '3101295', 'A/4. 39886', 'PC 17572', '2926',\n",
       "       '113509', '19947', 'C.A. 31026', '2697', 'C.A. 34651', 'CA 2144',\n",
       "       '2669', '113572', '36973', '347088', 'PC 17605', '2661',\n",
       "       'C.A. 29395', 'S.P. 3464', '3101281', '315151', 'C.A. 33111',\n",
       "       'S.O.C. 14879', '2680', '1601', '348123', '349208', '374746',\n",
       "       '248738', '364516', '345767', '345779', '330932', '113059',\n",
       "       'SO/C 14885', '3101278', 'W./C. 6608', 'SOTON/OQ 392086', '343275',\n",
       "       '343276', '347466', 'W.E.P. 5734', 'C.A. 2315', '364500', '374910',\n",
       "       'PC 17754', 'PC 17759', '231919', '244367', '349245', '349215',\n",
       "       '35281', '7540', '3101276', '349207', '343120', '312991', '349249',\n",
       "       '371110', '110465', '2665', '324669', '4136', '2627',\n",
       "       'STON/O 2. 3101294', '370369', 'PC 17558', 'A4. 54510', '27267',\n",
       "       '370372', 'C 17369', '2668', '347061', '349241',\n",
       "       'SOTON/O.Q. 3101307', 'A/5. 3337', '228414', 'C.A. 29178',\n",
       "       'SC/PARIS 2133', '11752', '7534', 'PC 17593', '2678', '347081',\n",
       "       'STON/O2. 3101279', '365222', '231945', 'C.A. 33112', '350043',\n",
       "       '230080', '244310', 'S.O.P. 1166', '113776', 'A.5. 11206',\n",
       "       'A/5. 851', 'Fa 265302', 'PC 17597', '35851', 'SOTON/OQ 392090',\n",
       "       '315037', 'CA. 2343', '371362', 'C.A. 33595', '347068', '315093',\n",
       "       '363291', '113505', 'PC 17318', '111240', 'STON/O 2. 3101280',\n",
       "       '17764', '350404', '4133', 'PC 17595', '250653', 'LINE',\n",
       "       'SC/PARIS 2131', '230136', '315153', '113767', '370365', '111428',\n",
       "       '364849', '349247', '234604', '28424', '350046', 'PC 17610',\n",
       "       '368703', '4579', '370370', '248747', '345770', '3101264', '2628',\n",
       "       'A/5 3540', '347054', '2699', '367231', '112277',\n",
       "       'SOTON/O.Q. 3101311', 'F.C.C. 13528', 'A/5 21174', '250646',\n",
       "       '367229', '35273', 'STON/O2. 3101283', '243847', '11813',\n",
       "       'W/C 14208', 'SOTON/OQ 392089', '220367', '21440', '349234',\n",
       "       '19943', 'PP 4348', 'SW/PP 751', 'A/5 21173', '236171', '347067',\n",
       "       '237442', 'C.A. 29566', 'W./C. 6609', '26707', 'C.A. 31921',\n",
       "       '28665', 'SCO/W 1585', '367230', 'W./C. 14263',\n",
       "       'STON/O 2. 3101275', '2694', '19928', '347071', '250649', '11751',\n",
       "       '244252', '362316', '113514', 'A/5. 3336', '370129', '2650',\n",
       "       'PC 17585', '110152', 'PC 17755', '230433', '384461', '110413',\n",
       "       '112059', '382649', 'C.A. 17248', '347083', 'PC 17582', 'PC 17760',\n",
       "       '113798', '250644', 'PC 17596', '370375', '13502', '347073',\n",
       "       '239853', 'C.A. 2673', '336439', '347464', '345778', 'A/5. 10482',\n",
       "       '113056', '349239', '345774', '349206', '237798', '370373',\n",
       "       '19877', '11967', 'SC/Paris 2163', '349236', '349233', 'PC 17612',\n",
       "       '2693', '113781', '19988', '9234', '367226', '226593', 'A/5 2466',\n",
       "       '17421', 'PC 17758', 'P/PP 3381', 'PC 17485', '11767', 'PC 17608',\n",
       "       '250651', '349243', 'F.C.C. 13529', '347470', '29011', '36928',\n",
       "       '16966', 'A/5 21172', '349219', '234818', '345364', '28551',\n",
       "       '111361', '113043', 'PC 17611', '349225', '7598', '113784',\n",
       "       '248740', '244361', '229236', '248733', '31418', '386525',\n",
       "       'C.A. 37671', '315088', '7267', '113510', '2695', '2647', '345783',\n",
       "       '237671', '330931', '330980', 'SC/PARIS 2167', '2691',\n",
       "       'SOTON/O.Q. 3101310', 'C 7076', '110813', '2626', '14313',\n",
       "       'PC 17477', '11765', '3101267', '323951', 'C 7077', '113503',\n",
       "       '2648', '347069', 'PC 17757', '2653', 'STON/O 2. 3101293',\n",
       "       '349227', '27849', '367655', 'SC 1748', '113760', '350034',\n",
       "       '3101277', '350052', '350407', '28403', '244278', '240929',\n",
       "       'STON/O 2. 3101289', '341826', '4137', '315096', '28664', '347064',\n",
       "       '29106', '312992', '349222', '394140', 'STON/O 2. 3101269',\n",
       "       '343095', '28220', '250652', '28228', '345773', '349254',\n",
       "       'A/5. 13032', '315082', '347080', 'A/4. 34244', '2003', '250655',\n",
       "       '364851', 'SOTON/O.Q. 392078', '110564', '376564', 'SC/AH 3085',\n",
       "       'STON/O 2. 3101274', '13507', 'C.A. 18723', '345769', '347076',\n",
       "       '230434', '65306', '33638', '113794', '2666', '113786', '65303',\n",
       "       '113051', '17453', 'A/5 2817', '349240', '13509', '17464',\n",
       "       'F.C.C. 13531', '371060', '19952', '364506', '111320', '234360',\n",
       "       'A/S 2816', 'SOTON/O.Q. 3101306', '113792', '36209', '323592',\n",
       "       '315089', 'SC/AH Basle 541', '7553', '31027', '3460', '350060',\n",
       "       '3101298', '239854', 'A/5 3594', '4134', '11771', 'A.5. 18509',\n",
       "       '65304', 'SOTON/OQ 3101317', '113787', 'PC 17609', 'A/4 45380',\n",
       "       '36947', 'C.A. 6212', '350035', '315086', '364846', '330909',\n",
       "       '4135', '26360', '111427', 'C 4001', '382651', 'SOTON/OQ 3101316',\n",
       "       'PC 17473', 'PC 17603', '349209', '36967', 'C.A. 34260', '226875',\n",
       "       '349242', '12749', '349252', '2624', '2700', '367232',\n",
       "       'W./C. 14258', 'PC 17483', '3101296', '29104', '2641', '2690',\n",
       "       '315084', '113050', 'PC 17761', '364498', '13568', 'WE/P 5735',\n",
       "       '2908', '693', 'SC/PARIS 2146', '244358', '330979', '2620',\n",
       "       '347085', '113807', '11755', '345572', '372622', '349251',\n",
       "       '218629', 'SOTON/OQ 392082', 'SOTON/O.Q. 392087', 'A/4 48871',\n",
       "       '349205', '2686', '350417', 'S.W./PP 752', '11769', 'PC 17474',\n",
       "       '14312', 'A/4. 20589', '358585', '243880', '2689',\n",
       "       'STON/O 2. 3101286', '237789', '13049', '3411', '237565', '13567',\n",
       "       '14973', 'A./5. 3235', 'STON/O 2. 3101273', 'A/5 3902', '364848',\n",
       "       'SC/AH 29037', '248727', '2664', '349214', '113796', '364511',\n",
       "       '111426', '349910', '349246', '113804', 'SOTON/O.Q. 3101305',\n",
       "       '370377', '364512', '220845', '31028', '2659', '11753', '350029',\n",
       "       '54636', '36963', '219533', '349224', '334912', '27042', '347743',\n",
       "       '13214', '112052', '237668', 'STON/O 2. 3101292', '350050',\n",
       "       '349231', '13213', 'S.O./P.P. 751', 'CA. 2314', '349221', '8475',\n",
       "       '330919', '365226', '349223', '29751', '2623', '5727', '349210',\n",
       "       'STON/O 2. 3101285', '234686', '312993', 'A/5 3536', '19996',\n",
       "       '29750', 'F.C. 12750', 'C.A. 24580', '244270', '239856', '349912',\n",
       "       '342826', '4138', '330935', '6563', '349228', '350036', '24160',\n",
       "       '17474', '349256', '2672', '113800', '248731', '363592', '35852',\n",
       "       '348121', 'PC 17475', '36864', '350025', '223596', 'PC 17476',\n",
       "       'PC 17482', '113028', '7545', '250647', '348124', '34218', '36568',\n",
       "       '347062', '350048', '12233', '250643', '113806', '315094', '36866',\n",
       "       '236853', 'STON/O2. 3101271', '239855', '28425', '233639',\n",
       "       '349201', '349218', '16988', '376566', 'STON/O 2. 3101288',\n",
       "       '250648', '113773', '335097', '29103', '392096', '345780',\n",
       "       '349204', '350042', '29108', '363294', 'SOTON/O2 3101272', '2663',\n",
       "       '347074', '112379', '364850', '8471', '345781', '350047',\n",
       "       'S.O./P.P. 3', '2674', '29105', '347078', '383121', '36865',\n",
       "       '2687', '113501', 'W./C. 6607', 'SOTON/O.Q. 3101312', '374887',\n",
       "       '3101265', '12460', 'PC 17600', '349203', '28213', '17465',\n",
       "       '349244', '2685', '2625', '347089', '347063', '112050', '347087',\n",
       "       '248723', '3474', '28206', '364499', '112058', 'STON/O2. 3101290',\n",
       "       'S.C./PARIS 2079', 'C 7075', '315098', '19972', '368323', '367228',\n",
       "       '2671', '347468', '2223', 'PC 17756', '315097', '392092', '11774',\n",
       "       'SOTON/O2 3101287', '2683', '315090', 'C.A. 5547', '349213',\n",
       "       '347060', 'PC 17592', '392091', '113055', '2629', '350026',\n",
       "       '28134', '17466', '233866', '236852', 'SC/PARIS 2149', 'PC 17590',\n",
       "       '345777', '349248', '695', '345765', '2667', '349212', '349217',\n",
       "       '349257', '7552', 'C.A./SOTON 34068', 'SOTON/OQ 392076', '211536',\n",
       "       '112053', '111369', '370376', '330911', '363272', '240276',\n",
       "       '315154', '7538', '330972', '2657', '349220', '694', '21228',\n",
       "       '24065', '233734', '2692', 'STON/O2. 3101270', '2696', 'C 17368',\n",
       "       'PC 17598', '2698', '113054', 'C.A. 31029', '13236', '2682',\n",
       "       '342712', '315087', '345768', '113778', 'SOTON/O.Q. 3101263',\n",
       "       '237249', 'STON/O 2. 3101291', 'PC 17594', '370374', '13695',\n",
       "       'SC/PARIS 2168', 'SC/A.3 2861', '349230', '348122', '349232',\n",
       "       '237216', '347090', '334914', 'F.C.C. 13534', '330963', '2543',\n",
       "       '382653', '349211', '3101297', 'PC 17562', '359306', '11770',\n",
       "       '248744', '368702', '19924', '349238', '240261', '2660', '330844',\n",
       "       'A/4 31416', '364856', '347072', '345498', '376563', '13905',\n",
       "       '350033', 'STON/O 2. 3101268', '347471', 'A./5. 3338', '11778',\n",
       "       '365235', '347070', '330920', '383162', '3410', '248734', '237734',\n",
       "       '330968', 'PC 17531', '329944', '2681', '13050', '367227',\n",
       "       '392095', '368783', '350045', '211535', '342441',\n",
       "       'STON/OQ. 369943', '113780', '2621', '349226', '350409', '2656',\n",
       "       '248659', 'SOTON/OQ 392083', '17475', 'SC/A4 23568', '113791',\n",
       "       '349255', '3701', '350405', 'S.O./P.P. 752', '347469', '110489',\n",
       "       'SOTON/O.Q. 3101315', '335432', '220844', '343271', '237393',\n",
       "       'PC 17591', '17770', '7548', 'S.O./P.P. 251', '2670', '2673',\n",
       "       '233478', '7935', '239059', 'S.O./P.P. 2', 'A/4 48873', '28221',\n",
       "       '111163', '235509', '347465', '347066', 'C.A. 31030', '65305',\n",
       "       'C.A. 34050', 'F.C. 12998', '9232', '28034', 'PC 17613', '349250',\n",
       "       'SOTON/O.Q. 3101308', '347091', '113038', '330924', '32302',\n",
       "       'SC/PARIS 2148', '342684', 'W./C. 14266', '350053', 'PC 17606',\n",
       "       '350054', '370368', '242963', '113795', '3101266', '330971',\n",
       "       '350416', '2679', '250650', '112377', '3470', 'SOTON/O2 3101284',\n",
       "       '13508', '7266', '345775', 'C.A. 42795', 'AQ/4 3130', '363611',\n",
       "       '28404', '345501', '350410', 'C.A. 34644', '349235', '112051',\n",
       "       'C.A. 49867', 'A. 2. 39186', '315095', '368573', '2676',\n",
       "       'SC 14888', 'CA 31352', 'W./C. 14260', '315085', '364859',\n",
       "       'A/5 21175', 'SOTON/O.Q. 3101314', '2655', 'A/5 1478', 'PC 17607',\n",
       "       '382650', '2652', '345771', '349202', '113801', '347467', '347079',\n",
       "       '237735', '315092', '383123', '112901', '315091', '2658',\n",
       "       'LP 1588', '368364', 'AQ/3. 30631', '28004', '350408', '347075',\n",
       "       '2654', '244368', '113790', 'SOTON/O.Q. 3101309', '236854',\n",
       "       'PC 17580', '2684', '349229', '110469', '244360', '2675', '2622',\n",
       "       'C.A. 15185', '350403', '348125', '237670', '2688', '248726',\n",
       "       'F.C.C. 13540', '113044', '1222', '368402', '315083', '112378',\n",
       "       'SC/PARIS 2147', '28133', '248746', '315152', '29107', '680',\n",
       "       '366713', '330910', 'SC/PARIS 2159', '349911', '244346', '364858',\n",
       "       'C.A. 30769', '371109', '347065', '21332', '17765',\n",
       "       'SC/PARIS 2166', '28666', '334915', '365237', '347086',\n",
       "       'A.5. 3236', 'SOTON/O.Q. 3101262', '359309'], dtype=object)"
      ]
     },
     "execution_count": 118,
     "metadata": {},
     "output_type": "execute_result"
    }
   ],
   "source": [
    "combined.Ticket.unique()"
   ]
  },
  {
   "cell_type": "code",
   "execution_count": 119,
   "id": "7a7a40f6",
   "metadata": {},
   "outputs": [
    {
     "data": {
      "text/plain": [
       "CA. 2343        11\n",
       "CA 2144          8\n",
       "1601             8\n",
       "PC 17608         7\n",
       "S.O.C. 14879     7\n",
       "                ..\n",
       "113792           1\n",
       "36209            1\n",
       "323592           1\n",
       "315089           1\n",
       "359309           1\n",
       "Name: Ticket, Length: 929, dtype: int64"
      ]
     },
     "execution_count": 119,
     "metadata": {},
     "output_type": "execute_result"
    }
   ],
   "source": [
    "combined.Ticket.value_counts()"
   ]
  },
  {
   "cell_type": "code",
   "execution_count": 120,
   "id": "dfda40ce",
   "metadata": {},
   "outputs": [
    {
     "data": {
      "text/plain": [
       "array([nan, 'C85', 'C123', 'E46', 'G6', 'C103', 'D56', 'A6',\n",
       "       'C23 C25 C27', 'B78', 'D33', 'B30', 'C52', 'B28', 'C83', 'F33',\n",
       "       'F G73', 'E31', 'A5', 'D10 D12', 'D26', 'C110', 'B58 B60', 'E101',\n",
       "       'F E69', 'D47', 'B86', 'F2', 'C2', 'E33', 'B19', 'A7', 'C49', 'F4',\n",
       "       'A32', 'B4', 'B80', 'A31', 'D36', 'D15', 'C93', 'C78', 'D35',\n",
       "       'C87', 'B77', 'E67', 'B94', 'C125', 'C99', 'C118', 'D7', 'A19',\n",
       "       'B49', 'D', 'C22 C26', 'C106', 'C65', 'E36', 'C54',\n",
       "       'B57 B59 B63 B66', 'C7', 'E34', 'C32', 'B18', 'C124', 'C91', 'E40',\n",
       "       'T', 'C128', 'D37', 'B35', 'E50', 'C82', 'B96 B98', 'E10', 'E44',\n",
       "       'A34', 'C104', 'C111', 'C92', 'E38', 'D21', 'E12', 'E63', 'A14',\n",
       "       'B37', 'C30', 'D20', 'B79', 'E25', 'D46', 'B73', 'C95', 'B38',\n",
       "       'B39', 'B22', 'C86', 'C70', 'A16', 'C101', 'C68', 'A10', 'E68',\n",
       "       'B41', 'A20', 'D19', 'D50', 'D9', 'A23', 'B50', 'A26', 'D48',\n",
       "       'E58', 'C126', 'B71', 'B51 B53 B55', 'D49', 'B5', 'B20', 'F G63',\n",
       "       'C62 C64', 'E24', 'C90', 'C45', 'E8', 'B101', 'D45', 'C46', 'D30',\n",
       "       'E121', 'D11', 'E77', 'F38', 'B3', 'D6', 'B82 B84', 'D17', 'A36',\n",
       "       'B102', 'B69', 'E49', 'C47', 'D28', 'E17', 'A24', 'C50', 'B42',\n",
       "       'C148', 'B45', 'B36', 'A21', 'D34', 'A9', 'C31', 'B61', 'C53',\n",
       "       'D43', 'C130', 'C132', 'C55 C57', 'C116', 'F', 'A29', 'C6', 'C28',\n",
       "       'C51', 'C97', 'D22', 'B10', 'E45', 'E52', 'A11', 'B11', 'C80',\n",
       "       'C89', 'F E46', 'B26', 'F E57', 'A18', 'E60', 'E39 E41',\n",
       "       'B52 B54 B56', 'C39', 'B24', 'D40', 'D38', 'C105'], dtype=object)"
      ]
     },
     "execution_count": 120,
     "metadata": {},
     "output_type": "execute_result"
    }
   ],
   "source": [
    "combined.Cabin.unique()"
   ]
  },
  {
   "cell_type": "code",
   "execution_count": 121,
   "id": "22751ae5",
   "metadata": {},
   "outputs": [
    {
     "data": {
      "text/plain": [
       "C23 C25 C27        6\n",
       "G6                 5\n",
       "B57 B59 B63 B66    5\n",
       "C22 C26            4\n",
       "F33                4\n",
       "                  ..\n",
       "A14                1\n",
       "E63                1\n",
       "E12                1\n",
       "E38                1\n",
       "C105               1\n",
       "Name: Cabin, Length: 186, dtype: int64"
      ]
     },
     "execution_count": 121,
     "metadata": {},
     "output_type": "execute_result"
    }
   ],
   "source": [
    "# Cabin\n",
    "\n",
    "combined.Cabin.value_counts()"
   ]
  },
  {
   "cell_type": "code",
   "execution_count": 122,
   "id": "d6dba5df",
   "metadata": {},
   "outputs": [
    {
     "data": {
      "text/plain": [
       "1014"
      ]
     },
     "execution_count": 122,
     "metadata": {},
     "output_type": "execute_result"
    }
   ],
   "source": [
    "combined.Cabin.isnull().sum()"
   ]
  },
  {
   "cell_type": "code",
   "execution_count": 123,
   "id": "e0f21ec6",
   "metadata": {},
   "outputs": [
    {
     "data": {
      "text/plain": [
       "(1309, 12)"
      ]
     },
     "execution_count": 123,
     "metadata": {},
     "output_type": "execute_result"
    }
   ],
   "source": [
    "combined.shape"
   ]
  },
  {
   "cell_type": "code",
   "execution_count": 124,
   "id": "a6f23dbb",
   "metadata": {},
   "outputs": [
    {
     "data": {
      "text/plain": [
       "<AxesSubplot:>"
      ]
     },
     "execution_count": 124,
     "metadata": {},
     "output_type": "execute_result"
    },
    {
     "data": {
      "image/png": "[encoded data removed]",
      "text/plain": [
       "<Figure size 1080x504 with 1 Axes>"
      ]
     },
     "metadata": {
      "needs_background": "light"
     },
     "output_type": "display_data"
    }
   ],
   "source": [
    "# Embarked\n",
    "#C=Cherbourg , Q=Queenstown , S=Southampton\n",
    "\n",
    "combined.Embarked.value_counts().plot(kind='bar')\n",
    "\n",
    "# lot of people boarded the ship from Southampton"
   ]
  },
  {
   "cell_type": "code",
   "execution_count": 125,
   "id": "f65ff191",
   "metadata": {},
   "outputs": [
    {
     "name": "stdout",
     "output_type": "stream",
     "text": [
      "<class 'pandas.core.frame.DataFrame'>\n",
      "Int64Index: 1309 entries, 0 to 417\n",
      "Data columns (total 12 columns):\n",
      " #   Column       Non-Null Count  Dtype  \n",
      "---  ------       --------------  -----  \n",
      " 0   PassengerId  1309 non-null   int64  \n",
      " 1   Survived     891 non-null    float64\n",
      " 2   Pclass       1309 non-null   int64  \n",
      " 3   Name         1309 non-null   object \n",
      " 4   Sex          1309 non-null   object \n",
      " 5   Age          1046 non-null   float64\n",
      " 6   SibSp        1309 non-null   int64  \n",
      " 7   Parch        1309 non-null   int64  \n",
      " 8   Ticket       1309 non-null   object \n",
      " 9   Fare         1308 non-null   float64\n",
      " 10  Cabin        295 non-null    object \n",
      " 11  Embarked     1307 non-null   object \n",
      "dtypes: float64(3), int64(4), object(5)\n",
      "memory usage: 165.2+ KB\n"
     ]
    }
   ],
   "source": [
    "combined.info()"
   ]
  },
  {
   "cell_type": "markdown",
   "id": "318fef54",
   "metadata": {},
   "source": [
    "# Bivariate\n"
   ]
  },
  {
   "cell_type": "code",
   "execution_count": 126,
   "id": "6fb65372",
   "metadata": {},
   "outputs": [
    {
     "data": {
      "text/plain": [
       "Index(['PassengerId', 'Survived', 'Pclass', 'Name', 'Sex', 'Age', 'SibSp',\n",
       "       'Parch', 'Ticket', 'Fare', 'Cabin', 'Embarked'],\n",
       "      dtype='object')"
      ]
     },
     "execution_count": 126,
     "metadata": {},
     "output_type": "execute_result"
    }
   ],
   "source": [
    "combined.columns"
   ]
  },
  {
   "cell_type": "code",
   "execution_count": 127,
   "id": "bf8041b2",
   "metadata": {},
   "outputs": [
    {
     "data": {
      "image/png": "[encoded data removed]",
      "text/plain": [
       "<Figure size 1080x504 with 1 Axes>"
      ]
     },
     "metadata": {
      "needs_background": "light"
     },
     "output_type": "display_data"
    }
   ],
   "source": [
    "#Age vs Survived\n",
    "sns.boxplot(x='Survived',y='Age',data=combined)\n",
    "plt.show()\n",
    "\n",
    "#People who did not survive have the higher range of Age values.\n",
    "# We also notice that a passenger with the age of 80 survived."
   ]
  },
  {
   "cell_type": "code",
   "execution_count": 128,
   "id": "3f50b696",
   "metadata": {},
   "outputs": [
    {
     "data": {
      "text/html": [
       "<div>\n",
       "<style scoped>\n",
       "    .dataframe tbody tr th:only-of-type {\n",
       "        vertical-align: middle;\n",
       "    }\n",
       "\n",
       "    .dataframe tbody tr th {\n",
       "        vertical-align: top;\n",
       "    }\n",
       "\n",
       "    .dataframe thead th {\n",
       "        text-align: right;\n",
       "    }\n",
       "</style>\n",
       "<table border=\"1\" class=\"dataframe\">\n",
       "  <thead>\n",
       "    <tr style=\"text-align: right;\">\n",
       "      <th></th>\n",
       "      <th>count</th>\n",
       "      <th>mean</th>\n",
       "      <th>std</th>\n",
       "      <th>min</th>\n",
       "      <th>25%</th>\n",
       "      <th>50%</th>\n",
       "      <th>75%</th>\n",
       "      <th>max</th>\n",
       "    </tr>\n",
       "    <tr>\n",
       "      <th>Survived</th>\n",
       "      <th></th>\n",
       "      <th></th>\n",
       "      <th></th>\n",
       "      <th></th>\n",
       "      <th></th>\n",
       "      <th></th>\n",
       "      <th></th>\n",
       "      <th></th>\n",
       "    </tr>\n",
       "  </thead>\n",
       "  <tbody>\n",
       "    <tr>\n",
       "      <th>0.0</th>\n",
       "      <td>424.0</td>\n",
       "      <td>30.626179</td>\n",
       "      <td>14.172110</td>\n",
       "      <td>1.00</td>\n",
       "      <td>21.0</td>\n",
       "      <td>28.0</td>\n",
       "      <td>39.0</td>\n",
       "      <td>74.0</td>\n",
       "    </tr>\n",
       "    <tr>\n",
       "      <th>1.0</th>\n",
       "      <td>290.0</td>\n",
       "      <td>28.343690</td>\n",
       "      <td>14.950952</td>\n",
       "      <td>0.42</td>\n",
       "      <td>19.0</td>\n",
       "      <td>28.0</td>\n",
       "      <td>36.0</td>\n",
       "      <td>80.0</td>\n",
       "    </tr>\n",
       "  </tbody>\n",
       "</table>\n",
       "</div>"
      ],
      "text/plain": [
       "          count       mean        std   min   25%   50%   75%   max\n",
       "Survived                                                           \n",
       "0.0       424.0  30.626179  14.172110  1.00  21.0  28.0  39.0  74.0\n",
       "1.0       290.0  28.343690  14.950952  0.42  19.0  28.0  36.0  80.0"
      ]
     },
     "execution_count": 128,
     "metadata": {},
     "output_type": "execute_result"
    }
   ],
   "source": [
    "# Find the Statistical Summary\n",
    "combined.groupby(\"Survived\")[\"Age\"].describe()"
   ]
  },
  {
   "cell_type": "code",
   "execution_count": 129,
   "id": "8b8a09cf",
   "metadata": {},
   "outputs": [
    {
     "data": {
      "text/html": [
       "<div>\n",
       "<style scoped>\n",
       "    .dataframe tbody tr th:only-of-type {\n",
       "        vertical-align: middle;\n",
       "    }\n",
       "\n",
       "    .dataframe tbody tr th {\n",
       "        vertical-align: top;\n",
       "    }\n",
       "\n",
       "    .dataframe thead th {\n",
       "        text-align: right;\n",
       "    }\n",
       "</style>\n",
       "<table border=\"1\" class=\"dataframe\">\n",
       "  <thead>\n",
       "    <tr style=\"text-align: right;\">\n",
       "      <th></th>\n",
       "      <th>count</th>\n",
       "      <th>mean</th>\n",
       "      <th>std</th>\n",
       "      <th>min</th>\n",
       "      <th>25%</th>\n",
       "      <th>50%</th>\n",
       "      <th>75%</th>\n",
       "      <th>max</th>\n",
       "    </tr>\n",
       "    <tr>\n",
       "      <th>Survived</th>\n",
       "      <th></th>\n",
       "      <th></th>\n",
       "      <th></th>\n",
       "      <th></th>\n",
       "      <th></th>\n",
       "      <th></th>\n",
       "      <th></th>\n",
       "      <th></th>\n",
       "    </tr>\n",
       "  </thead>\n",
       "  <tbody>\n",
       "    <tr>\n",
       "      <th>0.0</th>\n",
       "      <td>549.0</td>\n",
       "      <td>22.117887</td>\n",
       "      <td>31.388207</td>\n",
       "      <td>0.0</td>\n",
       "      <td>7.8542</td>\n",
       "      <td>10.5</td>\n",
       "      <td>26.0</td>\n",
       "      <td>263.0000</td>\n",
       "    </tr>\n",
       "    <tr>\n",
       "      <th>1.0</th>\n",
       "      <td>342.0</td>\n",
       "      <td>48.395408</td>\n",
       "      <td>66.596998</td>\n",
       "      <td>0.0</td>\n",
       "      <td>12.4750</td>\n",
       "      <td>26.0</td>\n",
       "      <td>57.0</td>\n",
       "      <td>512.3292</td>\n",
       "    </tr>\n",
       "  </tbody>\n",
       "</table>\n",
       "</div>"
      ],
      "text/plain": [
       "          count       mean        std  min      25%   50%   75%       max\n",
       "Survived                                                                 \n",
       "0.0       549.0  22.117887  31.388207  0.0   7.8542  10.5  26.0  263.0000\n",
       "1.0       342.0  48.395408  66.596998  0.0  12.4750  26.0  57.0  512.3292"
      ]
     },
     "execution_count": 129,
     "metadata": {},
     "output_type": "execute_result"
    }
   ],
   "source": [
    "# Fare vs Survived\n",
    "combined.groupby(\"Survived\")[\"Fare\"].describe()\n",
    "\n",
    "# The people who survived paid more fare"
   ]
  },
  {
   "cell_type": "code",
   "execution_count": 130,
   "id": "8e5f8f4c",
   "metadata": {},
   "outputs": [
    {
     "data": {
      "text/html": [
       "<div>\n",
       "<style scoped>\n",
       "    .dataframe tbody tr th:only-of-type {\n",
       "        vertical-align: middle;\n",
       "    }\n",
       "\n",
       "    .dataframe tbody tr th {\n",
       "        vertical-align: top;\n",
       "    }\n",
       "\n",
       "    .dataframe thead th {\n",
       "        text-align: right;\n",
       "    }\n",
       "</style>\n",
       "<table border=\"1\" class=\"dataframe\">\n",
       "  <thead>\n",
       "    <tr style=\"text-align: right;\">\n",
       "      <th>Survived</th>\n",
       "      <th>0.0</th>\n",
       "      <th>1.0</th>\n",
       "    </tr>\n",
       "    <tr>\n",
       "      <th>Pclass</th>\n",
       "      <th></th>\n",
       "      <th></th>\n",
       "    </tr>\n",
       "  </thead>\n",
       "  <tbody>\n",
       "    <tr>\n",
       "      <th>1</th>\n",
       "      <td>80</td>\n",
       "      <td>136</td>\n",
       "    </tr>\n",
       "    <tr>\n",
       "      <th>2</th>\n",
       "      <td>97</td>\n",
       "      <td>87</td>\n",
       "    </tr>\n",
       "    <tr>\n",
       "      <th>3</th>\n",
       "      <td>372</td>\n",
       "      <td>119</td>\n",
       "    </tr>\n",
       "  </tbody>\n",
       "</table>\n",
       "</div>"
      ],
      "text/plain": [
       "Survived  0.0  1.0\n",
       "Pclass            \n",
       "1          80  136\n",
       "2          97   87\n",
       "3         372  119"
      ]
     },
     "execution_count": 130,
     "metadata": {},
     "output_type": "execute_result"
    }
   ],
   "source": [
    "# Cat vs Cat\n",
    "\n",
    "# Survived vs PClass\n",
    "tbl=pd.crosstab(combined.Pclass,combined.Survived)\n",
    "tbl"
   ]
  },
  {
   "cell_type": "code",
   "execution_count": 131,
   "id": "25894642",
   "metadata": {},
   "outputs": [
    {
     "data": {
      "image/png": "[encoded data removed]",
      "text/plain": [
       "<Figure size 1080x504 with 1 Axes>"
      ]
     },
     "metadata": {
      "needs_background": "light"
     },
     "output_type": "display_data"
    }
   ],
   "source": [
    "tbl.plot(kind='bar')\n",
    "plt.show()\n",
    "\n",
    "#Most of the people who died came from class 3"
   ]
  },
  {
   "cell_type": "code",
   "execution_count": 132,
   "id": "fb35484a",
   "metadata": {},
   "outputs": [
    {
     "data": {
      "text/plain": [
       "<AxesSubplot:xlabel='Sex'>"
      ]
     },
     "execution_count": 132,
     "metadata": {},
     "output_type": "execute_result"
    },
    {
     "data": {
      "image/png": "[encoded data removed]",
      "text/plain": [
       "<Figure size 1080x504 with 1 Axes>"
      ]
     },
     "metadata": {
      "needs_background": "light"
     },
     "output_type": "display_data"
    }
   ],
   "source": [
    "# Gender vs Survived\n",
    "\n",
    "tbl=pd.crosstab(combined.Sex,combined.Survived)\n",
    "tbl.plot(kind='bar')"
   ]
  },
  {
   "cell_type": "code",
   "execution_count": 133,
   "id": "c3e53d94",
   "metadata": {},
   "outputs": [
    {
     "data": {
      "text/plain": [
       "<AxesSubplot:xlabel='Survived'>"
      ]
     },
     "execution_count": 133,
     "metadata": {},
     "output_type": "execute_result"
    },
    {
     "data": {
      "image/png": "[encoded data removed]",
      "text/plain": [
       "<Figure size 1080x504 with 1 Axes>"
      ]
     },
     "metadata": {
      "needs_background": "light"
     },
     "output_type": "display_data"
    }
   ],
   "source": [
    "# Sibsp vs Survived\n",
    "\n",
    "tbl=pd.crosstab(combined.Survived,combined.SibSp)\n",
    "tbl.plot(kind='bar')\n",
    "\n"
   ]
  },
  {
   "cell_type": "code",
   "execution_count": 134,
   "id": "ac520bfa",
   "metadata": {},
   "outputs": [],
   "source": [
    "# Create a new feature called Family\n",
    "combined[\"Family\"]=combined.SibSp+combined.Parch+1"
   ]
  },
  {
   "cell_type": "code",
   "execution_count": 135,
   "id": "e7e29d82",
   "metadata": {},
   "outputs": [
    {
     "data": {
      "text/plain": [
       "<AxesSubplot:xlabel='Family'>"
      ]
     },
     "execution_count": 135,
     "metadata": {},
     "output_type": "execute_result"
    },
    {
     "data": {
      "image/png": "[encoded data removed]",
      "text/plain": [
       "<Figure size 1080x504 with 1 Axes>"
      ]
     },
     "metadata": {
      "needs_background": "light"
     },
     "output_type": "display_data"
    }
   ],
   "source": [
    "# Family vs Survived\n",
    "\n",
    "tbl=pd.crosstab(combined.Family,combined.Survived)\n",
    "tbl.plot(kind='bar')\n",
    "\n",
    "# Larger families has a very low chance of survival..."
   ]
  },
  {
   "cell_type": "code",
   "execution_count": null,
   "id": "4bec8a5a",
   "metadata": {},
   "outputs": [],
   "source": []
  },
  {
   "cell_type": "code",
   "execution_count": 136,
   "id": "8e48bcb7",
   "metadata": {},
   "outputs": [
    {
     "data": {
      "text/plain": [
       "<AxesSubplot:xlabel='Cabin'>"
      ]
     },
     "execution_count": 136,
     "metadata": {},
     "output_type": "execute_result"
    },
    {
     "data": {
      "image/png": "[encoded data removed]",
      "text/plain": [
       "<Figure size 1080x504 with 1 Axes>"
      ]
     },
     "metadata": {
      "needs_background": "light"
     },
     "output_type": "display_data"
    }
   ],
   "source": [
    "# Cabin vs Survived\n",
    "\n",
    "tbl=pd.crosstab(combined.Cabin,combined.Survived)\n",
    "tbl.plot(kind='bar')"
   ]
  },
  {
   "cell_type": "code",
   "execution_count": 137,
   "id": "5f535c18",
   "metadata": {},
   "outputs": [
    {
     "data": {
      "text/plain": [
       "<AxesSubplot:xlabel='Embarked'>"
      ]
     },
     "execution_count": 137,
     "metadata": {},
     "output_type": "execute_result"
    },
    {
     "data": {
      "image/png": "[encoded data removed]",
      "text/plain": [
       "<Figure size 1080x504 with 1 Axes>"
      ]
     },
     "metadata": {
      "needs_background": "light"
     },
     "output_type": "display_data"
    }
   ],
   "source": [
    "# Embarked vs Survived\n",
    "\n",
    "tbl=pd.crosstab(combined.Embarked,combined.Survived)\n",
    "tbl.plot(kind='bar')"
   ]
  },
  {
   "cell_type": "markdown",
   "id": "9e35851c",
   "metadata": {},
   "source": [
    "### Inferences\n",
    "\n",
    "* People from Southampton and Cherbourg have better chance of Survival.\n",
    "* Passengers from Class 1 have a better survival possibility.\n",
    "* The people who survived paid more than the rest.\n",
    "* Most of casualities belonged to Male Passengers.\n",
    "* Larger families have a lower survival ratio.\n",
    "* Older people have a lesser chance of survival."
   ]
  },
  {
   "cell_type": "markdown",
   "id": "484db8ac",
   "metadata": {},
   "source": [
    "# Feature Engineering"
   ]
  },
  {
   "cell_type": "code",
   "execution_count": 138,
   "id": "2dcf75b3",
   "metadata": {},
   "outputs": [],
   "source": [
    "# Cabin\n",
    "cabins=combined.Cabin.unique()"
   ]
  },
  {
   "cell_type": "code",
   "execution_count": 139,
   "id": "08d2c735",
   "metadata": {},
   "outputs": [
    {
     "data": {
      "text/plain": [
       "array([nan, 'C85', 'C123', 'E46', 'G6', 'C103', 'D56', 'A6',\n",
       "       'C23 C25 C27', 'B78', 'D33', 'B30', 'C52', 'B28', 'C83', 'F33',\n",
       "       'F G73', 'E31', 'A5', 'D10 D12', 'D26', 'C110', 'B58 B60', 'E101',\n",
       "       'F E69', 'D47', 'B86', 'F2', 'C2', 'E33', 'B19', 'A7', 'C49', 'F4',\n",
       "       'A32', 'B4', 'B80', 'A31', 'D36', 'D15', 'C93', 'C78', 'D35',\n",
       "       'C87', 'B77', 'E67', 'B94', 'C125', 'C99', 'C118', 'D7', 'A19',\n",
       "       'B49', 'D', 'C22 C26', 'C106', 'C65', 'E36', 'C54',\n",
       "       'B57 B59 B63 B66', 'C7', 'E34', 'C32', 'B18', 'C124', 'C91', 'E40',\n",
       "       'T', 'C128', 'D37', 'B35', 'E50', 'C82', 'B96 B98', 'E10', 'E44',\n",
       "       'A34', 'C104', 'C111', 'C92', 'E38', 'D21', 'E12', 'E63', 'A14',\n",
       "       'B37', 'C30', 'D20', 'B79', 'E25', 'D46', 'B73', 'C95', 'B38',\n",
       "       'B39', 'B22', 'C86', 'C70', 'A16', 'C101', 'C68', 'A10', 'E68',\n",
       "       'B41', 'A20', 'D19', 'D50', 'D9', 'A23', 'B50', 'A26', 'D48',\n",
       "       'E58', 'C126', 'B71', 'B51 B53 B55', 'D49', 'B5', 'B20', 'F G63',\n",
       "       'C62 C64', 'E24', 'C90', 'C45', 'E8', 'B101', 'D45', 'C46', 'D30',\n",
       "       'E121', 'D11', 'E77', 'F38', 'B3', 'D6', 'B82 B84', 'D17', 'A36',\n",
       "       'B102', 'B69', 'E49', 'C47', 'D28', 'E17', 'A24', 'C50', 'B42',\n",
       "       'C148', 'B45', 'B36', 'A21', 'D34', 'A9', 'C31', 'B61', 'C53',\n",
       "       'D43', 'C130', 'C132', 'C55 C57', 'C116', 'F', 'A29', 'C6', 'C28',\n",
       "       'C51', 'C97', 'D22', 'B10', 'E45', 'E52', 'A11', 'B11', 'C80',\n",
       "       'C89', 'F E46', 'B26', 'F E57', 'A18', 'E60', 'E39 E41',\n",
       "       'B52 B54 B56', 'C39', 'B24', 'D40', 'D38', 'C105'], dtype=object)"
      ]
     },
     "execution_count": 139,
     "metadata": {},
     "output_type": "execute_result"
    }
   ],
   "source": [
    "cabins"
   ]
  },
  {
   "cell_type": "code",
   "execution_count": 140,
   "id": "6e08604f",
   "metadata": {},
   "outputs": [],
   "source": [
    "cabins= ['C85', 'C123', 'E46', 'G6', 'C103', 'D56', 'A6',\n",
    "       'C23 C25 C27', 'B78', 'D33', 'B30', 'C52', 'B28', 'C83', 'F33',\n",
    "       'F G73', 'E31', 'A5', 'D10 D12', 'D26', 'C110', 'B58 B60', 'E101',\n",
    "       'F E69', 'D47', 'B86', 'F2', 'C2', 'E33', 'B19', 'A7', 'C49', 'F4',\n",
    "       'A32', 'B4', 'B80', 'A31', 'D36', 'D15', 'C93', 'C78', 'D35',\n",
    "       'C87', 'B77', 'E67', 'B94', 'C125', 'C99', 'C118', 'D7', 'A19',\n",
    "       'B49', 'D', 'C22 C26', 'C106', 'C65', 'E36', 'C54',\n",
    "       'B57 B59 B63 B66', 'C7', 'E34', 'C32', 'B18', 'C124', 'C91', 'E40',\n",
    "       'T', 'C128', 'D37', 'B35', 'E50', 'C82', 'B96 B98', 'E10', 'E44',\n",
    "       'A34', 'C104', 'C111', 'C92', 'E38', 'D21', 'E12', 'E63', 'A14',\n",
    "       'B37', 'C30', 'D20', 'B79', 'E25', 'D46', 'B73', 'C95', 'B38',\n",
    "       'B39', 'B22', 'C86', 'C70', 'A16', 'C101', 'C68', 'A10', 'E68',\n",
    "       'B41', 'A20', 'D19', 'D50', 'D9', 'A23', 'B50', 'A26', 'D48',\n",
    "       'E58', 'C126', 'B71', 'B51 B53 B55', 'D49', 'B5', 'B20', 'F G63',\n",
    "       'C62 C64', 'E24', 'C90', 'C45', 'E8', 'B101', 'D45', 'C46', 'D30',\n",
    "       'E121', 'D11', 'E77', 'F38', 'B3', 'D6', 'B82 B84', 'D17', 'A36',\n",
    "       'B102', 'B69', 'E49', 'C47', 'D28', 'E17', 'A24', 'C50', 'B42',\n",
    "       'C148', 'B45', 'B36', 'A21', 'D34', 'A9', 'C31', 'B61', 'C53',\n",
    "       'D43', 'C130', 'C132', 'C55 C57', 'C116', 'F', 'A29', 'C6', 'C28',\n",
    "       'C51', 'C97', 'D22', 'B10', 'E45', 'E52', 'A11', 'B11', 'C80',\n",
    "       'C89', 'F E46', 'B26', 'F E57', 'A18', 'E60', 'E39 E41',\n",
    "       'B52 B54 B56', 'C39', 'B24', 'D40', 'D38', 'C105']"
   ]
  },
  {
   "cell_type": "code",
   "execution_count": 141,
   "id": "2d40470c",
   "metadata": {},
   "outputs": [],
   "source": [
    "# Function\n",
    "def cabincount(x):\n",
    "    if x in cabins:\n",
    "        return(\"Cabin_Alloted\")\n",
    "    else:\n",
    "        return(\"Cabin_Missing\")"
   ]
  },
  {
   "cell_type": "code",
   "execution_count": 142,
   "id": "71aad0d4",
   "metadata": {},
   "outputs": [],
   "source": [
    "combined[\"Cabin_Cat\"]=combined.Cabin.apply(cabincount)"
   ]
  },
  {
   "cell_type": "code",
   "execution_count": 143,
   "id": "ce1210a3",
   "metadata": {},
   "outputs": [
    {
     "data": {
      "text/html": [
       "<div>\n",
       "<style scoped>\n",
       "    .dataframe tbody tr th:only-of-type {\n",
       "        vertical-align: middle;\n",
       "    }\n",
       "\n",
       "    .dataframe tbody tr th {\n",
       "        vertical-align: top;\n",
       "    }\n",
       "\n",
       "    .dataframe thead th {\n",
       "        text-align: right;\n",
       "    }\n",
       "</style>\n",
       "<table border=\"1\" class=\"dataframe\">\n",
       "  <thead>\n",
       "    <tr style=\"text-align: right;\">\n",
       "      <th>Survived</th>\n",
       "      <th>0.0</th>\n",
       "      <th>1.0</th>\n",
       "    </tr>\n",
       "    <tr>\n",
       "      <th>Cabin_Cat</th>\n",
       "      <th></th>\n",
       "      <th></th>\n",
       "    </tr>\n",
       "  </thead>\n",
       "  <tbody>\n",
       "    <tr>\n",
       "      <th>Cabin_Alloted</th>\n",
       "      <td>68</td>\n",
       "      <td>136</td>\n",
       "    </tr>\n",
       "    <tr>\n",
       "      <th>Cabin_Missing</th>\n",
       "      <td>481</td>\n",
       "      <td>206</td>\n",
       "    </tr>\n",
       "  </tbody>\n",
       "</table>\n",
       "</div>"
      ],
      "text/plain": [
       "Survived       0.0  1.0\n",
       "Cabin_Cat              \n",
       "Cabin_Alloted   68  136\n",
       "Cabin_Missing  481  206"
      ]
     },
     "execution_count": 143,
     "metadata": {},
     "output_type": "execute_result"
    }
   ],
   "source": [
    "pd.crosstab(combined.Cabin_Cat,combined.Survived)"
   ]
  },
  {
   "cell_type": "code",
   "execution_count": 144,
   "id": "b054bdbf",
   "metadata": {},
   "outputs": [
    {
     "data": {
      "text/html": [
       "<div>\n",
       "<style scoped>\n",
       "    .dataframe tbody tr th:only-of-type {\n",
       "        vertical-align: middle;\n",
       "    }\n",
       "\n",
       "    .dataframe tbody tr th {\n",
       "        vertical-align: top;\n",
       "    }\n",
       "\n",
       "    .dataframe thead th {\n",
       "        text-align: right;\n",
       "    }\n",
       "</style>\n",
       "<table border=\"1\" class=\"dataframe\">\n",
       "  <thead>\n",
       "    <tr style=\"text-align: right;\">\n",
       "      <th></th>\n",
       "      <th>PassengerId</th>\n",
       "      <th>Survived</th>\n",
       "      <th>Pclass</th>\n",
       "      <th>Name</th>\n",
       "      <th>Sex</th>\n",
       "      <th>Age</th>\n",
       "      <th>SibSp</th>\n",
       "      <th>Parch</th>\n",
       "      <th>Ticket</th>\n",
       "      <th>Fare</th>\n",
       "      <th>Cabin</th>\n",
       "      <th>Embarked</th>\n",
       "      <th>Family</th>\n",
       "      <th>Cabin_Cat</th>\n",
       "    </tr>\n",
       "  </thead>\n",
       "  <tbody>\n",
       "    <tr>\n",
       "      <th>0</th>\n",
       "      <td>1</td>\n",
       "      <td>0.0</td>\n",
       "      <td>3</td>\n",
       "      <td>Braund, Mr. Owen Harris</td>\n",
       "      <td>male</td>\n",
       "      <td>22.0</td>\n",
       "      <td>1</td>\n",
       "      <td>0</td>\n",
       "      <td>A/5 21171</td>\n",
       "      <td>7.2500</td>\n",
       "      <td>NaN</td>\n",
       "      <td>S</td>\n",
       "      <td>2</td>\n",
       "      <td>Cabin_Missing</td>\n",
       "    </tr>\n",
       "    <tr>\n",
       "      <th>1</th>\n",
       "      <td>2</td>\n",
       "      <td>1.0</td>\n",
       "      <td>1</td>\n",
       "      <td>Cumings, Mrs. John Bradley (Florence Briggs Th...</td>\n",
       "      <td>female</td>\n",
       "      <td>38.0</td>\n",
       "      <td>1</td>\n",
       "      <td>0</td>\n",
       "      <td>PC 17599</td>\n",
       "      <td>71.2833</td>\n",
       "      <td>C85</td>\n",
       "      <td>C</td>\n",
       "      <td>2</td>\n",
       "      <td>Cabin_Alloted</td>\n",
       "    </tr>\n",
       "    <tr>\n",
       "      <th>2</th>\n",
       "      <td>3</td>\n",
       "      <td>1.0</td>\n",
       "      <td>3</td>\n",
       "      <td>Heikkinen, Miss. Laina</td>\n",
       "      <td>female</td>\n",
       "      <td>26.0</td>\n",
       "      <td>0</td>\n",
       "      <td>0</td>\n",
       "      <td>STON/O2. 3101282</td>\n",
       "      <td>7.9250</td>\n",
       "      <td>NaN</td>\n",
       "      <td>S</td>\n",
       "      <td>1</td>\n",
       "      <td>Cabin_Missing</td>\n",
       "    </tr>\n",
       "    <tr>\n",
       "      <th>3</th>\n",
       "      <td>4</td>\n",
       "      <td>1.0</td>\n",
       "      <td>1</td>\n",
       "      <td>Futrelle, Mrs. Jacques Heath (Lily May Peel)</td>\n",
       "      <td>female</td>\n",
       "      <td>35.0</td>\n",
       "      <td>1</td>\n",
       "      <td>0</td>\n",
       "      <td>113803</td>\n",
       "      <td>53.1000</td>\n",
       "      <td>C123</td>\n",
       "      <td>S</td>\n",
       "      <td>2</td>\n",
       "      <td>Cabin_Alloted</td>\n",
       "    </tr>\n",
       "    <tr>\n",
       "      <th>4</th>\n",
       "      <td>5</td>\n",
       "      <td>0.0</td>\n",
       "      <td>3</td>\n",
       "      <td>Allen, Mr. William Henry</td>\n",
       "      <td>male</td>\n",
       "      <td>35.0</td>\n",
       "      <td>0</td>\n",
       "      <td>0</td>\n",
       "      <td>373450</td>\n",
       "      <td>8.0500</td>\n",
       "      <td>NaN</td>\n",
       "      <td>S</td>\n",
       "      <td>1</td>\n",
       "      <td>Cabin_Missing</td>\n",
       "    </tr>\n",
       "  </tbody>\n",
       "</table>\n",
       "</div>"
      ],
      "text/plain": [
       "   PassengerId  Survived  Pclass  \\\n",
       "0            1       0.0       3   \n",
       "1            2       1.0       1   \n",
       "2            3       1.0       3   \n",
       "3            4       1.0       1   \n",
       "4            5       0.0       3   \n",
       "\n",
       "                                                Name     Sex   Age  SibSp  \\\n",
       "0                            Braund, Mr. Owen Harris    male  22.0      1   \n",
       "1  Cumings, Mrs. John Bradley (Florence Briggs Th...  female  38.0      1   \n",
       "2                             Heikkinen, Miss. Laina  female  26.0      0   \n",
       "3       Futrelle, Mrs. Jacques Heath (Lily May Peel)  female  35.0      1   \n",
       "4                           Allen, Mr. William Henry    male  35.0      0   \n",
       "\n",
       "   Parch            Ticket     Fare Cabin Embarked  Family      Cabin_Cat  \n",
       "0      0         A/5 21171   7.2500   NaN        S       2  Cabin_Missing  \n",
       "1      0          PC 17599  71.2833   C85        C       2  Cabin_Alloted  \n",
       "2      0  STON/O2. 3101282   7.9250   NaN        S       1  Cabin_Missing  \n",
       "3      0            113803  53.1000  C123        S       2  Cabin_Alloted  \n",
       "4      0            373450   8.0500   NaN        S       1  Cabin_Missing  "
      ]
     },
     "execution_count": 144,
     "metadata": {},
     "output_type": "execute_result"
    }
   ],
   "source": [
    "combined.head()"
   ]
  },
  {
   "cell_type": "code",
   "execution_count": 145,
   "id": "acc49d57",
   "metadata": {},
   "outputs": [],
   "source": [
    "# Extracting the titles\n",
    "\n",
    "name=combined.Name.apply(lambda x:x.split(\", \")[1])\n",
    "combined[\"titles\"]=pd.Series(name.apply(lambda x:x.split(\". \")[0]))"
   ]
  },
  {
   "cell_type": "code",
   "execution_count": 146,
   "id": "27ed965e",
   "metadata": {},
   "outputs": [
    {
     "data": {
      "text/plain": [
       "array(['Mr', 'Mrs', 'Miss', 'Master', 'Don', 'Rev', 'Dr', 'Mme', 'Ms',\n",
       "       'Major', 'Lady', 'Sir', 'Mlle', 'Col', 'Capt', 'the Countess',\n",
       "       'Jonkheer', 'Dona'], dtype=object)"
      ]
     },
     "execution_count": 146,
     "metadata": {},
     "output_type": "execute_result"
    }
   ],
   "source": [
    "combined.titles.unique()"
   ]
  },
  {
   "cell_type": "code",
   "execution_count": 147,
   "id": "5d41541b",
   "metadata": {},
   "outputs": [],
   "source": [
    "titles_ignore=[ 'Don', 'Rev', 'Dr', 'Mme',\n",
    "       'Major', 'Lady', 'Sir', 'Mlle', 'Col', 'Capt', 'the Countess',\n",
    "       'Jonkheer', 'Dona']"
   ]
  },
  {
   "cell_type": "code",
   "execution_count": 148,
   "id": "349758e2",
   "metadata": {},
   "outputs": [],
   "source": [
    "def titles(x):\n",
    "    if x in titles_ignore:\n",
    "        return(\"Others\")\n",
    "    else:\n",
    "        return(x)"
   ]
  },
  {
   "cell_type": "code",
   "execution_count": 149,
   "id": "d1334ee9",
   "metadata": {},
   "outputs": [],
   "source": [
    "combined[\"titles\"]=combined.titles.apply(titles)"
   ]
  },
  {
   "cell_type": "code",
   "execution_count": 150,
   "id": "1ea47a94",
   "metadata": {},
   "outputs": [
    {
     "data": {
      "text/html": [
       "<div>\n",
       "<style scoped>\n",
       "    .dataframe tbody tr th:only-of-type {\n",
       "        vertical-align: middle;\n",
       "    }\n",
       "\n",
       "    .dataframe tbody tr th {\n",
       "        vertical-align: top;\n",
       "    }\n",
       "\n",
       "    .dataframe thead th {\n",
       "        text-align: right;\n",
       "    }\n",
       "</style>\n",
       "<table border=\"1\" class=\"dataframe\">\n",
       "  <thead>\n",
       "    <tr style=\"text-align: right;\">\n",
       "      <th></th>\n",
       "      <th>PassengerId</th>\n",
       "      <th>Survived</th>\n",
       "      <th>Pclass</th>\n",
       "      <th>Name</th>\n",
       "      <th>Sex</th>\n",
       "      <th>Age</th>\n",
       "      <th>SibSp</th>\n",
       "      <th>Parch</th>\n",
       "      <th>Ticket</th>\n",
       "      <th>Fare</th>\n",
       "      <th>Cabin</th>\n",
       "      <th>Embarked</th>\n",
       "      <th>Family</th>\n",
       "      <th>Cabin_Cat</th>\n",
       "      <th>titles</th>\n",
       "    </tr>\n",
       "  </thead>\n",
       "  <tbody>\n",
       "    <tr>\n",
       "      <th>0</th>\n",
       "      <td>1</td>\n",
       "      <td>0.0</td>\n",
       "      <td>3</td>\n",
       "      <td>Braund, Mr. Owen Harris</td>\n",
       "      <td>male</td>\n",
       "      <td>22.0</td>\n",
       "      <td>1</td>\n",
       "      <td>0</td>\n",
       "      <td>A/5 21171</td>\n",
       "      <td>7.2500</td>\n",
       "      <td>NaN</td>\n",
       "      <td>S</td>\n",
       "      <td>2</td>\n",
       "      <td>Cabin_Missing</td>\n",
       "      <td>Mr</td>\n",
       "    </tr>\n",
       "    <tr>\n",
       "      <th>1</th>\n",
       "      <td>2</td>\n",
       "      <td>1.0</td>\n",
       "      <td>1</td>\n",
       "      <td>Cumings, Mrs. John Bradley (Florence Briggs Th...</td>\n",
       "      <td>female</td>\n",
       "      <td>38.0</td>\n",
       "      <td>1</td>\n",
       "      <td>0</td>\n",
       "      <td>PC 17599</td>\n",
       "      <td>71.2833</td>\n",
       "      <td>C85</td>\n",
       "      <td>C</td>\n",
       "      <td>2</td>\n",
       "      <td>Cabin_Alloted</td>\n",
       "      <td>Mrs</td>\n",
       "    </tr>\n",
       "    <tr>\n",
       "      <th>2</th>\n",
       "      <td>3</td>\n",
       "      <td>1.0</td>\n",
       "      <td>3</td>\n",
       "      <td>Heikkinen, Miss. Laina</td>\n",
       "      <td>female</td>\n",
       "      <td>26.0</td>\n",
       "      <td>0</td>\n",
       "      <td>0</td>\n",
       "      <td>STON/O2. 3101282</td>\n",
       "      <td>7.9250</td>\n",
       "      <td>NaN</td>\n",
       "      <td>S</td>\n",
       "      <td>1</td>\n",
       "      <td>Cabin_Missing</td>\n",
       "      <td>Miss</td>\n",
       "    </tr>\n",
       "    <tr>\n",
       "      <th>3</th>\n",
       "      <td>4</td>\n",
       "      <td>1.0</td>\n",
       "      <td>1</td>\n",
       "      <td>Futrelle, Mrs. Jacques Heath (Lily May Peel)</td>\n",
       "      <td>female</td>\n",
       "      <td>35.0</td>\n",
       "      <td>1</td>\n",
       "      <td>0</td>\n",
       "      <td>113803</td>\n",
       "      <td>53.1000</td>\n",
       "      <td>C123</td>\n",
       "      <td>S</td>\n",
       "      <td>2</td>\n",
       "      <td>Cabin_Alloted</td>\n",
       "      <td>Mrs</td>\n",
       "    </tr>\n",
       "    <tr>\n",
       "      <th>4</th>\n",
       "      <td>5</td>\n",
       "      <td>0.0</td>\n",
       "      <td>3</td>\n",
       "      <td>Allen, Mr. William Henry</td>\n",
       "      <td>male</td>\n",
       "      <td>35.0</td>\n",
       "      <td>0</td>\n",
       "      <td>0</td>\n",
       "      <td>373450</td>\n",
       "      <td>8.0500</td>\n",
       "      <td>NaN</td>\n",
       "      <td>S</td>\n",
       "      <td>1</td>\n",
       "      <td>Cabin_Missing</td>\n",
       "      <td>Mr</td>\n",
       "    </tr>\n",
       "  </tbody>\n",
       "</table>\n",
       "</div>"
      ],
      "text/plain": [
       "   PassengerId  Survived  Pclass  \\\n",
       "0            1       0.0       3   \n",
       "1            2       1.0       1   \n",
       "2            3       1.0       3   \n",
       "3            4       1.0       1   \n",
       "4            5       0.0       3   \n",
       "\n",
       "                                                Name     Sex   Age  SibSp  \\\n",
       "0                            Braund, Mr. Owen Harris    male  22.0      1   \n",
       "1  Cumings, Mrs. John Bradley (Florence Briggs Th...  female  38.0      1   \n",
       "2                             Heikkinen, Miss. Laina  female  26.0      0   \n",
       "3       Futrelle, Mrs. Jacques Heath (Lily May Peel)  female  35.0      1   \n",
       "4                           Allen, Mr. William Henry    male  35.0      0   \n",
       "\n",
       "   Parch            Ticket     Fare Cabin Embarked  Family      Cabin_Cat  \\\n",
       "0      0         A/5 21171   7.2500   NaN        S       2  Cabin_Missing   \n",
       "1      0          PC 17599  71.2833   C85        C       2  Cabin_Alloted   \n",
       "2      0  STON/O2. 3101282   7.9250   NaN        S       1  Cabin_Missing   \n",
       "3      0            113803  53.1000  C123        S       2  Cabin_Alloted   \n",
       "4      0            373450   8.0500   NaN        S       1  Cabin_Missing   \n",
       "\n",
       "  titles  \n",
       "0     Mr  \n",
       "1    Mrs  \n",
       "2   Miss  \n",
       "3    Mrs  \n",
       "4     Mr  "
      ]
     },
     "execution_count": 150,
     "metadata": {},
     "output_type": "execute_result"
    }
   ],
   "source": [
    "combined.head()"
   ]
  },
  {
   "cell_type": "code",
   "execution_count": 151,
   "id": "69739d43",
   "metadata": {},
   "outputs": [
    {
     "data": {
      "text/html": [
       "<div>\n",
       "<style scoped>\n",
       "    .dataframe tbody tr th:only-of-type {\n",
       "        vertical-align: middle;\n",
       "    }\n",
       "\n",
       "    .dataframe tbody tr th {\n",
       "        vertical-align: top;\n",
       "    }\n",
       "\n",
       "    .dataframe thead th {\n",
       "        text-align: right;\n",
       "    }\n",
       "</style>\n",
       "<table border=\"1\" class=\"dataframe\">\n",
       "  <thead>\n",
       "    <tr style=\"text-align: right;\">\n",
       "      <th></th>\n",
       "      <th>count</th>\n",
       "      <th>mean</th>\n",
       "      <th>std</th>\n",
       "      <th>min</th>\n",
       "      <th>25%</th>\n",
       "      <th>50%</th>\n",
       "      <th>75%</th>\n",
       "      <th>max</th>\n",
       "    </tr>\n",
       "    <tr>\n",
       "      <th>titles</th>\n",
       "      <th></th>\n",
       "      <th></th>\n",
       "      <th></th>\n",
       "      <th></th>\n",
       "      <th></th>\n",
       "      <th></th>\n",
       "      <th></th>\n",
       "      <th></th>\n",
       "    </tr>\n",
       "  </thead>\n",
       "  <tbody>\n",
       "    <tr>\n",
       "      <th>Master</th>\n",
       "      <td>53.0</td>\n",
       "      <td>5.482642</td>\n",
       "      <td>4.161554</td>\n",
       "      <td>0.33</td>\n",
       "      <td>2.0</td>\n",
       "      <td>4.0</td>\n",
       "      <td>9.0</td>\n",
       "      <td>14.5</td>\n",
       "    </tr>\n",
       "    <tr>\n",
       "      <th>Miss</th>\n",
       "      <td>210.0</td>\n",
       "      <td>21.774238</td>\n",
       "      <td>12.249077</td>\n",
       "      <td>0.17</td>\n",
       "      <td>15.0</td>\n",
       "      <td>22.0</td>\n",
       "      <td>30.0</td>\n",
       "      <td>63.0</td>\n",
       "    </tr>\n",
       "    <tr>\n",
       "      <th>Mr</th>\n",
       "      <td>581.0</td>\n",
       "      <td>32.252151</td>\n",
       "      <td>12.422089</td>\n",
       "      <td>11.00</td>\n",
       "      <td>23.0</td>\n",
       "      <td>29.0</td>\n",
       "      <td>39.0</td>\n",
       "      <td>80.0</td>\n",
       "    </tr>\n",
       "    <tr>\n",
       "      <th>Mrs</th>\n",
       "      <td>170.0</td>\n",
       "      <td>36.994118</td>\n",
       "      <td>12.901767</td>\n",
       "      <td>14.00</td>\n",
       "      <td>27.0</td>\n",
       "      <td>35.5</td>\n",
       "      <td>46.5</td>\n",
       "      <td>76.0</td>\n",
       "    </tr>\n",
       "    <tr>\n",
       "      <th>Ms</th>\n",
       "      <td>1.0</td>\n",
       "      <td>28.000000</td>\n",
       "      <td>NaN</td>\n",
       "      <td>28.00</td>\n",
       "      <td>28.0</td>\n",
       "      <td>28.0</td>\n",
       "      <td>28.0</td>\n",
       "      <td>28.0</td>\n",
       "    </tr>\n",
       "    <tr>\n",
       "      <th>Others</th>\n",
       "      <td>31.0</td>\n",
       "      <td>43.129032</td>\n",
       "      <td>12.309189</td>\n",
       "      <td>23.00</td>\n",
       "      <td>32.5</td>\n",
       "      <td>45.0</td>\n",
       "      <td>52.5</td>\n",
       "      <td>70.0</td>\n",
       "    </tr>\n",
       "  </tbody>\n",
       "</table>\n",
       "</div>"
      ],
      "text/plain": [
       "        count       mean        std    min   25%   50%   75%   max\n",
       "titles                                                            \n",
       "Master   53.0   5.482642   4.161554   0.33   2.0   4.0   9.0  14.5\n",
       "Miss    210.0  21.774238  12.249077   0.17  15.0  22.0  30.0  63.0\n",
       "Mr      581.0  32.252151  12.422089  11.00  23.0  29.0  39.0  80.0\n",
       "Mrs     170.0  36.994118  12.901767  14.00  27.0  35.5  46.5  76.0\n",
       "Ms        1.0  28.000000        NaN  28.00  28.0  28.0  28.0  28.0\n",
       "Others   31.0  43.129032  12.309189  23.00  32.5  45.0  52.5  70.0"
      ]
     },
     "execution_count": 151,
     "metadata": {},
     "output_type": "execute_result"
    }
   ],
   "source": [
    "### Missing Values\n",
    "\n",
    "combined.groupby(\"titles\")[\"Age\"].describe()"
   ]
  },
  {
   "cell_type": "code",
   "execution_count": 152,
   "id": "205a692c",
   "metadata": {},
   "outputs": [
    {
     "data": {
      "text/plain": [
       "28.0"
      ]
     },
     "execution_count": 152,
     "metadata": {},
     "output_type": "execute_result"
    }
   ],
   "source": [
    "combined.Age.median()"
   ]
  },
  {
   "cell_type": "code",
   "execution_count": 153,
   "id": "94e55056",
   "metadata": {},
   "outputs": [],
   "source": [
    "combined.loc[(combined.titles==\"Master\") & (combined.Age.isnull()),\"Age\"]=4.0"
   ]
  },
  {
   "cell_type": "code",
   "execution_count": 154,
   "id": "915ac39f",
   "metadata": {},
   "outputs": [],
   "source": [
    "combined.loc[(combined.titles==\"Miss\") & (combined.Age.isnull()),\"Age\"]=22.0"
   ]
  },
  {
   "cell_type": "code",
   "execution_count": 155,
   "id": "882bcc43",
   "metadata": {},
   "outputs": [],
   "source": [
    "combined.loc[(combined.titles==\"Mr\") & (combined.Age.isnull()),\"Age\"]=29.0"
   ]
  },
  {
   "cell_type": "code",
   "execution_count": 156,
   "id": "8eb236f1",
   "metadata": {},
   "outputs": [],
   "source": [
    "combined.loc[(combined.titles==\"Mrs\") & (combined.Age.isnull()),\"Age\"]=35.5"
   ]
  },
  {
   "cell_type": "code",
   "execution_count": 157,
   "id": "549a5276",
   "metadata": {},
   "outputs": [],
   "source": [
    "combined.loc[(combined.titles==\"Ms\") & (combined.Age.isnull()),\"Age\"]=28.0"
   ]
  },
  {
   "cell_type": "code",
   "execution_count": 158,
   "id": "82495216",
   "metadata": {},
   "outputs": [],
   "source": [
    "combined.loc[(combined.titles==\"Others\") & (combined.Age.isnull()),\"Age\"]=45.0"
   ]
  },
  {
   "cell_type": "code",
   "execution_count": 159,
   "id": "a742f507",
   "metadata": {},
   "outputs": [
    {
     "data": {
      "text/plain": [
       "array(['Mr', 'Mrs', 'Miss', 'Master', 'Others', 'Ms'], dtype=object)"
      ]
     },
     "execution_count": 159,
     "metadata": {},
     "output_type": "execute_result"
    }
   ],
   "source": [
    "combined.titles.unique()"
   ]
  },
  {
   "cell_type": "code",
   "execution_count": 160,
   "id": "7f6f3ae5",
   "metadata": {},
   "outputs": [
    {
     "data": {
      "text/plain": [
       "PassengerId       0\n",
       "Survived        418\n",
       "Pclass            0\n",
       "Name              0\n",
       "Sex               0\n",
       "Age               0\n",
       "SibSp             0\n",
       "Parch             0\n",
       "Ticket            0\n",
       "Fare              1\n",
       "Cabin          1014\n",
       "Embarked          2\n",
       "Family            0\n",
       "Cabin_Cat         0\n",
       "titles            0\n",
       "dtype: int64"
      ]
     },
     "execution_count": 160,
     "metadata": {},
     "output_type": "execute_result"
    }
   ],
   "source": [
    "combined.isnull().sum()"
   ]
  },
  {
   "cell_type": "code",
   "execution_count": 161,
   "id": "42d3f925",
   "metadata": {},
   "outputs": [],
   "source": [
    "# Fare and Embarked\n",
    "\n",
    "combined.Embarked.fillna(combined.Embarked.mode()[0],inplace=True)\n",
    "\n",
    "combined.Fare.fillna(combined.Fare.median(),inplace=True)"
   ]
  },
  {
   "cell_type": "code",
   "execution_count": 162,
   "id": "8891cc0d",
   "metadata": {},
   "outputs": [
    {
     "data": {
      "text/plain": [
       "PassengerId       0\n",
       "Survived        418\n",
       "Pclass            0\n",
       "Name              0\n",
       "Sex               0\n",
       "Age               0\n",
       "SibSp             0\n",
       "Parch             0\n",
       "Ticket            0\n",
       "Fare              0\n",
       "Cabin          1014\n",
       "Embarked          0\n",
       "Family            0\n",
       "Cabin_Cat         0\n",
       "titles            0\n",
       "dtype: int64"
      ]
     },
     "execution_count": 162,
     "metadata": {},
     "output_type": "execute_result"
    }
   ],
   "source": [
    "combined.isnull().sum()"
   ]
  },
  {
   "cell_type": "code",
   "execution_count": 163,
   "id": "1f6213f1",
   "metadata": {},
   "outputs": [
    {
     "data": {
      "text/plain": [
       "Index(['PassengerId', 'Survived', 'Pclass', 'Name', 'Sex', 'Age', 'SibSp',\n",
       "       'Parch', 'Ticket', 'Fare', 'Cabin', 'Embarked', 'Family', 'Cabin_Cat',\n",
       "       'titles'],\n",
       "      dtype='object')"
      ]
     },
     "execution_count": 163,
     "metadata": {},
     "output_type": "execute_result"
    }
   ],
   "source": [
    "# Drop the unnecessary variables\n",
    "combined.columns"
   ]
  },
  {
   "cell_type": "code",
   "execution_count": 164,
   "id": "f9f29b32",
   "metadata": {},
   "outputs": [],
   "source": [
    "new=combined.drop([\"PassengerId\",\"Name\",\"SibSp\",\"Parch\",\"Ticket\",\"Cabin\"],axis=1)"
   ]
  },
  {
   "cell_type": "code",
   "execution_count": 165,
   "id": "46c7f351",
   "metadata": {},
   "outputs": [
    {
     "data": {
      "text/html": [
       "<div>\n",
       "<style scoped>\n",
       "    .dataframe tbody tr th:only-of-type {\n",
       "        vertical-align: middle;\n",
       "    }\n",
       "\n",
       "    .dataframe tbody tr th {\n",
       "        vertical-align: top;\n",
       "    }\n",
       "\n",
       "    .dataframe thead th {\n",
       "        text-align: right;\n",
       "    }\n",
       "</style>\n",
       "<table border=\"1\" class=\"dataframe\">\n",
       "  <thead>\n",
       "    <tr style=\"text-align: right;\">\n",
       "      <th></th>\n",
       "      <th>Survived</th>\n",
       "      <th>Pclass</th>\n",
       "      <th>Sex</th>\n",
       "      <th>Age</th>\n",
       "      <th>Fare</th>\n",
       "      <th>Embarked</th>\n",
       "      <th>Family</th>\n",
       "      <th>Cabin_Cat</th>\n",
       "      <th>titles</th>\n",
       "    </tr>\n",
       "  </thead>\n",
       "  <tbody>\n",
       "    <tr>\n",
       "      <th>0</th>\n",
       "      <td>0.0</td>\n",
       "      <td>3</td>\n",
       "      <td>male</td>\n",
       "      <td>22.0</td>\n",
       "      <td>7.2500</td>\n",
       "      <td>S</td>\n",
       "      <td>2</td>\n",
       "      <td>Cabin_Missing</td>\n",
       "      <td>Mr</td>\n",
       "    </tr>\n",
       "    <tr>\n",
       "      <th>1</th>\n",
       "      <td>1.0</td>\n",
       "      <td>1</td>\n",
       "      <td>female</td>\n",
       "      <td>38.0</td>\n",
       "      <td>71.2833</td>\n",
       "      <td>C</td>\n",
       "      <td>2</td>\n",
       "      <td>Cabin_Alloted</td>\n",
       "      <td>Mrs</td>\n",
       "    </tr>\n",
       "    <tr>\n",
       "      <th>2</th>\n",
       "      <td>1.0</td>\n",
       "      <td>3</td>\n",
       "      <td>female</td>\n",
       "      <td>26.0</td>\n",
       "      <td>7.9250</td>\n",
       "      <td>S</td>\n",
       "      <td>1</td>\n",
       "      <td>Cabin_Missing</td>\n",
       "      <td>Miss</td>\n",
       "    </tr>\n",
       "    <tr>\n",
       "      <th>3</th>\n",
       "      <td>1.0</td>\n",
       "      <td>1</td>\n",
       "      <td>female</td>\n",
       "      <td>35.0</td>\n",
       "      <td>53.1000</td>\n",
       "      <td>S</td>\n",
       "      <td>2</td>\n",
       "      <td>Cabin_Alloted</td>\n",
       "      <td>Mrs</td>\n",
       "    </tr>\n",
       "    <tr>\n",
       "      <th>4</th>\n",
       "      <td>0.0</td>\n",
       "      <td>3</td>\n",
       "      <td>male</td>\n",
       "      <td>35.0</td>\n",
       "      <td>8.0500</td>\n",
       "      <td>S</td>\n",
       "      <td>1</td>\n",
       "      <td>Cabin_Missing</td>\n",
       "      <td>Mr</td>\n",
       "    </tr>\n",
       "  </tbody>\n",
       "</table>\n",
       "</div>"
      ],
      "text/plain": [
       "   Survived  Pclass     Sex   Age     Fare Embarked  Family      Cabin_Cat  \\\n",
       "0       0.0       3    male  22.0   7.2500        S       2  Cabin_Missing   \n",
       "1       1.0       1  female  38.0  71.2833        C       2  Cabin_Alloted   \n",
       "2       1.0       3  female  26.0   7.9250        S       1  Cabin_Missing   \n",
       "3       1.0       1  female  35.0  53.1000        S       2  Cabin_Alloted   \n",
       "4       0.0       3    male  35.0   8.0500        S       1  Cabin_Missing   \n",
       "\n",
       "  titles  \n",
       "0     Mr  \n",
       "1    Mrs  \n",
       "2   Miss  \n",
       "3    Mrs  \n",
       "4     Mr  "
      ]
     },
     "execution_count": 165,
     "metadata": {},
     "output_type": "execute_result"
    }
   ],
   "source": [
    "new.head()"
   ]
  },
  {
   "cell_type": "code",
   "execution_count": 166,
   "id": "0380df5e",
   "metadata": {},
   "outputs": [
    {
     "name": "stdout",
     "output_type": "stream",
     "text": [
      "<class 'pandas.core.frame.DataFrame'>\n",
      "Int64Index: 1309 entries, 0 to 417\n",
      "Data columns (total 9 columns):\n",
      " #   Column     Non-Null Count  Dtype  \n",
      "---  ------     --------------  -----  \n",
      " 0   Survived   891 non-null    float64\n",
      " 1   Pclass     1309 non-null   int64  \n",
      " 2   Sex        1309 non-null   object \n",
      " 3   Age        1309 non-null   float64\n",
      " 4   Fare       1309 non-null   float64\n",
      " 5   Embarked   1309 non-null   object \n",
      " 6   Family     1309 non-null   int64  \n",
      " 7   Cabin_Cat  1309 non-null   object \n",
      " 8   titles     1309 non-null   object \n",
      "dtypes: float64(3), int64(2), object(4)\n",
      "memory usage: 134.6+ KB\n"
     ]
    }
   ],
   "source": [
    "new.info()"
   ]
  },
  {
   "cell_type": "markdown",
   "id": "99b88dce",
   "metadata": {},
   "source": [
    "### What is Data Leakage???\n",
    "\n",
    "*If we scale the data before splitting, the chances are the model will be able to get a preview of the test data.\n",
    "\n",
    "* Therefore, in order to avoid this scenario, we fit the data on train and use the train parameters(train_mean,train_std) to scale the test set.\n",
    "\n",
    "* Is the above mentioned point a correct set of practice used by ML engineers - Yes, because we always want to tune the test set on the basis of training set\n"
   ]
  },
  {
   "cell_type": "code",
   "execution_count": 167,
   "id": "f5b21517",
   "metadata": {},
   "outputs": [
    {
     "data": {
      "text/plain": [
       "(891, 12)"
      ]
     },
     "execution_count": 167,
     "metadata": {},
     "output_type": "execute_result"
    }
   ],
   "source": [
    "train.shape  #0:890"
   ]
  },
  {
   "cell_type": "code",
   "execution_count": 168,
   "id": "ae7b2546",
   "metadata": {},
   "outputs": [
    {
     "data": {
      "text/plain": [
       "(1309, 15)"
      ]
     },
     "execution_count": 168,
     "metadata": {},
     "output_type": "execute_result"
    }
   ],
   "source": [
    "combined.shape"
   ]
  },
  {
   "cell_type": "code",
   "execution_count": 169,
   "id": "7f3adab7",
   "metadata": {},
   "outputs": [],
   "source": [
    "# Splitted the data in test and train\n",
    "\n",
    "newtrain=new.iloc[0:train.shape[0], :]"
   ]
  },
  {
   "cell_type": "code",
   "execution_count": 170,
   "id": "6f01d300",
   "metadata": {},
   "outputs": [
    {
     "data": {
      "text/html": [
       "<div>\n",
       "<style scoped>\n",
       "    .dataframe tbody tr th:only-of-type {\n",
       "        vertical-align: middle;\n",
       "    }\n",
       "\n",
       "    .dataframe tbody tr th {\n",
       "        vertical-align: top;\n",
       "    }\n",
       "\n",
       "    .dataframe thead th {\n",
       "        text-align: right;\n",
       "    }\n",
       "</style>\n",
       "<table border=\"1\" class=\"dataframe\">\n",
       "  <thead>\n",
       "    <tr style=\"text-align: right;\">\n",
       "      <th></th>\n",
       "      <th>Survived</th>\n",
       "      <th>Pclass</th>\n",
       "      <th>Sex</th>\n",
       "      <th>Age</th>\n",
       "      <th>Fare</th>\n",
       "      <th>Embarked</th>\n",
       "      <th>Family</th>\n",
       "      <th>Cabin_Cat</th>\n",
       "      <th>titles</th>\n",
       "    </tr>\n",
       "  </thead>\n",
       "  <tbody>\n",
       "    <tr>\n",
       "      <th>886</th>\n",
       "      <td>0.0</td>\n",
       "      <td>2</td>\n",
       "      <td>male</td>\n",
       "      <td>27.0</td>\n",
       "      <td>13.00</td>\n",
       "      <td>S</td>\n",
       "      <td>1</td>\n",
       "      <td>Cabin_Missing</td>\n",
       "      <td>Others</td>\n",
       "    </tr>\n",
       "    <tr>\n",
       "      <th>887</th>\n",
       "      <td>1.0</td>\n",
       "      <td>1</td>\n",
       "      <td>female</td>\n",
       "      <td>19.0</td>\n",
       "      <td>30.00</td>\n",
       "      <td>S</td>\n",
       "      <td>1</td>\n",
       "      <td>Cabin_Alloted</td>\n",
       "      <td>Miss</td>\n",
       "    </tr>\n",
       "    <tr>\n",
       "      <th>888</th>\n",
       "      <td>0.0</td>\n",
       "      <td>3</td>\n",
       "      <td>female</td>\n",
       "      <td>22.0</td>\n",
       "      <td>23.45</td>\n",
       "      <td>S</td>\n",
       "      <td>4</td>\n",
       "      <td>Cabin_Missing</td>\n",
       "      <td>Miss</td>\n",
       "    </tr>\n",
       "    <tr>\n",
       "      <th>889</th>\n",
       "      <td>1.0</td>\n",
       "      <td>1</td>\n",
       "      <td>male</td>\n",
       "      <td>26.0</td>\n",
       "      <td>30.00</td>\n",
       "      <td>C</td>\n",
       "      <td>1</td>\n",
       "      <td>Cabin_Alloted</td>\n",
       "      <td>Mr</td>\n",
       "    </tr>\n",
       "    <tr>\n",
       "      <th>890</th>\n",
       "      <td>0.0</td>\n",
       "      <td>3</td>\n",
       "      <td>male</td>\n",
       "      <td>32.0</td>\n",
       "      <td>7.75</td>\n",
       "      <td>Q</td>\n",
       "      <td>1</td>\n",
       "      <td>Cabin_Missing</td>\n",
       "      <td>Mr</td>\n",
       "    </tr>\n",
       "  </tbody>\n",
       "</table>\n",
       "</div>"
      ],
      "text/plain": [
       "     Survived  Pclass     Sex   Age   Fare Embarked  Family      Cabin_Cat  \\\n",
       "886       0.0       2    male  27.0  13.00        S       1  Cabin_Missing   \n",
       "887       1.0       1  female  19.0  30.00        S       1  Cabin_Alloted   \n",
       "888       0.0       3  female  22.0  23.45        S       4  Cabin_Missing   \n",
       "889       1.0       1    male  26.0  30.00        C       1  Cabin_Alloted   \n",
       "890       0.0       3    male  32.0   7.75        Q       1  Cabin_Missing   \n",
       "\n",
       "     titles  \n",
       "886  Others  \n",
       "887    Miss  \n",
       "888    Miss  \n",
       "889      Mr  \n",
       "890      Mr  "
      ]
     },
     "execution_count": 170,
     "metadata": {},
     "output_type": "execute_result"
    }
   ],
   "source": [
    "newtrain.tail()"
   ]
  },
  {
   "cell_type": "code",
   "execution_count": 171,
   "id": "38ff7387",
   "metadata": {},
   "outputs": [],
   "source": [
    "newtest=new.iloc[train.shape[0]:]"
   ]
  },
  {
   "cell_type": "code",
   "execution_count": 172,
   "id": "42afd7f1",
   "metadata": {},
   "outputs": [
    {
     "data": {
      "text/html": [
       "<div>\n",
       "<style scoped>\n",
       "    .dataframe tbody tr th:only-of-type {\n",
       "        vertical-align: middle;\n",
       "    }\n",
       "\n",
       "    .dataframe tbody tr th {\n",
       "        vertical-align: top;\n",
       "    }\n",
       "\n",
       "    .dataframe thead th {\n",
       "        text-align: right;\n",
       "    }\n",
       "</style>\n",
       "<table border=\"1\" class=\"dataframe\">\n",
       "  <thead>\n",
       "    <tr style=\"text-align: right;\">\n",
       "      <th></th>\n",
       "      <th>Survived</th>\n",
       "      <th>Pclass</th>\n",
       "      <th>Sex</th>\n",
       "      <th>Age</th>\n",
       "      <th>Fare</th>\n",
       "      <th>Embarked</th>\n",
       "      <th>Family</th>\n",
       "      <th>Cabin_Cat</th>\n",
       "      <th>titles</th>\n",
       "    </tr>\n",
       "  </thead>\n",
       "  <tbody>\n",
       "    <tr>\n",
       "      <th>413</th>\n",
       "      <td>NaN</td>\n",
       "      <td>3</td>\n",
       "      <td>male</td>\n",
       "      <td>29.0</td>\n",
       "      <td>8.0500</td>\n",
       "      <td>S</td>\n",
       "      <td>1</td>\n",
       "      <td>Cabin_Missing</td>\n",
       "      <td>Mr</td>\n",
       "    </tr>\n",
       "    <tr>\n",
       "      <th>414</th>\n",
       "      <td>NaN</td>\n",
       "      <td>1</td>\n",
       "      <td>female</td>\n",
       "      <td>39.0</td>\n",
       "      <td>108.9000</td>\n",
       "      <td>C</td>\n",
       "      <td>1</td>\n",
       "      <td>Cabin_Alloted</td>\n",
       "      <td>Others</td>\n",
       "    </tr>\n",
       "    <tr>\n",
       "      <th>415</th>\n",
       "      <td>NaN</td>\n",
       "      <td>3</td>\n",
       "      <td>male</td>\n",
       "      <td>38.5</td>\n",
       "      <td>7.2500</td>\n",
       "      <td>S</td>\n",
       "      <td>1</td>\n",
       "      <td>Cabin_Missing</td>\n",
       "      <td>Mr</td>\n",
       "    </tr>\n",
       "    <tr>\n",
       "      <th>416</th>\n",
       "      <td>NaN</td>\n",
       "      <td>3</td>\n",
       "      <td>male</td>\n",
       "      <td>29.0</td>\n",
       "      <td>8.0500</td>\n",
       "      <td>S</td>\n",
       "      <td>1</td>\n",
       "      <td>Cabin_Missing</td>\n",
       "      <td>Mr</td>\n",
       "    </tr>\n",
       "    <tr>\n",
       "      <th>417</th>\n",
       "      <td>NaN</td>\n",
       "      <td>3</td>\n",
       "      <td>male</td>\n",
       "      <td>4.0</td>\n",
       "      <td>22.3583</td>\n",
       "      <td>C</td>\n",
       "      <td>3</td>\n",
       "      <td>Cabin_Missing</td>\n",
       "      <td>Master</td>\n",
       "    </tr>\n",
       "  </tbody>\n",
       "</table>\n",
       "</div>"
      ],
      "text/plain": [
       "     Survived  Pclass     Sex   Age      Fare Embarked  Family      Cabin_Cat  \\\n",
       "413       NaN       3    male  29.0    8.0500        S       1  Cabin_Missing   \n",
       "414       NaN       1  female  39.0  108.9000        C       1  Cabin_Alloted   \n",
       "415       NaN       3    male  38.5    7.2500        S       1  Cabin_Missing   \n",
       "416       NaN       3    male  29.0    8.0500        S       1  Cabin_Missing   \n",
       "417       NaN       3    male   4.0   22.3583        C       3  Cabin_Missing   \n",
       "\n",
       "     titles  \n",
       "413      Mr  \n",
       "414  Others  \n",
       "415      Mr  \n",
       "416      Mr  \n",
       "417  Master  "
      ]
     },
     "execution_count": 172,
     "metadata": {},
     "output_type": "execute_result"
    }
   ],
   "source": [
    "newtest.tail()"
   ]
  },
  {
   "cell_type": "code",
   "execution_count": 173,
   "id": "ff84f27d",
   "metadata": {},
   "outputs": [
    {
     "data": {
      "text/plain": [
       "((891, 9), (418, 9))"
      ]
     },
     "execution_count": 173,
     "metadata": {},
     "output_type": "execute_result"
    }
   ],
   "source": [
    "newtrain.shape,newtest.shape"
   ]
  },
  {
   "cell_type": "code",
   "execution_count": 174,
   "id": "92c893e4",
   "metadata": {},
   "outputs": [],
   "source": [
    "# Drop the tgt from test\n",
    "\n",
    "newtest=newtest.drop(\"Survived\",axis=1)"
   ]
  },
  {
   "cell_type": "code",
   "execution_count": 175,
   "id": "2a93d427",
   "metadata": {},
   "outputs": [
    {
     "data": {
      "text/html": [
       "<div>\n",
       "<style scoped>\n",
       "    .dataframe tbody tr th:only-of-type {\n",
       "        vertical-align: middle;\n",
       "    }\n",
       "\n",
       "    .dataframe tbody tr th {\n",
       "        vertical-align: top;\n",
       "    }\n",
       "\n",
       "    .dataframe thead th {\n",
       "        text-align: right;\n",
       "    }\n",
       "</style>\n",
       "<table border=\"1\" class=\"dataframe\">\n",
       "  <thead>\n",
       "    <tr style=\"text-align: right;\">\n",
       "      <th></th>\n",
       "      <th>Pclass</th>\n",
       "      <th>Sex</th>\n",
       "      <th>Age</th>\n",
       "      <th>Fare</th>\n",
       "      <th>Embarked</th>\n",
       "      <th>Family</th>\n",
       "      <th>Cabin_Cat</th>\n",
       "      <th>titles</th>\n",
       "    </tr>\n",
       "  </thead>\n",
       "  <tbody>\n",
       "    <tr>\n",
       "      <th>0</th>\n",
       "      <td>3</td>\n",
       "      <td>male</td>\n",
       "      <td>34.5</td>\n",
       "      <td>7.8292</td>\n",
       "      <td>Q</td>\n",
       "      <td>1</td>\n",
       "      <td>Cabin_Missing</td>\n",
       "      <td>Mr</td>\n",
       "    </tr>\n",
       "    <tr>\n",
       "      <th>1</th>\n",
       "      <td>3</td>\n",
       "      <td>female</td>\n",
       "      <td>47.0</td>\n",
       "      <td>7.0000</td>\n",
       "      <td>S</td>\n",
       "      <td>2</td>\n",
       "      <td>Cabin_Missing</td>\n",
       "      <td>Mrs</td>\n",
       "    </tr>\n",
       "    <tr>\n",
       "      <th>2</th>\n",
       "      <td>2</td>\n",
       "      <td>male</td>\n",
       "      <td>62.0</td>\n",
       "      <td>9.6875</td>\n",
       "      <td>Q</td>\n",
       "      <td>1</td>\n",
       "      <td>Cabin_Missing</td>\n",
       "      <td>Mr</td>\n",
       "    </tr>\n",
       "    <tr>\n",
       "      <th>3</th>\n",
       "      <td>3</td>\n",
       "      <td>male</td>\n",
       "      <td>27.0</td>\n",
       "      <td>8.6625</td>\n",
       "      <td>S</td>\n",
       "      <td>1</td>\n",
       "      <td>Cabin_Missing</td>\n",
       "      <td>Mr</td>\n",
       "    </tr>\n",
       "    <tr>\n",
       "      <th>4</th>\n",
       "      <td>3</td>\n",
       "      <td>female</td>\n",
       "      <td>22.0</td>\n",
       "      <td>12.2875</td>\n",
       "      <td>S</td>\n",
       "      <td>3</td>\n",
       "      <td>Cabin_Missing</td>\n",
       "      <td>Mrs</td>\n",
       "    </tr>\n",
       "  </tbody>\n",
       "</table>\n",
       "</div>"
      ],
      "text/plain": [
       "   Pclass     Sex   Age     Fare Embarked  Family      Cabin_Cat titles\n",
       "0       3    male  34.5   7.8292        Q       1  Cabin_Missing     Mr\n",
       "1       3  female  47.0   7.0000        S       2  Cabin_Missing    Mrs\n",
       "2       2    male  62.0   9.6875        Q       1  Cabin_Missing     Mr\n",
       "3       3    male  27.0   8.6625        S       1  Cabin_Missing     Mr\n",
       "4       3  female  22.0  12.2875        S       3  Cabin_Missing    Mrs"
      ]
     },
     "execution_count": 175,
     "metadata": {},
     "output_type": "execute_result"
    }
   ],
   "source": [
    "newtest.head()"
   ]
  },
  {
   "cell_type": "code",
   "execution_count": 176,
   "id": "d5db6112",
   "metadata": {},
   "outputs": [
    {
     "data": {
      "text/plain": [
       "((891, 9), (418, 8))"
      ]
     },
     "execution_count": 176,
     "metadata": {},
     "output_type": "execute_result"
    }
   ],
   "source": [
    "newtrain.shape,newtest.shape"
   ]
  },
  {
   "cell_type": "markdown",
   "id": "1b6d753b",
   "metadata": {},
   "source": [
    "# Scaling"
   ]
  },
  {
   "cell_type": "code",
   "execution_count": 177,
   "id": "6b9f0187",
   "metadata": {},
   "outputs": [],
   "source": [
    "sc= StandardScaler()   # fit will store the mean and std of train data  # By Scaling the Age & Fare columns ,the mean and std becomes 0,1"
   ]
  },
  {
   "cell_type": "code",
   "execution_count": 178,
   "id": "4e5c2063",
   "metadata": {},
   "outputs": [],
   "source": [
    "df=pd.DataFrame(sc.fit_transform(newtrain.loc[:,[\"Age\",\"Fare\"]]),columns=[\"age_scaled\",\"fare_scaled\"])"
   ]
  },
  {
   "cell_type": "code",
   "execution_count": 179,
   "id": "723f84bb",
   "metadata": {},
   "outputs": [
    {
     "data": {
      "text/html": [
       "<div>\n",
       "<style scoped>\n",
       "    .dataframe tbody tr th:only-of-type {\n",
       "        vertical-align: middle;\n",
       "    }\n",
       "\n",
       "    .dataframe tbody tr th {\n",
       "        vertical-align: top;\n",
       "    }\n",
       "\n",
       "    .dataframe thead th {\n",
       "        text-align: right;\n",
       "    }\n",
       "</style>\n",
       "<table border=\"1\" class=\"dataframe\">\n",
       "  <thead>\n",
       "    <tr style=\"text-align: right;\">\n",
       "      <th></th>\n",
       "      <th>Survived</th>\n",
       "      <th>Pclass</th>\n",
       "      <th>Sex</th>\n",
       "      <th>Age</th>\n",
       "      <th>Fare</th>\n",
       "      <th>Embarked</th>\n",
       "      <th>Family</th>\n",
       "      <th>Cabin_Cat</th>\n",
       "      <th>titles</th>\n",
       "    </tr>\n",
       "  </thead>\n",
       "  <tbody>\n",
       "    <tr>\n",
       "      <th>0</th>\n",
       "      <td>0.0</td>\n",
       "      <td>3</td>\n",
       "      <td>male</td>\n",
       "      <td>-0.552307</td>\n",
       "      <td>-0.502445</td>\n",
       "      <td>S</td>\n",
       "      <td>2</td>\n",
       "      <td>Cabin_Missing</td>\n",
       "      <td>Mr</td>\n",
       "    </tr>\n",
       "    <tr>\n",
       "      <th>1</th>\n",
       "      <td>1.0</td>\n",
       "      <td>1</td>\n",
       "      <td>female</td>\n",
       "      <td>0.657044</td>\n",
       "      <td>0.786845</td>\n",
       "      <td>C</td>\n",
       "      <td>2</td>\n",
       "      <td>Cabin_Alloted</td>\n",
       "      <td>Mrs</td>\n",
       "    </tr>\n",
       "    <tr>\n",
       "      <th>2</th>\n",
       "      <td>1.0</td>\n",
       "      <td>3</td>\n",
       "      <td>female</td>\n",
       "      <td>-0.249969</td>\n",
       "      <td>-0.488854</td>\n",
       "      <td>S</td>\n",
       "      <td>1</td>\n",
       "      <td>Cabin_Missing</td>\n",
       "      <td>Miss</td>\n",
       "    </tr>\n",
       "    <tr>\n",
       "      <th>3</th>\n",
       "      <td>1.0</td>\n",
       "      <td>1</td>\n",
       "      <td>female</td>\n",
       "      <td>0.430291</td>\n",
       "      <td>0.420730</td>\n",
       "      <td>S</td>\n",
       "      <td>2</td>\n",
       "      <td>Cabin_Alloted</td>\n",
       "      <td>Mrs</td>\n",
       "    </tr>\n",
       "    <tr>\n",
       "      <th>4</th>\n",
       "      <td>0.0</td>\n",
       "      <td>3</td>\n",
       "      <td>male</td>\n",
       "      <td>0.430291</td>\n",
       "      <td>-0.486337</td>\n",
       "      <td>S</td>\n",
       "      <td>1</td>\n",
       "      <td>Cabin_Missing</td>\n",
       "      <td>Mr</td>\n",
       "    </tr>\n",
       "    <tr>\n",
       "      <th>...</th>\n",
       "      <td>...</td>\n",
       "      <td>...</td>\n",
       "      <td>...</td>\n",
       "      <td>...</td>\n",
       "      <td>...</td>\n",
       "      <td>...</td>\n",
       "      <td>...</td>\n",
       "      <td>...</td>\n",
       "      <td>...</td>\n",
       "    </tr>\n",
       "    <tr>\n",
       "      <th>886</th>\n",
       "      <td>0.0</td>\n",
       "      <td>2</td>\n",
       "      <td>male</td>\n",
       "      <td>-0.174385</td>\n",
       "      <td>-0.386671</td>\n",
       "      <td>S</td>\n",
       "      <td>1</td>\n",
       "      <td>Cabin_Missing</td>\n",
       "      <td>Others</td>\n",
       "    </tr>\n",
       "    <tr>\n",
       "      <th>887</th>\n",
       "      <td>1.0</td>\n",
       "      <td>1</td>\n",
       "      <td>female</td>\n",
       "      <td>-0.779060</td>\n",
       "      <td>-0.044381</td>\n",
       "      <td>S</td>\n",
       "      <td>1</td>\n",
       "      <td>Cabin_Alloted</td>\n",
       "      <td>Miss</td>\n",
       "    </tr>\n",
       "    <tr>\n",
       "      <th>888</th>\n",
       "      <td>0.0</td>\n",
       "      <td>3</td>\n",
       "      <td>female</td>\n",
       "      <td>-0.552307</td>\n",
       "      <td>-0.176263</td>\n",
       "      <td>S</td>\n",
       "      <td>4</td>\n",
       "      <td>Cabin_Missing</td>\n",
       "      <td>Miss</td>\n",
       "    </tr>\n",
       "    <tr>\n",
       "      <th>889</th>\n",
       "      <td>1.0</td>\n",
       "      <td>1</td>\n",
       "      <td>male</td>\n",
       "      <td>-0.249969</td>\n",
       "      <td>-0.044381</td>\n",
       "      <td>C</td>\n",
       "      <td>1</td>\n",
       "      <td>Cabin_Alloted</td>\n",
       "      <td>Mr</td>\n",
       "    </tr>\n",
       "    <tr>\n",
       "      <th>890</th>\n",
       "      <td>0.0</td>\n",
       "      <td>3</td>\n",
       "      <td>male</td>\n",
       "      <td>0.203538</td>\n",
       "      <td>-0.492378</td>\n",
       "      <td>Q</td>\n",
       "      <td>1</td>\n",
       "      <td>Cabin_Missing</td>\n",
       "      <td>Mr</td>\n",
       "    </tr>\n",
       "  </tbody>\n",
       "</table>\n",
       "<p>891 rows × 9 columns</p>\n",
       "</div>"
      ],
      "text/plain": [
       "     Survived  Pclass     Sex       Age      Fare Embarked  Family  \\\n",
       "0         0.0       3    male -0.552307 -0.502445        S       2   \n",
       "1         1.0       1  female  0.657044  0.786845        C       2   \n",
       "2         1.0       3  female -0.249969 -0.488854        S       1   \n",
       "3         1.0       1  female  0.430291  0.420730        S       2   \n",
       "4         0.0       3    male  0.430291 -0.486337        S       1   \n",
       "..        ...     ...     ...       ...       ...      ...     ...   \n",
       "886       0.0       2    male -0.174385 -0.386671        S       1   \n",
       "887       1.0       1  female -0.779060 -0.044381        S       1   \n",
       "888       0.0       3  female -0.552307 -0.176263        S       4   \n",
       "889       1.0       1    male -0.249969 -0.044381        C       1   \n",
       "890       0.0       3    male  0.203538 -0.492378        Q       1   \n",
       "\n",
       "         Cabin_Cat  titles  \n",
       "0    Cabin_Missing      Mr  \n",
       "1    Cabin_Alloted     Mrs  \n",
       "2    Cabin_Missing    Miss  \n",
       "3    Cabin_Alloted     Mrs  \n",
       "4    Cabin_Missing      Mr  \n",
       "..             ...     ...  \n",
       "886  Cabin_Missing  Others  \n",
       "887  Cabin_Alloted    Miss  \n",
       "888  Cabin_Missing    Miss  \n",
       "889  Cabin_Alloted      Mr  \n",
       "890  Cabin_Missing      Mr  \n",
       "\n",
       "[891 rows x 9 columns]"
      ]
     },
     "execution_count": 179,
     "metadata": {},
     "output_type": "execute_result"
    }
   ],
   "source": [
    "newtrain[\"Age\"]=df[\"age_scaled\"]\n",
    "newtrain[\"Fare\"]=df[\"fare_scaled\"]\n",
    "newtrain"
   ]
  },
  {
   "cell_type": "code",
   "execution_count": 180,
   "id": "b844fbbc",
   "metadata": {},
   "outputs": [
    {
     "data": {
      "text/html": [
       "<div>\n",
       "<style scoped>\n",
       "    .dataframe tbody tr th:only-of-type {\n",
       "        vertical-align: middle;\n",
       "    }\n",
       "\n",
       "    .dataframe tbody tr th {\n",
       "        vertical-align: top;\n",
       "    }\n",
       "\n",
       "    .dataframe thead th {\n",
       "        text-align: right;\n",
       "    }\n",
       "</style>\n",
       "<table border=\"1\" class=\"dataframe\">\n",
       "  <thead>\n",
       "    <tr style=\"text-align: right;\">\n",
       "      <th></th>\n",
       "      <th>age_scaled</th>\n",
       "      <th>fare_scaled</th>\n",
       "    </tr>\n",
       "  </thead>\n",
       "  <tbody>\n",
       "    <tr>\n",
       "      <th>0</th>\n",
       "      <td>0.392499</td>\n",
       "      <td>-0.490783</td>\n",
       "    </tr>\n",
       "    <tr>\n",
       "      <th>1</th>\n",
       "      <td>1.337305</td>\n",
       "      <td>-0.507479</td>\n",
       "    </tr>\n",
       "    <tr>\n",
       "      <th>2</th>\n",
       "      <td>2.471071</td>\n",
       "      <td>-0.453367</td>\n",
       "    </tr>\n",
       "    <tr>\n",
       "      <th>3</th>\n",
       "      <td>-0.174385</td>\n",
       "      <td>-0.474005</td>\n",
       "    </tr>\n",
       "    <tr>\n",
       "      <th>4</th>\n",
       "      <td>-0.552307</td>\n",
       "      <td>-0.401017</td>\n",
       "    </tr>\n",
       "    <tr>\n",
       "      <th>...</th>\n",
       "      <td>...</td>\n",
       "      <td>...</td>\n",
       "    </tr>\n",
       "    <tr>\n",
       "      <th>413</th>\n",
       "      <td>-0.023216</td>\n",
       "      <td>-0.486337</td>\n",
       "    </tr>\n",
       "    <tr>\n",
       "      <th>414</th>\n",
       "      <td>0.732629</td>\n",
       "      <td>1.544246</td>\n",
       "    </tr>\n",
       "    <tr>\n",
       "      <th>415</th>\n",
       "      <td>0.694837</td>\n",
       "      <td>-0.502445</td>\n",
       "    </tr>\n",
       "    <tr>\n",
       "      <th>416</th>\n",
       "      <td>-0.023216</td>\n",
       "      <td>-0.486337</td>\n",
       "    </tr>\n",
       "    <tr>\n",
       "      <th>417</th>\n",
       "      <td>-1.912827</td>\n",
       "      <td>-0.198244</td>\n",
       "    </tr>\n",
       "  </tbody>\n",
       "</table>\n",
       "<p>418 rows × 2 columns</p>\n",
       "</div>"
      ],
      "text/plain": [
       "     age_scaled  fare_scaled\n",
       "0      0.392499    -0.490783\n",
       "1      1.337305    -0.507479\n",
       "2      2.471071    -0.453367\n",
       "3     -0.174385    -0.474005\n",
       "4     -0.552307    -0.401017\n",
       "..          ...          ...\n",
       "413   -0.023216    -0.486337\n",
       "414    0.732629     1.544246\n",
       "415    0.694837    -0.502445\n",
       "416   -0.023216    -0.486337\n",
       "417   -1.912827    -0.198244\n",
       "\n",
       "[418 rows x 2 columns]"
      ]
     },
     "execution_count": 180,
     "metadata": {},
     "output_type": "execute_result"
    }
   ],
   "source": [
    "# Scale the age and fare in test\n",
    "\n",
    "testdf=pd.DataFrame(sc.transform(newtest.loc[:,[\"Age\",\"Fare\"]]),columns=[\"age_scaled\",\"fare_scaled\"])\n",
    "testdf"
   ]
  },
  {
   "cell_type": "code",
   "execution_count": 181,
   "id": "f404ab93",
   "metadata": {},
   "outputs": [
    {
     "data": {
      "text/html": [
       "<div>\n",
       "<style scoped>\n",
       "    .dataframe tbody tr th:only-of-type {\n",
       "        vertical-align: middle;\n",
       "    }\n",
       "\n",
       "    .dataframe tbody tr th {\n",
       "        vertical-align: top;\n",
       "    }\n",
       "\n",
       "    .dataframe thead th {\n",
       "        text-align: right;\n",
       "    }\n",
       "</style>\n",
       "<table border=\"1\" class=\"dataframe\">\n",
       "  <thead>\n",
       "    <tr style=\"text-align: right;\">\n",
       "      <th></th>\n",
       "      <th>Pclass</th>\n",
       "      <th>Sex</th>\n",
       "      <th>Age</th>\n",
       "      <th>Fare</th>\n",
       "      <th>Embarked</th>\n",
       "      <th>Family</th>\n",
       "      <th>Cabin_Cat</th>\n",
       "      <th>titles</th>\n",
       "    </tr>\n",
       "  </thead>\n",
       "  <tbody>\n",
       "    <tr>\n",
       "      <th>0</th>\n",
       "      <td>3</td>\n",
       "      <td>male</td>\n",
       "      <td>0.392499</td>\n",
       "      <td>-0.490783</td>\n",
       "      <td>Q</td>\n",
       "      <td>1</td>\n",
       "      <td>Cabin_Missing</td>\n",
       "      <td>Mr</td>\n",
       "    </tr>\n",
       "    <tr>\n",
       "      <th>1</th>\n",
       "      <td>3</td>\n",
       "      <td>female</td>\n",
       "      <td>1.337305</td>\n",
       "      <td>-0.507479</td>\n",
       "      <td>S</td>\n",
       "      <td>2</td>\n",
       "      <td>Cabin_Missing</td>\n",
       "      <td>Mrs</td>\n",
       "    </tr>\n",
       "    <tr>\n",
       "      <th>2</th>\n",
       "      <td>2</td>\n",
       "      <td>male</td>\n",
       "      <td>2.471071</td>\n",
       "      <td>-0.453367</td>\n",
       "      <td>Q</td>\n",
       "      <td>1</td>\n",
       "      <td>Cabin_Missing</td>\n",
       "      <td>Mr</td>\n",
       "    </tr>\n",
       "    <tr>\n",
       "      <th>3</th>\n",
       "      <td>3</td>\n",
       "      <td>male</td>\n",
       "      <td>-0.174385</td>\n",
       "      <td>-0.474005</td>\n",
       "      <td>S</td>\n",
       "      <td>1</td>\n",
       "      <td>Cabin_Missing</td>\n",
       "      <td>Mr</td>\n",
       "    </tr>\n",
       "    <tr>\n",
       "      <th>4</th>\n",
       "      <td>3</td>\n",
       "      <td>female</td>\n",
       "      <td>-0.552307</td>\n",
       "      <td>-0.401017</td>\n",
       "      <td>S</td>\n",
       "      <td>3</td>\n",
       "      <td>Cabin_Missing</td>\n",
       "      <td>Mrs</td>\n",
       "    </tr>\n",
       "    <tr>\n",
       "      <th>...</th>\n",
       "      <td>...</td>\n",
       "      <td>...</td>\n",
       "      <td>...</td>\n",
       "      <td>...</td>\n",
       "      <td>...</td>\n",
       "      <td>...</td>\n",
       "      <td>...</td>\n",
       "      <td>...</td>\n",
       "    </tr>\n",
       "    <tr>\n",
       "      <th>413</th>\n",
       "      <td>3</td>\n",
       "      <td>male</td>\n",
       "      <td>-0.023216</td>\n",
       "      <td>-0.486337</td>\n",
       "      <td>S</td>\n",
       "      <td>1</td>\n",
       "      <td>Cabin_Missing</td>\n",
       "      <td>Mr</td>\n",
       "    </tr>\n",
       "    <tr>\n",
       "      <th>414</th>\n",
       "      <td>1</td>\n",
       "      <td>female</td>\n",
       "      <td>0.732629</td>\n",
       "      <td>1.544246</td>\n",
       "      <td>C</td>\n",
       "      <td>1</td>\n",
       "      <td>Cabin_Alloted</td>\n",
       "      <td>Others</td>\n",
       "    </tr>\n",
       "    <tr>\n",
       "      <th>415</th>\n",
       "      <td>3</td>\n",
       "      <td>male</td>\n",
       "      <td>0.694837</td>\n",
       "      <td>-0.502445</td>\n",
       "      <td>S</td>\n",
       "      <td>1</td>\n",
       "      <td>Cabin_Missing</td>\n",
       "      <td>Mr</td>\n",
       "    </tr>\n",
       "    <tr>\n",
       "      <th>416</th>\n",
       "      <td>3</td>\n",
       "      <td>male</td>\n",
       "      <td>-0.023216</td>\n",
       "      <td>-0.486337</td>\n",
       "      <td>S</td>\n",
       "      <td>1</td>\n",
       "      <td>Cabin_Missing</td>\n",
       "      <td>Mr</td>\n",
       "    </tr>\n",
       "    <tr>\n",
       "      <th>417</th>\n",
       "      <td>3</td>\n",
       "      <td>male</td>\n",
       "      <td>-1.912827</td>\n",
       "      <td>-0.198244</td>\n",
       "      <td>C</td>\n",
       "      <td>3</td>\n",
       "      <td>Cabin_Missing</td>\n",
       "      <td>Master</td>\n",
       "    </tr>\n",
       "  </tbody>\n",
       "</table>\n",
       "<p>418 rows × 8 columns</p>\n",
       "</div>"
      ],
      "text/plain": [
       "     Pclass     Sex       Age      Fare Embarked  Family      Cabin_Cat  \\\n",
       "0         3    male  0.392499 -0.490783        Q       1  Cabin_Missing   \n",
       "1         3  female  1.337305 -0.507479        S       2  Cabin_Missing   \n",
       "2         2    male  2.471071 -0.453367        Q       1  Cabin_Missing   \n",
       "3         3    male -0.174385 -0.474005        S       1  Cabin_Missing   \n",
       "4         3  female -0.552307 -0.401017        S       3  Cabin_Missing   \n",
       "..      ...     ...       ...       ...      ...     ...            ...   \n",
       "413       3    male -0.023216 -0.486337        S       1  Cabin_Missing   \n",
       "414       1  female  0.732629  1.544246        C       1  Cabin_Alloted   \n",
       "415       3    male  0.694837 -0.502445        S       1  Cabin_Missing   \n",
       "416       3    male -0.023216 -0.486337        S       1  Cabin_Missing   \n",
       "417       3    male -1.912827 -0.198244        C       3  Cabin_Missing   \n",
       "\n",
       "     titles  \n",
       "0        Mr  \n",
       "1       Mrs  \n",
       "2        Mr  \n",
       "3        Mr  \n",
       "4       Mrs  \n",
       "..      ...  \n",
       "413      Mr  \n",
       "414  Others  \n",
       "415      Mr  \n",
       "416      Mr  \n",
       "417  Master  \n",
       "\n",
       "[418 rows x 8 columns]"
      ]
     },
     "execution_count": 181,
     "metadata": {},
     "output_type": "execute_result"
    }
   ],
   "source": [
    "newtest[\"Age\"]=testdf[\"age_scaled\"]\n",
    "newtest[\"Fare\"]=testdf[\"fare_scaled\"]\n",
    "newtest"
   ]
  },
  {
   "cell_type": "code",
   "execution_count": 182,
   "id": "0e7a73e9",
   "metadata": {},
   "outputs": [
    {
     "data": {
      "text/html": [
       "<div>\n",
       "<style scoped>\n",
       "    .dataframe tbody tr th:only-of-type {\n",
       "        vertical-align: middle;\n",
       "    }\n",
       "\n",
       "    .dataframe tbody tr th {\n",
       "        vertical-align: top;\n",
       "    }\n",
       "\n",
       "    .dataframe thead th {\n",
       "        text-align: right;\n",
       "    }\n",
       "</style>\n",
       "<table border=\"1\" class=\"dataframe\">\n",
       "  <thead>\n",
       "    <tr style=\"text-align: right;\">\n",
       "      <th></th>\n",
       "      <th>Pclass</th>\n",
       "      <th>Sex</th>\n",
       "      <th>Age</th>\n",
       "      <th>Fare</th>\n",
       "      <th>Embarked</th>\n",
       "      <th>Family</th>\n",
       "      <th>Cabin_Cat</th>\n",
       "      <th>titles</th>\n",
       "    </tr>\n",
       "  </thead>\n",
       "  <tbody>\n",
       "    <tr>\n",
       "      <th>0</th>\n",
       "      <td>3</td>\n",
       "      <td>male</td>\n",
       "      <td>0.392499</td>\n",
       "      <td>-0.490783</td>\n",
       "      <td>Q</td>\n",
       "      <td>1</td>\n",
       "      <td>Cabin_Missing</td>\n",
       "      <td>Mr</td>\n",
       "    </tr>\n",
       "    <tr>\n",
       "      <th>1</th>\n",
       "      <td>3</td>\n",
       "      <td>female</td>\n",
       "      <td>1.337305</td>\n",
       "      <td>-0.507479</td>\n",
       "      <td>S</td>\n",
       "      <td>2</td>\n",
       "      <td>Cabin_Missing</td>\n",
       "      <td>Mrs</td>\n",
       "    </tr>\n",
       "    <tr>\n",
       "      <th>2</th>\n",
       "      <td>2</td>\n",
       "      <td>male</td>\n",
       "      <td>2.471071</td>\n",
       "      <td>-0.453367</td>\n",
       "      <td>Q</td>\n",
       "      <td>1</td>\n",
       "      <td>Cabin_Missing</td>\n",
       "      <td>Mr</td>\n",
       "    </tr>\n",
       "    <tr>\n",
       "      <th>3</th>\n",
       "      <td>3</td>\n",
       "      <td>male</td>\n",
       "      <td>-0.174385</td>\n",
       "      <td>-0.474005</td>\n",
       "      <td>S</td>\n",
       "      <td>1</td>\n",
       "      <td>Cabin_Missing</td>\n",
       "      <td>Mr</td>\n",
       "    </tr>\n",
       "    <tr>\n",
       "      <th>4</th>\n",
       "      <td>3</td>\n",
       "      <td>female</td>\n",
       "      <td>-0.552307</td>\n",
       "      <td>-0.401017</td>\n",
       "      <td>S</td>\n",
       "      <td>3</td>\n",
       "      <td>Cabin_Missing</td>\n",
       "      <td>Mrs</td>\n",
       "    </tr>\n",
       "  </tbody>\n",
       "</table>\n",
       "</div>"
      ],
      "text/plain": [
       "   Pclass     Sex       Age      Fare Embarked  Family      Cabin_Cat titles\n",
       "0       3    male  0.392499 -0.490783        Q       1  Cabin_Missing     Mr\n",
       "1       3  female  1.337305 -0.507479        S       2  Cabin_Missing    Mrs\n",
       "2       2    male  2.471071 -0.453367        Q       1  Cabin_Missing     Mr\n",
       "3       3    male -0.174385 -0.474005        S       1  Cabin_Missing     Mr\n",
       "4       3  female -0.552307 -0.401017        S       3  Cabin_Missing    Mrs"
      ]
     },
     "execution_count": 182,
     "metadata": {},
     "output_type": "execute_result"
    }
   ],
   "source": [
    "newtest.head()"
   ]
  },
  {
   "cell_type": "code",
   "execution_count": 183,
   "id": "00634c62",
   "metadata": {},
   "outputs": [
    {
     "data": {
      "text/html": [
       "<div>\n",
       "<style scoped>\n",
       "    .dataframe tbody tr th:only-of-type {\n",
       "        vertical-align: middle;\n",
       "    }\n",
       "\n",
       "    .dataframe tbody tr th {\n",
       "        vertical-align: top;\n",
       "    }\n",
       "\n",
       "    .dataframe thead th {\n",
       "        text-align: right;\n",
       "    }\n",
       "</style>\n",
       "<table border=\"1\" class=\"dataframe\">\n",
       "  <thead>\n",
       "    <tr style=\"text-align: right;\">\n",
       "      <th></th>\n",
       "      <th>0</th>\n",
       "      <th>1</th>\n",
       "      <th>2</th>\n",
       "      <th>3</th>\n",
       "      <th>4</th>\n",
       "      <th>5</th>\n",
       "      <th>6</th>\n",
       "      <th>7</th>\n",
       "      <th>8</th>\n",
       "      <th>9</th>\n",
       "      <th>...</th>\n",
       "      <th>354</th>\n",
       "      <th>355</th>\n",
       "      <th>356</th>\n",
       "      <th>357</th>\n",
       "      <th>358</th>\n",
       "      <th>359</th>\n",
       "      <th>360</th>\n",
       "      <th>361</th>\n",
       "      <th>362</th>\n",
       "      <th>363</th>\n",
       "    </tr>\n",
       "  </thead>\n",
       "  <tbody>\n",
       "    <tr>\n",
       "      <th>0</th>\n",
       "      <td>1.0</td>\n",
       "      <td>0.0</td>\n",
       "      <td>0.0</td>\n",
       "      <td>0.0</td>\n",
       "      <td>1.0</td>\n",
       "      <td>0.0</td>\n",
       "      <td>1.0</td>\n",
       "      <td>0.0</td>\n",
       "      <td>0.0</td>\n",
       "      <td>0.0</td>\n",
       "      <td>...</td>\n",
       "      <td>0.0</td>\n",
       "      <td>0.0</td>\n",
       "      <td>0.0</td>\n",
       "      <td>1.0</td>\n",
       "      <td>0.0</td>\n",
       "      <td>0.0</td>\n",
       "      <td>1.0</td>\n",
       "      <td>0.0</td>\n",
       "      <td>0.0</td>\n",
       "      <td>0.0</td>\n",
       "    </tr>\n",
       "    <tr>\n",
       "      <th>1</th>\n",
       "      <td>0.0</td>\n",
       "      <td>1.0</td>\n",
       "      <td>1.0</td>\n",
       "      <td>0.0</td>\n",
       "      <td>0.0</td>\n",
       "      <td>1.0</td>\n",
       "      <td>0.0</td>\n",
       "      <td>0.0</td>\n",
       "      <td>0.0</td>\n",
       "      <td>0.0</td>\n",
       "      <td>...</td>\n",
       "      <td>0.0</td>\n",
       "      <td>0.0</td>\n",
       "      <td>1.0</td>\n",
       "      <td>0.0</td>\n",
       "      <td>0.0</td>\n",
       "      <td>0.0</td>\n",
       "      <td>0.0</td>\n",
       "      <td>1.0</td>\n",
       "      <td>0.0</td>\n",
       "      <td>0.0</td>\n",
       "    </tr>\n",
       "    <tr>\n",
       "      <th>2</th>\n",
       "      <td>0.0</td>\n",
       "      <td>1.0</td>\n",
       "      <td>0.0</td>\n",
       "      <td>0.0</td>\n",
       "      <td>1.0</td>\n",
       "      <td>1.0</td>\n",
       "      <td>0.0</td>\n",
       "      <td>0.0</td>\n",
       "      <td>0.0</td>\n",
       "      <td>0.0</td>\n",
       "      <td>...</td>\n",
       "      <td>0.0</td>\n",
       "      <td>0.0</td>\n",
       "      <td>0.0</td>\n",
       "      <td>1.0</td>\n",
       "      <td>0.0</td>\n",
       "      <td>1.0</td>\n",
       "      <td>0.0</td>\n",
       "      <td>0.0</td>\n",
       "      <td>0.0</td>\n",
       "      <td>0.0</td>\n",
       "    </tr>\n",
       "    <tr>\n",
       "      <th>3</th>\n",
       "      <td>0.0</td>\n",
       "      <td>1.0</td>\n",
       "      <td>1.0</td>\n",
       "      <td>0.0</td>\n",
       "      <td>0.0</td>\n",
       "      <td>1.0</td>\n",
       "      <td>0.0</td>\n",
       "      <td>0.0</td>\n",
       "      <td>0.0</td>\n",
       "      <td>0.0</td>\n",
       "      <td>...</td>\n",
       "      <td>0.0</td>\n",
       "      <td>0.0</td>\n",
       "      <td>1.0</td>\n",
       "      <td>0.0</td>\n",
       "      <td>0.0</td>\n",
       "      <td>0.0</td>\n",
       "      <td>0.0</td>\n",
       "      <td>1.0</td>\n",
       "      <td>0.0</td>\n",
       "      <td>0.0</td>\n",
       "    </tr>\n",
       "    <tr>\n",
       "      <th>4</th>\n",
       "      <td>1.0</td>\n",
       "      <td>0.0</td>\n",
       "      <td>0.0</td>\n",
       "      <td>0.0</td>\n",
       "      <td>1.0</td>\n",
       "      <td>0.0</td>\n",
       "      <td>1.0</td>\n",
       "      <td>0.0</td>\n",
       "      <td>0.0</td>\n",
       "      <td>0.0</td>\n",
       "      <td>...</td>\n",
       "      <td>0.0</td>\n",
       "      <td>0.0</td>\n",
       "      <td>0.0</td>\n",
       "      <td>1.0</td>\n",
       "      <td>0.0</td>\n",
       "      <td>0.0</td>\n",
       "      <td>1.0</td>\n",
       "      <td>0.0</td>\n",
       "      <td>0.0</td>\n",
       "      <td>0.0</td>\n",
       "    </tr>\n",
       "    <tr>\n",
       "      <th>...</th>\n",
       "      <td>...</td>\n",
       "      <td>...</td>\n",
       "      <td>...</td>\n",
       "      <td>...</td>\n",
       "      <td>...</td>\n",
       "      <td>...</td>\n",
       "      <td>...</td>\n",
       "      <td>...</td>\n",
       "      <td>...</td>\n",
       "      <td>...</td>\n",
       "      <td>...</td>\n",
       "      <td>...</td>\n",
       "      <td>...</td>\n",
       "      <td>...</td>\n",
       "      <td>...</td>\n",
       "      <td>...</td>\n",
       "      <td>...</td>\n",
       "      <td>...</td>\n",
       "      <td>...</td>\n",
       "      <td>...</td>\n",
       "      <td>...</td>\n",
       "    </tr>\n",
       "    <tr>\n",
       "      <th>886</th>\n",
       "      <td>1.0</td>\n",
       "      <td>0.0</td>\n",
       "      <td>0.0</td>\n",
       "      <td>1.0</td>\n",
       "      <td>0.0</td>\n",
       "      <td>0.0</td>\n",
       "      <td>1.0</td>\n",
       "      <td>0.0</td>\n",
       "      <td>0.0</td>\n",
       "      <td>0.0</td>\n",
       "      <td>...</td>\n",
       "      <td>0.0</td>\n",
       "      <td>0.0</td>\n",
       "      <td>0.0</td>\n",
       "      <td>1.0</td>\n",
       "      <td>0.0</td>\n",
       "      <td>0.0</td>\n",
       "      <td>0.0</td>\n",
       "      <td>0.0</td>\n",
       "      <td>0.0</td>\n",
       "      <td>1.0</td>\n",
       "    </tr>\n",
       "    <tr>\n",
       "      <th>887</th>\n",
       "      <td>0.0</td>\n",
       "      <td>1.0</td>\n",
       "      <td>1.0</td>\n",
       "      <td>0.0</td>\n",
       "      <td>0.0</td>\n",
       "      <td>1.0</td>\n",
       "      <td>0.0</td>\n",
       "      <td>0.0</td>\n",
       "      <td>0.0</td>\n",
       "      <td>0.0</td>\n",
       "      <td>...</td>\n",
       "      <td>0.0</td>\n",
       "      <td>0.0</td>\n",
       "      <td>1.0</td>\n",
       "      <td>0.0</td>\n",
       "      <td>0.0</td>\n",
       "      <td>1.0</td>\n",
       "      <td>0.0</td>\n",
       "      <td>0.0</td>\n",
       "      <td>0.0</td>\n",
       "      <td>0.0</td>\n",
       "    </tr>\n",
       "    <tr>\n",
       "      <th>888</th>\n",
       "      <td>1.0</td>\n",
       "      <td>0.0</td>\n",
       "      <td>0.0</td>\n",
       "      <td>0.0</td>\n",
       "      <td>1.0</td>\n",
       "      <td>1.0</td>\n",
       "      <td>0.0</td>\n",
       "      <td>0.0</td>\n",
       "      <td>0.0</td>\n",
       "      <td>0.0</td>\n",
       "      <td>...</td>\n",
       "      <td>0.0</td>\n",
       "      <td>0.0</td>\n",
       "      <td>0.0</td>\n",
       "      <td>1.0</td>\n",
       "      <td>0.0</td>\n",
       "      <td>1.0</td>\n",
       "      <td>0.0</td>\n",
       "      <td>0.0</td>\n",
       "      <td>0.0</td>\n",
       "      <td>0.0</td>\n",
       "    </tr>\n",
       "    <tr>\n",
       "      <th>889</th>\n",
       "      <td>0.0</td>\n",
       "      <td>1.0</td>\n",
       "      <td>1.0</td>\n",
       "      <td>0.0</td>\n",
       "      <td>0.0</td>\n",
       "      <td>0.0</td>\n",
       "      <td>1.0</td>\n",
       "      <td>0.0</td>\n",
       "      <td>0.0</td>\n",
       "      <td>0.0</td>\n",
       "      <td>...</td>\n",
       "      <td>0.0</td>\n",
       "      <td>0.0</td>\n",
       "      <td>1.0</td>\n",
       "      <td>0.0</td>\n",
       "      <td>0.0</td>\n",
       "      <td>0.0</td>\n",
       "      <td>1.0</td>\n",
       "      <td>0.0</td>\n",
       "      <td>0.0</td>\n",
       "      <td>0.0</td>\n",
       "    </tr>\n",
       "    <tr>\n",
       "      <th>890</th>\n",
       "      <td>1.0</td>\n",
       "      <td>0.0</td>\n",
       "      <td>0.0</td>\n",
       "      <td>0.0</td>\n",
       "      <td>1.0</td>\n",
       "      <td>0.0</td>\n",
       "      <td>1.0</td>\n",
       "      <td>0.0</td>\n",
       "      <td>0.0</td>\n",
       "      <td>0.0</td>\n",
       "      <td>...</td>\n",
       "      <td>0.0</td>\n",
       "      <td>0.0</td>\n",
       "      <td>0.0</td>\n",
       "      <td>1.0</td>\n",
       "      <td>0.0</td>\n",
       "      <td>0.0</td>\n",
       "      <td>1.0</td>\n",
       "      <td>0.0</td>\n",
       "      <td>0.0</td>\n",
       "      <td>0.0</td>\n",
       "    </tr>\n",
       "  </tbody>\n",
       "</table>\n",
       "<p>891 rows × 364 columns</p>\n",
       "</div>"
      ],
      "text/plain": [
       "     0    1    2    3    4    5    6    7    8    9    ...  354  355  356  \\\n",
       "0    1.0  0.0  0.0  0.0  1.0  0.0  1.0  0.0  0.0  0.0  ...  0.0  0.0  0.0   \n",
       "1    0.0  1.0  1.0  0.0  0.0  1.0  0.0  0.0  0.0  0.0  ...  0.0  0.0  1.0   \n",
       "2    0.0  1.0  0.0  0.0  1.0  1.0  0.0  0.0  0.0  0.0  ...  0.0  0.0  0.0   \n",
       "3    0.0  1.0  1.0  0.0  0.0  1.0  0.0  0.0  0.0  0.0  ...  0.0  0.0  1.0   \n",
       "4    1.0  0.0  0.0  0.0  1.0  0.0  1.0  0.0  0.0  0.0  ...  0.0  0.0  0.0   \n",
       "..   ...  ...  ...  ...  ...  ...  ...  ...  ...  ...  ...  ...  ...  ...   \n",
       "886  1.0  0.0  0.0  1.0  0.0  0.0  1.0  0.0  0.0  0.0  ...  0.0  0.0  0.0   \n",
       "887  0.0  1.0  1.0  0.0  0.0  1.0  0.0  0.0  0.0  0.0  ...  0.0  0.0  1.0   \n",
       "888  1.0  0.0  0.0  0.0  1.0  1.0  0.0  0.0  0.0  0.0  ...  0.0  0.0  0.0   \n",
       "889  0.0  1.0  1.0  0.0  0.0  0.0  1.0  0.0  0.0  0.0  ...  0.0  0.0  1.0   \n",
       "890  1.0  0.0  0.0  0.0  1.0  0.0  1.0  0.0  0.0  0.0  ...  0.0  0.0  0.0   \n",
       "\n",
       "     357  358  359  360  361  362  363  \n",
       "0    1.0  0.0  0.0  1.0  0.0  0.0  0.0  \n",
       "1    0.0  0.0  0.0  0.0  1.0  0.0  0.0  \n",
       "2    1.0  0.0  1.0  0.0  0.0  0.0  0.0  \n",
       "3    0.0  0.0  0.0  0.0  1.0  0.0  0.0  \n",
       "4    1.0  0.0  0.0  1.0  0.0  0.0  0.0  \n",
       "..   ...  ...  ...  ...  ...  ...  ...  \n",
       "886  1.0  0.0  0.0  0.0  0.0  0.0  1.0  \n",
       "887  0.0  0.0  1.0  0.0  0.0  0.0  0.0  \n",
       "888  1.0  0.0  1.0  0.0  0.0  0.0  0.0  \n",
       "889  0.0  0.0  0.0  1.0  0.0  0.0  0.0  \n",
       "890  1.0  0.0  0.0  1.0  0.0  0.0  0.0  \n",
       "\n",
       "[891 rows x 364 columns]"
      ]
     },
     "execution_count": 183,
     "metadata": {},
     "output_type": "execute_result"
    }
   ],
   "source": [
    "# One Hot Encoder - one hot encoder as an algorithm transformed not just categories it also transforms number into 0 or 1\n",
    "\n",
    "from sklearn.preprocessing import OneHotEncoder\n",
    "\n",
    "ohe=OneHotEncoder()\n",
    "\n",
    "transformed=ohe.fit_transform(newtrain)\n",
    "pd.DataFrame(transformed.toarray())"
   ]
  },
  {
   "cell_type": "code",
   "execution_count": 184,
   "id": "a5dc77a5",
   "metadata": {},
   "outputs": [],
   "source": [
    "# Dummy Train & Dummytest\n",
    "\n",
    "dummytrain=pd.get_dummies(newtrain,drop_first=True)\n",
    "dummytest=pd.get_dummies(newtest,drop_first=True)"
   ]
  },
  {
   "cell_type": "code",
   "execution_count": 185,
   "id": "fd1012ff",
   "metadata": {},
   "outputs": [
    {
     "data": {
      "text/plain": [
       "((891, 14), (418, 13))"
      ]
     },
     "execution_count": 185,
     "metadata": {},
     "output_type": "execute_result"
    }
   ],
   "source": [
    "dummytrain.shape,dummytest.shape"
   ]
  },
  {
   "cell_type": "code",
   "execution_count": 189,
   "id": "08fa1c18",
   "metadata": {},
   "outputs": [
    {
     "data": {
      "text/html": [
       "<div>\n",
       "<style scoped>\n",
       "    .dataframe tbody tr th:only-of-type {\n",
       "        vertical-align: middle;\n",
       "    }\n",
       "\n",
       "    .dataframe tbody tr th {\n",
       "        vertical-align: top;\n",
       "    }\n",
       "\n",
       "    .dataframe thead th {\n",
       "        text-align: right;\n",
       "    }\n",
       "</style>\n",
       "<table border=\"1\" class=\"dataframe\">\n",
       "  <thead>\n",
       "    <tr style=\"text-align: right;\">\n",
       "      <th></th>\n",
       "      <th>Survived</th>\n",
       "      <th>Pclass</th>\n",
       "      <th>Age</th>\n",
       "      <th>Fare</th>\n",
       "      <th>Family</th>\n",
       "      <th>Sex_male</th>\n",
       "      <th>Embarked_Q</th>\n",
       "      <th>Embarked_S</th>\n",
       "      <th>Cabin_Cat_Cabin_Missing</th>\n",
       "      <th>titles_Miss</th>\n",
       "      <th>titles_Mr</th>\n",
       "      <th>titles_Mrs</th>\n",
       "      <th>titles_Ms</th>\n",
       "      <th>titles_Others</th>\n",
       "    </tr>\n",
       "  </thead>\n",
       "  <tbody>\n",
       "    <tr>\n",
       "      <th>0</th>\n",
       "      <td>0</td>\n",
       "      <td>3</td>\n",
       "      <td>-0.552307</td>\n",
       "      <td>-0.502445</td>\n",
       "      <td>2</td>\n",
       "      <td>1</td>\n",
       "      <td>0</td>\n",
       "      <td>1</td>\n",
       "      <td>1</td>\n",
       "      <td>0</td>\n",
       "      <td>1</td>\n",
       "      <td>0</td>\n",
       "      <td>0</td>\n",
       "      <td>0</td>\n",
       "    </tr>\n",
       "    <tr>\n",
       "      <th>1</th>\n",
       "      <td>1</td>\n",
       "      <td>1</td>\n",
       "      <td>0.657044</td>\n",
       "      <td>0.786845</td>\n",
       "      <td>2</td>\n",
       "      <td>0</td>\n",
       "      <td>0</td>\n",
       "      <td>0</td>\n",
       "      <td>0</td>\n",
       "      <td>0</td>\n",
       "      <td>0</td>\n",
       "      <td>1</td>\n",
       "      <td>0</td>\n",
       "      <td>0</td>\n",
       "    </tr>\n",
       "    <tr>\n",
       "      <th>2</th>\n",
       "      <td>1</td>\n",
       "      <td>3</td>\n",
       "      <td>-0.249969</td>\n",
       "      <td>-0.488854</td>\n",
       "      <td>1</td>\n",
       "      <td>0</td>\n",
       "      <td>0</td>\n",
       "      <td>1</td>\n",
       "      <td>1</td>\n",
       "      <td>1</td>\n",
       "      <td>0</td>\n",
       "      <td>0</td>\n",
       "      <td>0</td>\n",
       "      <td>0</td>\n",
       "    </tr>\n",
       "    <tr>\n",
       "      <th>3</th>\n",
       "      <td>1</td>\n",
       "      <td>1</td>\n",
       "      <td>0.430291</td>\n",
       "      <td>0.420730</td>\n",
       "      <td>2</td>\n",
       "      <td>0</td>\n",
       "      <td>0</td>\n",
       "      <td>1</td>\n",
       "      <td>0</td>\n",
       "      <td>0</td>\n",
       "      <td>0</td>\n",
       "      <td>1</td>\n",
       "      <td>0</td>\n",
       "      <td>0</td>\n",
       "    </tr>\n",
       "    <tr>\n",
       "      <th>4</th>\n",
       "      <td>0</td>\n",
       "      <td>3</td>\n",
       "      <td>0.430291</td>\n",
       "      <td>-0.486337</td>\n",
       "      <td>1</td>\n",
       "      <td>1</td>\n",
       "      <td>0</td>\n",
       "      <td>1</td>\n",
       "      <td>1</td>\n",
       "      <td>0</td>\n",
       "      <td>1</td>\n",
       "      <td>0</td>\n",
       "      <td>0</td>\n",
       "      <td>0</td>\n",
       "    </tr>\n",
       "  </tbody>\n",
       "</table>\n",
       "</div>"
      ],
      "text/plain": [
       "   Survived  Pclass       Age      Fare  Family  Sex_male  Embarked_Q  \\\n",
       "0         0       3 -0.552307 -0.502445       2         1           0   \n",
       "1         1       1  0.657044  0.786845       2         0           0   \n",
       "2         1       3 -0.249969 -0.488854       1         0           0   \n",
       "3         1       1  0.430291  0.420730       2         0           0   \n",
       "4         0       3  0.430291 -0.486337       1         1           0   \n",
       "\n",
       "   Embarked_S  Cabin_Cat_Cabin_Missing  titles_Miss  titles_Mr  titles_Mrs  \\\n",
       "0           1                        1            0          1           0   \n",
       "1           0                        0            0          0           1   \n",
       "2           1                        1            1          0           0   \n",
       "3           1                        0            0          0           1   \n",
       "4           1                        1            0          1           0   \n",
       "\n",
       "   titles_Ms  titles_Others  \n",
       "0          0              0  \n",
       "1          0              0  \n",
       "2          0              0  \n",
       "3          0              0  \n",
       "4          0              0  "
      ]
     },
     "execution_count": 189,
     "metadata": {},
     "output_type": "execute_result"
    }
   ],
   "source": [
    "dummytrain.head()"
   ]
  },
  {
   "cell_type": "code",
   "execution_count": 187,
   "id": "b21a5da0",
   "metadata": {},
   "outputs": [],
   "source": [
    "dummytrain['Survived']=dummytrain['Survived'].astype('int')"
   ]
  },
  {
   "cell_type": "code",
   "execution_count": 188,
   "id": "240ace00",
   "metadata": {},
   "outputs": [
    {
     "data": {
      "text/html": [
       "<div>\n",
       "<style scoped>\n",
       "    .dataframe tbody tr th:only-of-type {\n",
       "        vertical-align: middle;\n",
       "    }\n",
       "\n",
       "    .dataframe tbody tr th {\n",
       "        vertical-align: top;\n",
       "    }\n",
       "\n",
       "    .dataframe thead th {\n",
       "        text-align: right;\n",
       "    }\n",
       "</style>\n",
       "<table border=\"1\" class=\"dataframe\">\n",
       "  <thead>\n",
       "    <tr style=\"text-align: right;\">\n",
       "      <th></th>\n",
       "      <th>Pclass</th>\n",
       "      <th>Age</th>\n",
       "      <th>Fare</th>\n",
       "      <th>Family</th>\n",
       "      <th>Sex_male</th>\n",
       "      <th>Embarked_Q</th>\n",
       "      <th>Embarked_S</th>\n",
       "      <th>Cabin_Cat_Cabin_Missing</th>\n",
       "      <th>titles_Miss</th>\n",
       "      <th>titles_Mr</th>\n",
       "      <th>titles_Mrs</th>\n",
       "      <th>titles_Ms</th>\n",
       "      <th>titles_Others</th>\n",
       "    </tr>\n",
       "  </thead>\n",
       "  <tbody>\n",
       "    <tr>\n",
       "      <th>0</th>\n",
       "      <td>3</td>\n",
       "      <td>0.392499</td>\n",
       "      <td>-0.490783</td>\n",
       "      <td>1</td>\n",
       "      <td>1</td>\n",
       "      <td>1</td>\n",
       "      <td>0</td>\n",
       "      <td>1</td>\n",
       "      <td>0</td>\n",
       "      <td>1</td>\n",
       "      <td>0</td>\n",
       "      <td>0</td>\n",
       "      <td>0</td>\n",
       "    </tr>\n",
       "    <tr>\n",
       "      <th>1</th>\n",
       "      <td>3</td>\n",
       "      <td>1.337305</td>\n",
       "      <td>-0.507479</td>\n",
       "      <td>2</td>\n",
       "      <td>0</td>\n",
       "      <td>0</td>\n",
       "      <td>1</td>\n",
       "      <td>1</td>\n",
       "      <td>0</td>\n",
       "      <td>0</td>\n",
       "      <td>1</td>\n",
       "      <td>0</td>\n",
       "      <td>0</td>\n",
       "    </tr>\n",
       "    <tr>\n",
       "      <th>2</th>\n",
       "      <td>2</td>\n",
       "      <td>2.471071</td>\n",
       "      <td>-0.453367</td>\n",
       "      <td>1</td>\n",
       "      <td>1</td>\n",
       "      <td>1</td>\n",
       "      <td>0</td>\n",
       "      <td>1</td>\n",
       "      <td>0</td>\n",
       "      <td>1</td>\n",
       "      <td>0</td>\n",
       "      <td>0</td>\n",
       "      <td>0</td>\n",
       "    </tr>\n",
       "    <tr>\n",
       "      <th>3</th>\n",
       "      <td>3</td>\n",
       "      <td>-0.174385</td>\n",
       "      <td>-0.474005</td>\n",
       "      <td>1</td>\n",
       "      <td>1</td>\n",
       "      <td>0</td>\n",
       "      <td>1</td>\n",
       "      <td>1</td>\n",
       "      <td>0</td>\n",
       "      <td>1</td>\n",
       "      <td>0</td>\n",
       "      <td>0</td>\n",
       "      <td>0</td>\n",
       "    </tr>\n",
       "    <tr>\n",
       "      <th>4</th>\n",
       "      <td>3</td>\n",
       "      <td>-0.552307</td>\n",
       "      <td>-0.401017</td>\n",
       "      <td>3</td>\n",
       "      <td>0</td>\n",
       "      <td>0</td>\n",
       "      <td>1</td>\n",
       "      <td>1</td>\n",
       "      <td>0</td>\n",
       "      <td>0</td>\n",
       "      <td>1</td>\n",
       "      <td>0</td>\n",
       "      <td>0</td>\n",
       "    </tr>\n",
       "  </tbody>\n",
       "</table>\n",
       "</div>"
      ],
      "text/plain": [
       "   Pclass       Age      Fare  Family  Sex_male  Embarked_Q  Embarked_S  \\\n",
       "0       3  0.392499 -0.490783       1         1           1           0   \n",
       "1       3  1.337305 -0.507479       2         0           0           1   \n",
       "2       2  2.471071 -0.453367       1         1           1           0   \n",
       "3       3 -0.174385 -0.474005       1         1           0           1   \n",
       "4       3 -0.552307 -0.401017       3         0           0           1   \n",
       "\n",
       "   Cabin_Cat_Cabin_Missing  titles_Miss  titles_Mr  titles_Mrs  titles_Ms  \\\n",
       "0                        1            0          1           0          0   \n",
       "1                        1            0          0           1          0   \n",
       "2                        1            0          1           0          0   \n",
       "3                        1            0          1           0          0   \n",
       "4                        1            0          0           1          0   \n",
       "\n",
       "   titles_Others  \n",
       "0              0  \n",
       "1              0  \n",
       "2              0  \n",
       "3              0  \n",
       "4              0  "
      ]
     },
     "execution_count": 188,
     "metadata": {},
     "output_type": "execute_result"
    }
   ],
   "source": [
    "dummytest.head()"
   ]
  },
  {
   "cell_type": "markdown",
   "id": "7e2d3b54",
   "metadata": {},
   "source": [
    "## Model Building"
   ]
  },
  {
   "cell_type": "markdown",
   "id": "61947181",
   "metadata": {},
   "source": [
    "## Model 1"
   ]
  },
  {
   "cell_type": "code",
   "execution_count": 190,
   "id": "8c59bcc9",
   "metadata": {},
   "outputs": [],
   "source": [
    "x=dummytrain.drop('Survived',axis=1)\n",
    "y=dummytrain['Survived']"
   ]
  },
  {
   "cell_type": "code",
   "execution_count": 150,
   "id": "17acad75",
   "metadata": {},
   "outputs": [],
   "source": [
    "import statsmodels.api as sm\n",
    "from sklearn.model_selection import train_test_split"
   ]
  },
  {
   "cell_type": "code",
   "execution_count": 152,
   "id": "83bf9d50",
   "metadata": {},
   "outputs": [
    {
     "data": {
      "text/html": [
       "<div>\n",
       "<style scoped>\n",
       "    .dataframe tbody tr th:only-of-type {\n",
       "        vertical-align: middle;\n",
       "    }\n",
       "\n",
       "    .dataframe tbody tr th {\n",
       "        vertical-align: top;\n",
       "    }\n",
       "\n",
       "    .dataframe thead th {\n",
       "        text-align: right;\n",
       "    }\n",
       "</style>\n",
       "<table border=\"1\" class=\"dataframe\">\n",
       "  <thead>\n",
       "    <tr style=\"text-align: right;\">\n",
       "      <th></th>\n",
       "      <th>const</th>\n",
       "      <th>Pclass</th>\n",
       "      <th>Age</th>\n",
       "      <th>Fare</th>\n",
       "      <th>Family</th>\n",
       "      <th>Sex_male</th>\n",
       "      <th>Embarked_Q</th>\n",
       "      <th>Embarked_S</th>\n",
       "      <th>Cabin_Cat_Cabin_Missing</th>\n",
       "      <th>titles_Miss</th>\n",
       "      <th>titles_Mr</th>\n",
       "      <th>titles_Mrs</th>\n",
       "      <th>titles_Ms</th>\n",
       "      <th>titles_Others</th>\n",
       "    </tr>\n",
       "  </thead>\n",
       "  <tbody>\n",
       "    <tr>\n",
       "      <th>0</th>\n",
       "      <td>1.0</td>\n",
       "      <td>3</td>\n",
       "      <td>-0.552307</td>\n",
       "      <td>-0.502445</td>\n",
       "      <td>2</td>\n",
       "      <td>1</td>\n",
       "      <td>0</td>\n",
       "      <td>1</td>\n",
       "      <td>1</td>\n",
       "      <td>0</td>\n",
       "      <td>1</td>\n",
       "      <td>0</td>\n",
       "      <td>0</td>\n",
       "      <td>0</td>\n",
       "    </tr>\n",
       "    <tr>\n",
       "      <th>1</th>\n",
       "      <td>1.0</td>\n",
       "      <td>1</td>\n",
       "      <td>0.657044</td>\n",
       "      <td>0.786845</td>\n",
       "      <td>2</td>\n",
       "      <td>0</td>\n",
       "      <td>0</td>\n",
       "      <td>0</td>\n",
       "      <td>0</td>\n",
       "      <td>0</td>\n",
       "      <td>0</td>\n",
       "      <td>1</td>\n",
       "      <td>0</td>\n",
       "      <td>0</td>\n",
       "    </tr>\n",
       "    <tr>\n",
       "      <th>2</th>\n",
       "      <td>1.0</td>\n",
       "      <td>3</td>\n",
       "      <td>-0.249969</td>\n",
       "      <td>-0.488854</td>\n",
       "      <td>1</td>\n",
       "      <td>0</td>\n",
       "      <td>0</td>\n",
       "      <td>1</td>\n",
       "      <td>1</td>\n",
       "      <td>1</td>\n",
       "      <td>0</td>\n",
       "      <td>0</td>\n",
       "      <td>0</td>\n",
       "      <td>0</td>\n",
       "    </tr>\n",
       "    <tr>\n",
       "      <th>3</th>\n",
       "      <td>1.0</td>\n",
       "      <td>1</td>\n",
       "      <td>0.430291</td>\n",
       "      <td>0.420730</td>\n",
       "      <td>2</td>\n",
       "      <td>0</td>\n",
       "      <td>0</td>\n",
       "      <td>1</td>\n",
       "      <td>0</td>\n",
       "      <td>0</td>\n",
       "      <td>0</td>\n",
       "      <td>1</td>\n",
       "      <td>0</td>\n",
       "      <td>0</td>\n",
       "    </tr>\n",
       "    <tr>\n",
       "      <th>4</th>\n",
       "      <td>1.0</td>\n",
       "      <td>3</td>\n",
       "      <td>0.430291</td>\n",
       "      <td>-0.486337</td>\n",
       "      <td>1</td>\n",
       "      <td>1</td>\n",
       "      <td>0</td>\n",
       "      <td>1</td>\n",
       "      <td>1</td>\n",
       "      <td>0</td>\n",
       "      <td>1</td>\n",
       "      <td>0</td>\n",
       "      <td>0</td>\n",
       "      <td>0</td>\n",
       "    </tr>\n",
       "  </tbody>\n",
       "</table>\n",
       "</div>"
      ],
      "text/plain": [
       "   const  Pclass       Age      Fare  Family  Sex_male  Embarked_Q  \\\n",
       "0    1.0       3 -0.552307 -0.502445       2         1           0   \n",
       "1    1.0       1  0.657044  0.786845       2         0           0   \n",
       "2    1.0       3 -0.249969 -0.488854       1         0           0   \n",
       "3    1.0       1  0.430291  0.420730       2         0           0   \n",
       "4    1.0       3  0.430291 -0.486337       1         1           0   \n",
       "\n",
       "   Embarked_S  Cabin_Cat_Cabin_Missing  titles_Miss  titles_Mr  titles_Mrs  \\\n",
       "0           1                        1            0          1           0   \n",
       "1           0                        0            0          0           1   \n",
       "2           1                        1            1          0           0   \n",
       "3           1                        0            0          0           1   \n",
       "4           1                        1            0          1           0   \n",
       "\n",
       "   titles_Ms  titles_Others  \n",
       "0          0              0  \n",
       "1          0              0  \n",
       "2          0              0  \n",
       "3          0              0  \n",
       "4          0              0  "
      ]
     },
     "execution_count": 152,
     "metadata": {},
     "output_type": "execute_result"
    }
   ],
   "source": [
    "X=sm.add_constant(x)\n",
    "X.head()"
   ]
  },
  {
   "cell_type": "code",
   "execution_count": 153,
   "id": "4e884f2d",
   "metadata": {},
   "outputs": [],
   "source": [
    "x_train,x_test,y_train,y_test=train_test_split(X,y,test_size=0.20,random_state=10)"
   ]
  },
  {
   "cell_type": "code",
   "execution_count": 154,
   "id": "f79ff9ab",
   "metadata": {},
   "outputs": [
    {
     "data": {
      "text/plain": [
       "((712, 14), (179, 14), (712,), (179,))"
      ]
     },
     "execution_count": 154,
     "metadata": {},
     "output_type": "execute_result"
    }
   ],
   "source": [
    "x_train.shape,x_test.shape,y_train.shape,y_test.shape"
   ]
  },
  {
   "cell_type": "code",
   "execution_count": 155,
   "id": "d649dc03",
   "metadata": {},
   "outputs": [
    {
     "name": "stdout",
     "output_type": "stream",
     "text": [
      "Warning: Maximum number of iterations has been exceeded.\n",
      "         Current function value: 0.416119\n",
      "         Iterations: 35\n"
     ]
    },
    {
     "name": "stderr",
     "output_type": "stream",
     "text": [
      "C:\\Users\\Piyush mishra\\anaconda3\\lib\\site-packages\\statsmodels\\base\\model.py:566: ConvergenceWarning: Maximum Likelihood optimization failed to converge. Check mle_retvals\n",
      "  warnings.warn(\"Maximum Likelihood optimization failed to \"\n"
     ]
    }
   ],
   "source": [
    "model=sm.Logit(y_train,x_train).fit()"
   ]
  },
  {
   "cell_type": "code",
   "execution_count": 156,
   "id": "1e08a263",
   "metadata": {},
   "outputs": [
    {
     "name": "stdout",
     "output_type": "stream",
     "text": [
      "                           Logit Regression Results                           \n",
      "==============================================================================\n",
      "Dep. Variable:               Survived   No. Observations:                  712\n",
      "Model:                          Logit   Df Residuals:                      698\n",
      "Method:                           MLE   Df Model:                           13\n",
      "Date:                Thu, 01 Sep 2022   Pseudo R-squ.:                  0.3791\n",
      "Time:                        21:55:49   Log-Likelihood:                -296.28\n",
      "converged:                      False   LL-Null:                       -477.17\n",
      "Covariance Type:            nonrobust   LLR p-value:                 2.562e-69\n",
      "===========================================================================================\n",
      "                              coef    std err          z      P>|z|      [0.025      0.975]\n",
      "-------------------------------------------------------------------------------------------\n",
      "const                      22.7413   2309.371      0.010      0.992   -4503.544    4549.026\n",
      "Pclass                     -0.8747      0.199     -4.404      0.000      -1.264      -0.485\n",
      "Age                        -0.3377      0.136     -2.481      0.013      -0.604      -0.071\n",
      "Fare                        0.1097      0.131      0.837      0.403      -0.147       0.367\n",
      "Family                     -0.5082      0.094     -5.409      0.000      -0.692      -0.324\n",
      "Sex_male                  -17.3757   2309.371     -0.008      0.994   -4543.660    4508.909\n",
      "Embarked_Q                 -0.2117      0.441     -0.480      0.631      -1.076       0.652\n",
      "Embarked_S                 -0.6318      0.274     -2.305      0.021      -1.169      -0.095\n",
      "Cabin_Cat_Cabin_Missing    -0.5473      0.342     -1.600      0.110      -1.218       0.123\n",
      "titles_Miss               -17.8653   2309.371     -0.008      0.994   -4544.150    4508.420\n",
      "titles_Mr                  -3.3854      0.606     -5.584      0.000      -4.574      -2.197\n",
      "titles_Mrs                -16.9922   2309.371     -0.007      0.994   -4543.277    4509.293\n",
      "titles_Ms                   4.8554   1.76e+05   2.77e-05      1.000   -3.44e+05    3.44e+05\n",
      "titles_Others              -3.5592      0.932     -3.819      0.000      -5.386      -1.732\n",
      "===========================================================================================\n"
     ]
    }
   ],
   "source": [
    "print(model.summary())"
   ]
  },
  {
   "cell_type": "code",
   "execution_count": 157,
   "id": "5cd53dda",
   "metadata": {},
   "outputs": [],
   "source": [
    "y_pred_prob=model.predict(x_test)"
   ]
  },
  {
   "cell_type": "code",
   "execution_count": 158,
   "id": "3a9eb4a6",
   "metadata": {},
   "outputs": [
    {
     "data": {
      "text/plain": [
       "590    0.073643\n",
       "131    0.104392\n",
       "628    0.091071\n",
       "195    0.953165\n",
       "230    0.960607\n",
       "         ...   \n",
       "456    0.277260\n",
       "191    0.225142\n",
       "603    0.059541\n",
       "94     0.041316\n",
       "766    0.375673\n",
       "Length: 179, dtype: float64"
      ]
     },
     "execution_count": 158,
     "metadata": {},
     "output_type": "execute_result"
    }
   ],
   "source": [
    "y_pred_prob"
   ]
  },
  {
   "cell_type": "code",
   "execution_count": 159,
   "id": "00ac9da4",
   "metadata": {},
   "outputs": [],
   "source": [
    "y_pred=[0 if x<0.5 else 1 for x in y_pred_prob]"
   ]
  },
  {
   "cell_type": "code",
   "execution_count": 161,
   "id": "fb08b25c",
   "metadata": {},
   "outputs": [
    {
     "data": {
      "text/plain": [
       "[0, 0, 0, 1, 1]"
      ]
     },
     "execution_count": 161,
     "metadata": {},
     "output_type": "execute_result"
    }
   ],
   "source": [
    "y_pred[:5]"
   ]
  },
  {
   "cell_type": "code",
   "execution_count": 162,
   "id": "cf75df2a",
   "metadata": {},
   "outputs": [],
   "source": [
    "from sklearn.metrics import confusion_matrix,accuracy_score,precision_score,recall_score,classification_report,f1_score"
   ]
  },
  {
   "cell_type": "code",
   "execution_count": 188,
   "id": "db804b54",
   "metadata": {},
   "outputs": [
    {
     "name": "stdout",
     "output_type": "stream",
     "text": [
      "Confusion Matrix\n",
      " [[104  13]\n",
      " [ 12  50]]\n",
      "Accuracy:\t 0.8603351955307262\n",
      "Precison:\t 0.7936507936507936\n",
      "Recall:\t 0.8064516129032258\n",
      "F1 Score:\t 0.7999999999999999\n"
     ]
    }
   ],
   "source": [
    "print('Confusion Matrix\\n',confusion_matrix(y_test,y_pred))\n",
    "print('Accuracy:\\t',accuracy_score(y_test,y_pred))\n",
    "print('Precison:\\t',precision_score(y_test,y_pred))\n",
    "print('Recall:\\t',recall_score(y_test,y_pred))\n",
    "print('F1 Score:\\t',f1_score(y_test,y_pred))"
   ]
  },
  {
   "cell_type": "code",
   "execution_count": 189,
   "id": "d57eff91",
   "metadata": {},
   "outputs": [
    {
     "name": "stdout",
     "output_type": "stream",
     "text": [
      "Classification Report:\t\n",
      "               precision    recall  f1-score   support\n",
      "\n",
      "         0.0       0.90      0.89      0.89       117\n",
      "         1.0       0.79      0.81      0.80        62\n",
      "\n",
      "    accuracy                           0.86       179\n",
      "   macro avg       0.85      0.85      0.85       179\n",
      "weighted avg       0.86      0.86      0.86       179\n",
      "\n"
     ]
    }
   ],
   "source": [
    "print('Classification Report:\\t\\n',classification_report(y_test,y_pred))"
   ]
  },
  {
   "cell_type": "code",
   "execution_count": 191,
   "id": "72d02316",
   "metadata": {},
   "outputs": [],
   "source": [
    "from sklearn.linear_model import LogisticRegression\n",
    "lg=LogisticRegression(random_state=140)"
   ]
  },
  {
   "cell_type": "code",
   "execution_count": 195,
   "id": "1c75fd5c",
   "metadata": {},
   "outputs": [],
   "source": [
    "pred_lg=lg.fit(x,y).predict(dummytest)"
   ]
  },
  {
   "cell_type": "code",
   "execution_count": 196,
   "id": "85c9ad5f",
   "metadata": {},
   "outputs": [],
   "source": [
    "submission=pd.DataFrame({'PassengerId':test.PassengerId,\n",
    "                        'Survived':pred_lg})\n",
    "\n",
    "submission.to_csv(\"lg.csv\",index=False)    ## 0.77511"
   ]
  },
  {
   "cell_type": "markdown",
   "id": "e39f4d77",
   "metadata": {},
   "source": [
    "## Model 2"
   ]
  },
  {
   "cell_type": "code",
   "execution_count": 200,
   "id": "c3334532",
   "metadata": {},
   "outputs": [],
   "source": [
    "x_train,x_test,y_train,y_test=train_test_split(x,y,test_size=0.20,random_state=10)"
   ]
  },
  {
   "cell_type": "code",
   "execution_count": 197,
   "id": "07ef343b",
   "metadata": {},
   "outputs": [],
   "source": [
    "from sklearn.tree import DecisionTreeClassifier"
   ]
  },
  {
   "cell_type": "code",
   "execution_count": 202,
   "id": "a323d33c",
   "metadata": {},
   "outputs": [],
   "source": [
    "dt=DecisionTreeClassifier()\n",
    "model_tree=dt.fit(x_train,y_train)"
   ]
  },
  {
   "cell_type": "code",
   "execution_count": 203,
   "id": "6f7ba6db",
   "metadata": {},
   "outputs": [],
   "source": [
    "y_pred_tree=model_tree.predict(x_test)"
   ]
  },
  {
   "cell_type": "code",
   "execution_count": 204,
   "id": "df53a788",
   "metadata": {},
   "outputs": [
    {
     "name": "stdout",
     "output_type": "stream",
     "text": [
      "Confusion Matrix\n",
      " [[92 25]\n",
      " [13 49]]\n",
      "Accuracy:\t 0.7877094972067039\n",
      "Precison:\t 0.6621621621621622\n",
      "Recall:\t 0.7903225806451613\n",
      "F1 Score:\t 0.7205882352941176\n"
     ]
    }
   ],
   "source": [
    "print('Confusion Matrix\\n',confusion_matrix(y_test,y_pred_tree))\n",
    "print('Accuracy:\\t',accuracy_score(y_test,y_pred_tree))\n",
    "print('Precison:\\t',precision_score(y_test,y_pred_tree))\n",
    "print('Recall:\\t',recall_score(y_test,y_pred_tree))\n",
    "print('F1 Score:\\t',f1_score(y_test,y_pred_tree))"
   ]
  },
  {
   "cell_type": "code",
   "execution_count": 205,
   "id": "aab1f44a",
   "metadata": {},
   "outputs": [
    {
     "name": "stdout",
     "output_type": "stream",
     "text": [
      "Classification Report:\t\n",
      "               precision    recall  f1-score   support\n",
      "\n",
      "         0.0       0.88      0.79      0.83       117\n",
      "         1.0       0.66      0.79      0.72        62\n",
      "\n",
      "    accuracy                           0.79       179\n",
      "   macro avg       0.77      0.79      0.77       179\n",
      "weighted avg       0.80      0.79      0.79       179\n",
      "\n"
     ]
    }
   ],
   "source": [
    "print('Classification Report:\\t\\n',classification_report(y_test,y_pred_tree))"
   ]
  },
  {
   "cell_type": "code",
   "execution_count": 198,
   "id": "47d514c1",
   "metadata": {},
   "outputs": [],
   "source": [
    "dt=DecisionTreeClassifier(random_state=494)"
   ]
  },
  {
   "cell_type": "code",
   "execution_count": 199,
   "id": "b5addb19",
   "metadata": {},
   "outputs": [],
   "source": [
    "pred_dtree=dt.fit(x,y).predict(dummytest)"
   ]
  },
  {
   "cell_type": "code",
   "execution_count": 200,
   "id": "fa6c68c9",
   "metadata": {},
   "outputs": [],
   "source": [
    "submission=pd.DataFrame({'PassengerId':test.PassengerId,\n",
    "                        'Survived':pred_dtree})\n",
    "\n",
    "submission.to_csv(\"dt.csv\",index=False)   ##0.74401"
   ]
  },
  {
   "cell_type": "markdown",
   "id": "65450b71",
   "metadata": {},
   "source": [
    "## Model 3"
   ]
  },
  {
   "cell_type": "code",
   "execution_count": 204,
   "id": "874aa1e0",
   "metadata": {},
   "outputs": [],
   "source": [
    "from sklearn.ensemble import RandomForestClassifier"
   ]
  },
  {
   "cell_type": "code",
   "execution_count": 207,
   "id": "246ec761",
   "metadata": {},
   "outputs": [],
   "source": [
    "rf=RandomForestClassifier()\n",
    "model_rf=rf.fit(x_train,y_train)"
   ]
  },
  {
   "cell_type": "code",
   "execution_count": 209,
   "id": "ca46c402",
   "metadata": {},
   "outputs": [],
   "source": [
    "y_pred_rf=model_rf.predict(x_test)"
   ]
  },
  {
   "cell_type": "code",
   "execution_count": 210,
   "id": "779c4a48",
   "metadata": {},
   "outputs": [
    {
     "name": "stdout",
     "output_type": "stream",
     "text": [
      "Confusion Matrix\n",
      " [[103  14]\n",
      " [ 10  52]]\n",
      "Accuracy:\t 0.8659217877094972\n",
      "Precison:\t 0.7878787878787878\n",
      "Recall:\t 0.8387096774193549\n",
      "F1 Score:\t 0.8125\n"
     ]
    }
   ],
   "source": [
    "print('Confusion Matrix\\n',confusion_matrix(y_test,y_pred_rf))\n",
    "print('Accuracy:\\t',accuracy_score(y_test,y_pred_rf))\n",
    "print('Precison:\\t',precision_score(y_test,y_pred_rf))\n",
    "print('Recall:\\t',recall_score(y_test,y_pred_rf))\n",
    "print('F1 Score:\\t',f1_score(y_test,y_pred_rf))"
   ]
  },
  {
   "cell_type": "code",
   "execution_count": 211,
   "id": "1b8349e1",
   "metadata": {},
   "outputs": [
    {
     "name": "stdout",
     "output_type": "stream",
     "text": [
      "Classification Report:\t\n",
      "               precision    recall  f1-score   support\n",
      "\n",
      "         0.0       0.91      0.88      0.90       117\n",
      "         1.0       0.79      0.84      0.81        62\n",
      "\n",
      "    accuracy                           0.87       179\n",
      "   macro avg       0.85      0.86      0.85       179\n",
      "weighted avg       0.87      0.87      0.87       179\n",
      "\n"
     ]
    }
   ],
   "source": [
    "print('Classification Report:\\t\\n',classification_report(y_test,y_pred_rf))"
   ]
  },
  {
   "cell_type": "code",
   "execution_count": 205,
   "id": "6d662e3c",
   "metadata": {},
   "outputs": [],
   "source": [
    "rf=RandomForestClassifier(random_state=598,criterion=\"entropy\")"
   ]
  },
  {
   "cell_type": "code",
   "execution_count": 207,
   "id": "b7f1f7f6",
   "metadata": {},
   "outputs": [],
   "source": [
    "pred_rf=rf.fit(x,y).predict(dummytest)"
   ]
  },
  {
   "cell_type": "code",
   "execution_count": 209,
   "id": "f2217c35",
   "metadata": {},
   "outputs": [],
   "source": [
    "submission=pd.DataFrame({'PassengerId':test.PassengerId,\n",
    "                        'Survived':pred_rf})\n",
    "\n",
    "submission.to_csv(\"rf.csv\",index=False)    ## 0.74880"
   ]
  },
  {
   "cell_type": "markdown",
   "id": "00b6aa27",
   "metadata": {},
   "source": [
    "## Model 4"
   ]
  },
  {
   "cell_type": "code",
   "execution_count": 210,
   "id": "4502899f",
   "metadata": {},
   "outputs": [],
   "source": [
    "from sklearn.ensemble import GradientBoostingClassifier"
   ]
  },
  {
   "cell_type": "code",
   "execution_count": 213,
   "id": "a40eb91f",
   "metadata": {},
   "outputs": [],
   "source": [
    "gbm=GradientBoostingClassifier()\n",
    "model_gbm=gbm.fit(x_train,y_train)"
   ]
  },
  {
   "cell_type": "code",
   "execution_count": 214,
   "id": "8c46d224",
   "metadata": {},
   "outputs": [],
   "source": [
    "y_pred_gbm=model_gbm.predict(x_test)"
   ]
  },
  {
   "cell_type": "code",
   "execution_count": 215,
   "id": "88faedfe",
   "metadata": {},
   "outputs": [
    {
     "name": "stdout",
     "output_type": "stream",
     "text": [
      "Confusion Matrix\n",
      " [[105  12]\n",
      " [ 12  50]]\n",
      "Accuracy:\t 0.8659217877094972\n",
      "Precison:\t 0.8064516129032258\n",
      "Recall:\t 0.8064516129032258\n",
      "F1 Score:\t 0.8064516129032258\n"
     ]
    }
   ],
   "source": [
    "print('Confusion Matrix\\n',confusion_matrix(y_test,y_pred_gbm))\n",
    "print('Accuracy:\\t',accuracy_score(y_test,y_pred_gbm))\n",
    "print('Precison:\\t',precision_score(y_test,y_pred_gbm))\n",
    "print('Recall:\\t',recall_score(y_test,y_pred_gbm))\n",
    "print('F1 Score:\\t',f1_score(y_test,y_pred_gbm))"
   ]
  },
  {
   "cell_type": "code",
   "execution_count": 216,
   "id": "bee0744e",
   "metadata": {},
   "outputs": [
    {
     "name": "stdout",
     "output_type": "stream",
     "text": [
      "Classification Report:\t\n",
      "               precision    recall  f1-score   support\n",
      "\n",
      "         0.0       0.90      0.90      0.90       117\n",
      "         1.0       0.81      0.81      0.81        62\n",
      "\n",
      "    accuracy                           0.87       179\n",
      "   macro avg       0.85      0.85      0.85       179\n",
      "weighted avg       0.87      0.87      0.87       179\n",
      "\n"
     ]
    }
   ],
   "source": [
    "print('Classification Report:\\t\\n',classification_report(y_test,y_pred_gbm))"
   ]
  },
  {
   "cell_type": "code",
   "execution_count": 211,
   "id": "c75f35ce",
   "metadata": {},
   "outputs": [],
   "source": [
    "gbm=GradientBoostingClassifier(random_state=150)"
   ]
  },
  {
   "cell_type": "code",
   "execution_count": 212,
   "id": "20a14fc9",
   "metadata": {},
   "outputs": [],
   "source": [
    "pred_gbm=gbm.fit(x,y).predict(dummytest)"
   ]
  },
  {
   "cell_type": "code",
   "execution_count": 213,
   "id": "f72cfde6",
   "metadata": {},
   "outputs": [],
   "source": [
    "submission=pd.DataFrame({'PassengerId':test.PassengerId,\n",
    "                        'Survived':pred_gbm})\n",
    "\n",
    "submission.to_csv(\"gbm.csv\",index=False)   ## 0.76794"
   ]
  },
  {
   "cell_type": "markdown",
   "id": "c62a2757",
   "metadata": {},
   "source": [
    "## Model 5"
   ]
  },
  {
   "cell_type": "code",
   "execution_count": 214,
   "id": "137b57af",
   "metadata": {},
   "outputs": [],
   "source": [
    "from xgboost import XGBClassifier"
   ]
  },
  {
   "cell_type": "code",
   "execution_count": 218,
   "id": "5c01a93e",
   "metadata": {},
   "outputs": [],
   "source": [
    "xgb=XGBClassifier()\n",
    "model_xgb=xgb.fit(x_train,y_train)"
   ]
  },
  {
   "cell_type": "code",
   "execution_count": 219,
   "id": "cb170ab7",
   "metadata": {},
   "outputs": [],
   "source": [
    "y_pred_xgb=model_xgb.predict(x_test)"
   ]
  },
  {
   "cell_type": "code",
   "execution_count": 220,
   "id": "9b52da2c",
   "metadata": {},
   "outputs": [
    {
     "name": "stdout",
     "output_type": "stream",
     "text": [
      "Confusion Matrix\n",
      " [[105  12]\n",
      " [ 15  47]]\n",
      "Accuracy:\t 0.8491620111731844\n",
      "Precison:\t 0.7966101694915254\n",
      "Recall:\t 0.7580645161290323\n",
      "F1 Score:\t 0.7768595041322315\n"
     ]
    }
   ],
   "source": [
    "print('Confusion Matrix\\n',confusion_matrix(y_test,y_pred_xgb))\n",
    "print('Accuracy:\\t',accuracy_score(y_test,y_pred_xgb))\n",
    "print('Precison:\\t',precision_score(y_test,y_pred_xgb))\n",
    "print('Recall:\\t',recall_score(y_test,y_pred_xgb))\n",
    "print('F1 Score:\\t',f1_score(y_test,y_pred_xgb))"
   ]
  },
  {
   "cell_type": "code",
   "execution_count": 221,
   "id": "a376adbd",
   "metadata": {},
   "outputs": [
    {
     "name": "stdout",
     "output_type": "stream",
     "text": [
      "Classification Report:\t\n",
      "               precision    recall  f1-score   support\n",
      "\n",
      "         0.0       0.88      0.90      0.89       117\n",
      "         1.0       0.80      0.76      0.78        62\n",
      "\n",
      "    accuracy                           0.85       179\n",
      "   macro avg       0.84      0.83      0.83       179\n",
      "weighted avg       0.85      0.85      0.85       179\n",
      "\n"
     ]
    }
   ],
   "source": [
    "print('Classification Report:\\t\\n',classification_report(y_test,y_pred_xgb))"
   ]
  },
  {
   "cell_type": "code",
   "execution_count": 215,
   "id": "6f0f6211",
   "metadata": {},
   "outputs": [],
   "source": [
    "xgb=XGBClassifier(random_state=138)"
   ]
  },
  {
   "cell_type": "code",
   "execution_count": 216,
   "id": "ffad71dd",
   "metadata": {},
   "outputs": [],
   "source": [
    "pred_xgb=xgb.fit(x,y).predict(dummytest)"
   ]
  },
  {
   "cell_type": "code",
   "execution_count": 217,
   "id": "f25bc8e9",
   "metadata": {},
   "outputs": [],
   "source": [
    "submission=pd.DataFrame({'PassengerId':test.PassengerId,\n",
    "                        'Survived':pred_xgb})\n",
    "\n",
    "submission.to_csv(\"xgb.csv\",index=False) ## 0.75119"
   ]
  },
  {
   "cell_type": "markdown",
   "id": "e54124b1",
   "metadata": {},
   "source": [
    "## Model 6"
   ]
  },
  {
   "cell_type": "code",
   "execution_count": 218,
   "id": "b8bde094",
   "metadata": {},
   "outputs": [],
   "source": [
    "from lightgbm import LGBMClassifier"
   ]
  },
  {
   "cell_type": "code",
   "execution_count": 224,
   "id": "be11fd50",
   "metadata": {},
   "outputs": [],
   "source": [
    "lgb=LGBMClassifier()\n",
    "model_lgb=lgb.fit(x_train,y_train)"
   ]
  },
  {
   "cell_type": "code",
   "execution_count": 225,
   "id": "d9993592",
   "metadata": {},
   "outputs": [],
   "source": [
    "y_pred_lgb=model_lgb.predict(x_test)"
   ]
  },
  {
   "cell_type": "code",
   "execution_count": 226,
   "id": "013d5ad2",
   "metadata": {},
   "outputs": [
    {
     "name": "stdout",
     "output_type": "stream",
     "text": [
      "Confusion Matrix\n",
      " [[103  14]\n",
      " [ 13  49]]\n",
      "Accuracy:\t 0.8491620111731844\n",
      "Precison:\t 0.7777777777777778\n",
      "Recall:\t 0.7903225806451613\n",
      "F1 Score:\t 0.7839999999999999\n"
     ]
    }
   ],
   "source": [
    "print('Confusion Matrix\\n',confusion_matrix(y_test,y_pred_lgb))\n",
    "print('Accuracy:\\t',accuracy_score(y_test,y_pred_lgb))\n",
    "print('Precison:\\t',precision_score(y_test,y_pred_lgb))\n",
    "print('Recall:\\t',recall_score(y_test,y_pred_lgb))\n",
    "print('F1 Score:\\t',f1_score(y_test,y_pred_lgb))"
   ]
  },
  {
   "cell_type": "code",
   "execution_count": 227,
   "id": "acc751d6",
   "metadata": {},
   "outputs": [
    {
     "name": "stdout",
     "output_type": "stream",
     "text": [
      "Classification Report:\t\n",
      "               precision    recall  f1-score   support\n",
      "\n",
      "         0.0       0.89      0.88      0.88       117\n",
      "         1.0       0.78      0.79      0.78        62\n",
      "\n",
      "    accuracy                           0.85       179\n",
      "   macro avg       0.83      0.84      0.83       179\n",
      "weighted avg       0.85      0.85      0.85       179\n",
      "\n"
     ]
    }
   ],
   "source": [
    "print('Classification Report:\\t\\n',classification_report(y_test,y_pred_lgb))"
   ]
  },
  {
   "cell_type": "code",
   "execution_count": 219,
   "id": "67e9b8c0",
   "metadata": {},
   "outputs": [],
   "source": [
    "lgbm=LGBMClassifier(random_state=438)"
   ]
  },
  {
   "cell_type": "code",
   "execution_count": 220,
   "id": "4b8229fb",
   "metadata": {},
   "outputs": [],
   "source": [
    "pred_lgbm=lgbm.fit(x,y).predict(dummytest)"
   ]
  },
  {
   "cell_type": "code",
   "execution_count": 221,
   "id": "efeffe0c",
   "metadata": {},
   "outputs": [],
   "source": [
    "submission=pd.DataFrame({'PassengerId':test.PassengerId,\n",
    "                        'Survived':pred_lgbm})\n",
    "\n",
    "submission.to_csv(\"lgbm.csv\",index=False)   ##  0.74641"
   ]
  },
  {
   "cell_type": "code",
   "execution_count": 222,
   "id": "65c67483",
   "metadata": {},
   "outputs": [],
   "source": [
    "from catboost import CatBoostClassifier\n",
    "cboost=CatBoostClassifier(random_state=660)"
   ]
  },
  {
   "cell_type": "markdown",
   "id": "84178e16",
   "metadata": {},
   "source": [
    "## Voting Classifier"
   ]
  },
  {
   "cell_type": "code",
   "execution_count": 224,
   "id": "205bfd60",
   "metadata": {},
   "outputs": [],
   "source": [
    "# Lets Build a Voting Classifier Model\n",
    "from sklearn.ensemble import VotingClassifier\n",
    "vc=VotingClassifier(estimators=[('lg',lg),('rf',rf),\n",
    "                               ('gbm',gbm),('xgb',xgb),\n",
    "                               ('cb',cboost)],voting=\"hard\")"
   ]
  },
  {
   "cell_type": "code",
   "execution_count": 226,
   "id": "98fb15c7",
   "metadata": {},
   "outputs": [
    {
     "name": "stdout",
     "output_type": "stream",
     "text": [
      "Learning rate set to 0.009807\n",
      "0:\tlearn: 0.6874359\ttotal: 158ms\tremaining: 2m 38s\n",
      "1:\tlearn: 0.6803152\ttotal: 162ms\tremaining: 1m 20s\n",
      "2:\tlearn: 0.6734642\ttotal: 165ms\tremaining: 54.8s\n",
      "3:\tlearn: 0.6667414\ttotal: 168ms\tremaining: 41.9s\n",
      "4:\tlearn: 0.6605880\ttotal: 172ms\tremaining: 34.1s\n",
      "5:\tlearn: 0.6546918\ttotal: 174ms\tremaining: 28.8s\n",
      "6:\tlearn: 0.6488464\ttotal: 177ms\tremaining: 25.2s\n",
      "7:\tlearn: 0.6435219\ttotal: 182ms\tremaining: 22.6s\n",
      "8:\tlearn: 0.6375639\ttotal: 186ms\tremaining: 20.5s\n",
      "9:\tlearn: 0.6326957\ttotal: 188ms\tremaining: 18.6s\n",
      "10:\tlearn: 0.6268244\ttotal: 192ms\tremaining: 17.2s\n",
      "11:\tlearn: 0.6215141\ttotal: 195ms\tremaining: 16.1s\n",
      "12:\tlearn: 0.6170216\ttotal: 198ms\tremaining: 15.1s\n",
      "13:\tlearn: 0.6119715\ttotal: 202ms\tremaining: 14.2s\n",
      "14:\tlearn: 0.6071827\ttotal: 205ms\tremaining: 13.5s\n",
      "15:\tlearn: 0.6023389\ttotal: 209ms\tremaining: 12.8s\n",
      "16:\tlearn: 0.5976790\ttotal: 212ms\tremaining: 12.3s\n",
      "17:\tlearn: 0.5935199\ttotal: 215ms\tremaining: 11.7s\n",
      "18:\tlearn: 0.5892912\ttotal: 218ms\tremaining: 11.3s\n",
      "19:\tlearn: 0.5845351\ttotal: 223ms\tremaining: 10.9s\n",
      "20:\tlearn: 0.5807619\ttotal: 227ms\tremaining: 10.6s\n",
      "21:\tlearn: 0.5765796\ttotal: 230ms\tremaining: 10.2s\n",
      "22:\tlearn: 0.5725999\ttotal: 233ms\tremaining: 9.92s\n",
      "23:\tlearn: 0.5684830\ttotal: 237ms\tremaining: 9.63s\n",
      "24:\tlearn: 0.5653608\ttotal: 239ms\tremaining: 9.32s\n",
      "25:\tlearn: 0.5618191\ttotal: 242ms\tremaining: 9.08s\n",
      "26:\tlearn: 0.5579302\ttotal: 246ms\tremaining: 8.86s\n",
      "27:\tlearn: 0.5541795\ttotal: 249ms\tremaining: 8.65s\n",
      "28:\tlearn: 0.5501753\ttotal: 253ms\tremaining: 8.46s\n",
      "29:\tlearn: 0.5464994\ttotal: 256ms\tremaining: 8.27s\n",
      "30:\tlearn: 0.5434796\ttotal: 259ms\tremaining: 8.09s\n",
      "31:\tlearn: 0.5398523\ttotal: 262ms\tremaining: 7.92s\n",
      "32:\tlearn: 0.5363759\ttotal: 265ms\tremaining: 7.77s\n",
      "33:\tlearn: 0.5326555\ttotal: 268ms\tremaining: 7.62s\n",
      "34:\tlearn: 0.5294400\ttotal: 272ms\tremaining: 7.49s\n",
      "35:\tlearn: 0.5264682\ttotal: 275ms\tremaining: 7.35s\n",
      "36:\tlearn: 0.5235164\ttotal: 278ms\tremaining: 7.22s\n",
      "37:\tlearn: 0.5201516\ttotal: 281ms\tremaining: 7.11s\n",
      "38:\tlearn: 0.5175859\ttotal: 284ms\tremaining: 6.99s\n",
      "39:\tlearn: 0.5144074\ttotal: 287ms\tremaining: 6.88s\n",
      "40:\tlearn: 0.5119506\ttotal: 289ms\tremaining: 6.77s\n",
      "41:\tlearn: 0.5089146\ttotal: 292ms\tremaining: 6.67s\n",
      "42:\tlearn: 0.5064568\ttotal: 295ms\tremaining: 6.57s\n",
      "43:\tlearn: 0.5043387\ttotal: 297ms\tremaining: 6.46s\n",
      "44:\tlearn: 0.5025505\ttotal: 299ms\tremaining: 6.34s\n",
      "45:\tlearn: 0.4998537\ttotal: 302ms\tremaining: 6.26s\n",
      "46:\tlearn: 0.4973383\ttotal: 304ms\tremaining: 6.17s\n",
      "47:\tlearn: 0.4952712\ttotal: 307ms\tremaining: 6.08s\n",
      "48:\tlearn: 0.4931952\ttotal: 309ms\tremaining: 6s\n",
      "49:\tlearn: 0.4910416\ttotal: 312ms\tremaining: 5.93s\n",
      "50:\tlearn: 0.4884970\ttotal: 315ms\tremaining: 5.86s\n",
      "51:\tlearn: 0.4863687\ttotal: 318ms\tremaining: 5.8s\n",
      "52:\tlearn: 0.4843180\ttotal: 321ms\tremaining: 5.74s\n",
      "53:\tlearn: 0.4823161\ttotal: 324ms\tremaining: 5.68s\n",
      "54:\tlearn: 0.4799905\ttotal: 327ms\tremaining: 5.62s\n",
      "55:\tlearn: 0.4778771\ttotal: 331ms\tremaining: 5.57s\n",
      "56:\tlearn: 0.4756676\ttotal: 333ms\tremaining: 5.52s\n",
      "57:\tlearn: 0.4735723\ttotal: 336ms\tremaining: 5.46s\n",
      "58:\tlearn: 0.4720147\ttotal: 338ms\tremaining: 5.39s\n",
      "59:\tlearn: 0.4698175\ttotal: 341ms\tremaining: 5.34s\n",
      "60:\tlearn: 0.4679896\ttotal: 345ms\tremaining: 5.31s\n",
      "61:\tlearn: 0.4659561\ttotal: 348ms\tremaining: 5.26s\n",
      "62:\tlearn: 0.4641994\ttotal: 351ms\tremaining: 5.22s\n",
      "63:\tlearn: 0.4620575\ttotal: 354ms\tremaining: 5.18s\n",
      "64:\tlearn: 0.4602069\ttotal: 358ms\tremaining: 5.15s\n",
      "65:\tlearn: 0.4588979\ttotal: 361ms\tremaining: 5.11s\n",
      "66:\tlearn: 0.4577517\ttotal: 365ms\tremaining: 5.08s\n",
      "67:\tlearn: 0.4562396\ttotal: 368ms\tremaining: 5.04s\n",
      "68:\tlearn: 0.4548966\ttotal: 371ms\tremaining: 5.01s\n",
      "69:\tlearn: 0.4531453\ttotal: 375ms\tremaining: 4.98s\n",
      "70:\tlearn: 0.4517470\ttotal: 378ms\tremaining: 4.94s\n",
      "71:\tlearn: 0.4499926\ttotal: 381ms\tremaining: 4.91s\n",
      "72:\tlearn: 0.4484537\ttotal: 385ms\tremaining: 4.88s\n",
      "73:\tlearn: 0.4470075\ttotal: 388ms\tremaining: 4.85s\n",
      "74:\tlearn: 0.4456740\ttotal: 391ms\tremaining: 4.83s\n",
      "75:\tlearn: 0.4443040\ttotal: 394ms\tremaining: 4.79s\n",
      "76:\tlearn: 0.4431439\ttotal: 397ms\tremaining: 4.75s\n",
      "77:\tlearn: 0.4416974\ttotal: 400ms\tremaining: 4.72s\n",
      "78:\tlearn: 0.4401773\ttotal: 403ms\tremaining: 4.69s\n",
      "79:\tlearn: 0.4387738\ttotal: 406ms\tremaining: 4.66s\n",
      "80:\tlearn: 0.4376142\ttotal: 409ms\tremaining: 4.64s\n",
      "81:\tlearn: 0.4365649\ttotal: 412ms\tremaining: 4.61s\n",
      "82:\tlearn: 0.4352981\ttotal: 415ms\tremaining: 4.58s\n",
      "83:\tlearn: 0.4342032\ttotal: 418ms\tremaining: 4.55s\n",
      "84:\tlearn: 0.4333660\ttotal: 420ms\tremaining: 4.52s\n",
      "85:\tlearn: 0.4321973\ttotal: 423ms\tremaining: 4.49s\n",
      "86:\tlearn: 0.4308695\ttotal: 426ms\tremaining: 4.47s\n",
      "87:\tlearn: 0.4296138\ttotal: 429ms\tremaining: 4.45s\n",
      "88:\tlearn: 0.4283987\ttotal: 432ms\tremaining: 4.42s\n",
      "89:\tlearn: 0.4277159\ttotal: 434ms\tremaining: 4.39s\n",
      "90:\tlearn: 0.4269086\ttotal: 436ms\tremaining: 4.36s\n",
      "91:\tlearn: 0.4257740\ttotal: 440ms\tremaining: 4.34s\n",
      "92:\tlearn: 0.4247015\ttotal: 444ms\tremaining: 4.33s\n",
      "93:\tlearn: 0.4238758\ttotal: 447ms\tremaining: 4.31s\n",
      "94:\tlearn: 0.4226930\ttotal: 451ms\tremaining: 4.29s\n",
      "95:\tlearn: 0.4217411\ttotal: 454ms\tremaining: 4.28s\n",
      "96:\tlearn: 0.4207266\ttotal: 458ms\tremaining: 4.26s\n",
      "97:\tlearn: 0.4197805\ttotal: 461ms\tremaining: 4.24s\n",
      "98:\tlearn: 0.4190028\ttotal: 464ms\tremaining: 4.22s\n",
      "99:\tlearn: 0.4182159\ttotal: 466ms\tremaining: 4.2s\n",
      "100:\tlearn: 0.4170653\ttotal: 470ms\tremaining: 4.18s\n",
      "101:\tlearn: 0.4160762\ttotal: 473ms\tremaining: 4.16s\n",
      "102:\tlearn: 0.4153788\ttotal: 476ms\tremaining: 4.14s\n",
      "103:\tlearn: 0.4148489\ttotal: 479ms\tremaining: 4.13s\n",
      "104:\tlearn: 0.4141165\ttotal: 482ms\tremaining: 4.11s\n",
      "105:\tlearn: 0.4131691\ttotal: 486ms\tremaining: 4.09s\n",
      "106:\tlearn: 0.4121556\ttotal: 489ms\tremaining: 4.08s\n",
      "107:\tlearn: 0.4115142\ttotal: 492ms\tremaining: 4.06s\n",
      "108:\tlearn: 0.4105474\ttotal: 495ms\tremaining: 4.05s\n",
      "109:\tlearn: 0.4098720\ttotal: 498ms\tremaining: 4.03s\n",
      "110:\tlearn: 0.4092195\ttotal: 501ms\tremaining: 4.01s\n",
      "111:\tlearn: 0.4087490\ttotal: 504ms\tremaining: 3.99s\n",
      "112:\tlearn: 0.4081479\ttotal: 507ms\tremaining: 3.98s\n",
      "113:\tlearn: 0.4075345\ttotal: 510ms\tremaining: 3.96s\n",
      "114:\tlearn: 0.4069769\ttotal: 514ms\tremaining: 3.95s\n",
      "115:\tlearn: 0.4060762\ttotal: 517ms\tremaining: 3.94s\n",
      "116:\tlearn: 0.4058451\ttotal: 519ms\tremaining: 3.92s\n",
      "117:\tlearn: 0.4052374\ttotal: 522ms\tremaining: 3.9s\n",
      "118:\tlearn: 0.4045106\ttotal: 525ms\tremaining: 3.89s\n",
      "119:\tlearn: 0.4036138\ttotal: 528ms\tremaining: 3.87s\n",
      "120:\tlearn: 0.4028611\ttotal: 531ms\tremaining: 3.86s\n",
      "121:\tlearn: 0.4024451\ttotal: 535ms\tremaining: 3.85s\n",
      "122:\tlearn: 0.4018912\ttotal: 538ms\tremaining: 3.84s\n",
      "123:\tlearn: 0.4010782\ttotal: 542ms\tremaining: 3.83s\n",
      "124:\tlearn: 0.4005029\ttotal: 545ms\tremaining: 3.82s\n",
      "125:\tlearn: 0.3998338\ttotal: 549ms\tremaining: 3.81s\n",
      "126:\tlearn: 0.3992860\ttotal: 552ms\tremaining: 3.79s\n",
      "127:\tlearn: 0.3988132\ttotal: 556ms\tremaining: 3.79s\n",
      "128:\tlearn: 0.3982790\ttotal: 559ms\tremaining: 3.77s\n",
      "129:\tlearn: 0.3976966\ttotal: 562ms\tremaining: 3.76s\n",
      "130:\tlearn: 0.3969946\ttotal: 566ms\tremaining: 3.75s\n",
      "131:\tlearn: 0.3965855\ttotal: 568ms\tremaining: 3.73s\n",
      "132:\tlearn: 0.3958851\ttotal: 571ms\tremaining: 3.72s\n",
      "133:\tlearn: 0.3952803\ttotal: 574ms\tremaining: 3.71s\n",
      "134:\tlearn: 0.3947627\ttotal: 577ms\tremaining: 3.69s\n",
      "135:\tlearn: 0.3942457\ttotal: 579ms\tremaining: 3.68s\n",
      "136:\tlearn: 0.3937606\ttotal: 582ms\tremaining: 3.66s\n",
      "137:\tlearn: 0.3930885\ttotal: 584ms\tremaining: 3.65s\n",
      "138:\tlearn: 0.3926508\ttotal: 587ms\tremaining: 3.63s\n",
      "139:\tlearn: 0.3921360\ttotal: 589ms\tremaining: 3.62s\n",
      "140:\tlearn: 0.3916026\ttotal: 592ms\tremaining: 3.61s\n",
      "141:\tlearn: 0.3909571\ttotal: 595ms\tremaining: 3.59s\n",
      "142:\tlearn: 0.3907237\ttotal: 597ms\tremaining: 3.58s\n",
      "143:\tlearn: 0.3902641\ttotal: 600ms\tremaining: 3.56s\n",
      "144:\tlearn: 0.3897039\ttotal: 603ms\tremaining: 3.56s\n",
      "145:\tlearn: 0.3891979\ttotal: 606ms\tremaining: 3.54s\n",
      "146:\tlearn: 0.3886708\ttotal: 610ms\tremaining: 3.54s\n",
      "147:\tlearn: 0.3881414\ttotal: 613ms\tremaining: 3.53s\n",
      "148:\tlearn: 0.3875631\ttotal: 616ms\tremaining: 3.52s\n",
      "149:\tlearn: 0.3870236\ttotal: 619ms\tremaining: 3.5s\n",
      "150:\tlearn: 0.3864484\ttotal: 622ms\tremaining: 3.5s\n",
      "151:\tlearn: 0.3859613\ttotal: 625ms\tremaining: 3.49s\n",
      "152:\tlearn: 0.3855062\ttotal: 628ms\tremaining: 3.48s\n",
      "153:\tlearn: 0.3849701\ttotal: 632ms\tremaining: 3.47s\n",
      "154:\tlearn: 0.3845874\ttotal: 636ms\tremaining: 3.46s\n",
      "155:\tlearn: 0.3845274\ttotal: 637ms\tremaining: 3.45s\n",
      "156:\tlearn: 0.3841582\ttotal: 641ms\tremaining: 3.44s\n",
      "157:\tlearn: 0.3835983\ttotal: 645ms\tremaining: 3.43s\n",
      "158:\tlearn: 0.3833205\ttotal: 648ms\tremaining: 3.43s\n",
      "159:\tlearn: 0.3829493\ttotal: 652ms\tremaining: 3.42s\n",
      "160:\tlearn: 0.3824358\ttotal: 655ms\tremaining: 3.42s\n",
      "161:\tlearn: 0.3819743\ttotal: 659ms\tremaining: 3.41s\n",
      "162:\tlearn: 0.3815208\ttotal: 662ms\tremaining: 3.4s\n",
      "163:\tlearn: 0.3811126\ttotal: 666ms\tremaining: 3.39s\n",
      "164:\tlearn: 0.3808455\ttotal: 669ms\tremaining: 3.38s\n",
      "165:\tlearn: 0.3804490\ttotal: 673ms\tremaining: 3.38s\n",
      "166:\tlearn: 0.3801197\ttotal: 676ms\tremaining: 3.37s\n",
      "167:\tlearn: 0.3796642\ttotal: 680ms\tremaining: 3.37s\n",
      "168:\tlearn: 0.3792438\ttotal: 683ms\tremaining: 3.36s\n",
      "169:\tlearn: 0.3787417\ttotal: 687ms\tremaining: 3.35s\n",
      "170:\tlearn: 0.3784326\ttotal: 691ms\tremaining: 3.35s\n",
      "171:\tlearn: 0.3780782\ttotal: 694ms\tremaining: 3.34s\n",
      "172:\tlearn: 0.3777400\ttotal: 697ms\tremaining: 3.33s\n",
      "173:\tlearn: 0.3773131\ttotal: 701ms\tremaining: 3.33s\n"
     ]
    },
    {
     "name": "stdout",
     "output_type": "stream",
     "text": [
      "174:\tlearn: 0.3770058\ttotal: 705ms\tremaining: 3.32s\n",
      "175:\tlearn: 0.3766304\ttotal: 708ms\tremaining: 3.31s\n",
      "176:\tlearn: 0.3761840\ttotal: 711ms\tremaining: 3.31s\n",
      "177:\tlearn: 0.3761508\ttotal: 712ms\tremaining: 3.29s\n",
      "178:\tlearn: 0.3757913\ttotal: 715ms\tremaining: 3.28s\n",
      "179:\tlearn: 0.3754347\ttotal: 718ms\tremaining: 3.27s\n",
      "180:\tlearn: 0.3751494\ttotal: 722ms\tremaining: 3.27s\n",
      "181:\tlearn: 0.3748952\ttotal: 725ms\tremaining: 3.26s\n",
      "182:\tlearn: 0.3746313\ttotal: 730ms\tremaining: 3.26s\n",
      "183:\tlearn: 0.3741731\ttotal: 733ms\tremaining: 3.25s\n",
      "184:\tlearn: 0.3738863\ttotal: 736ms\tremaining: 3.24s\n",
      "185:\tlearn: 0.3734807\ttotal: 739ms\tremaining: 3.23s\n",
      "186:\tlearn: 0.3732831\ttotal: 742ms\tremaining: 3.23s\n",
      "187:\tlearn: 0.3728055\ttotal: 745ms\tremaining: 3.22s\n",
      "188:\tlearn: 0.3724070\ttotal: 748ms\tremaining: 3.21s\n",
      "189:\tlearn: 0.3721144\ttotal: 750ms\tremaining: 3.2s\n",
      "190:\tlearn: 0.3716923\ttotal: 752ms\tremaining: 3.19s\n",
      "191:\tlearn: 0.3714604\ttotal: 754ms\tremaining: 3.17s\n",
      "192:\tlearn: 0.3710357\ttotal: 756ms\tremaining: 3.16s\n",
      "193:\tlearn: 0.3707898\ttotal: 759ms\tremaining: 3.15s\n",
      "194:\tlearn: 0.3705658\ttotal: 761ms\tremaining: 3.14s\n",
      "195:\tlearn: 0.3702680\ttotal: 764ms\tremaining: 3.13s\n",
      "196:\tlearn: 0.3700015\ttotal: 766ms\tremaining: 3.12s\n",
      "197:\tlearn: 0.3697250\ttotal: 768ms\tremaining: 3.11s\n",
      "198:\tlearn: 0.3694483\ttotal: 770ms\tremaining: 3.1s\n",
      "199:\tlearn: 0.3691464\ttotal: 772ms\tremaining: 3.09s\n",
      "200:\tlearn: 0.3688178\ttotal: 775ms\tremaining: 3.08s\n",
      "201:\tlearn: 0.3686668\ttotal: 776ms\tremaining: 3.07s\n",
      "202:\tlearn: 0.3682736\ttotal: 778ms\tremaining: 3.06s\n",
      "203:\tlearn: 0.3679288\ttotal: 780ms\tremaining: 3.04s\n",
      "204:\tlearn: 0.3677261\ttotal: 782ms\tremaining: 3.03s\n",
      "205:\tlearn: 0.3675381\ttotal: 784ms\tremaining: 3.02s\n",
      "206:\tlearn: 0.3671756\ttotal: 786ms\tremaining: 3.01s\n",
      "207:\tlearn: 0.3669169\ttotal: 788ms\tremaining: 3s\n",
      "208:\tlearn: 0.3668310\ttotal: 789ms\tremaining: 2.99s\n",
      "209:\tlearn: 0.3665535\ttotal: 791ms\tremaining: 2.98s\n",
      "210:\tlearn: 0.3662446\ttotal: 793ms\tremaining: 2.96s\n",
      "211:\tlearn: 0.3659653\ttotal: 795ms\tremaining: 2.95s\n",
      "212:\tlearn: 0.3656600\ttotal: 796ms\tremaining: 2.94s\n",
      "213:\tlearn: 0.3653903\ttotal: 798ms\tremaining: 2.93s\n",
      "214:\tlearn: 0.3650823\ttotal: 800ms\tremaining: 2.92s\n",
      "215:\tlearn: 0.3647794\ttotal: 801ms\tremaining: 2.91s\n",
      "216:\tlearn: 0.3645828\ttotal: 803ms\tremaining: 2.9s\n",
      "217:\tlearn: 0.3643332\ttotal: 804ms\tremaining: 2.88s\n",
      "218:\tlearn: 0.3641170\ttotal: 806ms\tremaining: 2.87s\n",
      "219:\tlearn: 0.3638419\ttotal: 808ms\tremaining: 2.86s\n",
      "220:\tlearn: 0.3636152\ttotal: 809ms\tremaining: 2.85s\n",
      "221:\tlearn: 0.3633348\ttotal: 811ms\tremaining: 2.84s\n",
      "222:\tlearn: 0.3630448\ttotal: 813ms\tremaining: 2.83s\n",
      "223:\tlearn: 0.3630158\ttotal: 814ms\tremaining: 2.82s\n",
      "224:\tlearn: 0.3627215\ttotal: 816ms\tremaining: 2.81s\n",
      "225:\tlearn: 0.3623568\ttotal: 817ms\tremaining: 2.8s\n",
      "226:\tlearn: 0.3621078\ttotal: 819ms\tremaining: 2.79s\n",
      "227:\tlearn: 0.3617717\ttotal: 821ms\tremaining: 2.78s\n",
      "228:\tlearn: 0.3614088\ttotal: 823ms\tremaining: 2.77s\n",
      "229:\tlearn: 0.3609991\ttotal: 825ms\tremaining: 2.76s\n",
      "230:\tlearn: 0.3607591\ttotal: 827ms\tremaining: 2.75s\n",
      "231:\tlearn: 0.3606062\ttotal: 828ms\tremaining: 2.74s\n",
      "232:\tlearn: 0.3603047\ttotal: 830ms\tremaining: 2.73s\n",
      "233:\tlearn: 0.3600788\ttotal: 833ms\tremaining: 2.73s\n",
      "234:\tlearn: 0.3598927\ttotal: 834ms\tremaining: 2.72s\n",
      "235:\tlearn: 0.3596550\ttotal: 836ms\tremaining: 2.71s\n",
      "236:\tlearn: 0.3592943\ttotal: 838ms\tremaining: 2.7s\n",
      "237:\tlearn: 0.3590152\ttotal: 840ms\tremaining: 2.69s\n",
      "238:\tlearn: 0.3587404\ttotal: 841ms\tremaining: 2.68s\n",
      "239:\tlearn: 0.3586297\ttotal: 843ms\tremaining: 2.67s\n",
      "240:\tlearn: 0.3584404\ttotal: 845ms\tremaining: 2.66s\n",
      "241:\tlearn: 0.3582229\ttotal: 846ms\tremaining: 2.65s\n",
      "242:\tlearn: 0.3580028\ttotal: 848ms\tremaining: 2.64s\n",
      "243:\tlearn: 0.3577871\ttotal: 849ms\tremaining: 2.63s\n",
      "244:\tlearn: 0.3574662\ttotal: 851ms\tremaining: 2.62s\n",
      "245:\tlearn: 0.3571837\ttotal: 853ms\tremaining: 2.61s\n",
      "246:\tlearn: 0.3569604\ttotal: 855ms\tremaining: 2.6s\n",
      "247:\tlearn: 0.3566763\ttotal: 856ms\tremaining: 2.6s\n",
      "248:\tlearn: 0.3564196\ttotal: 858ms\tremaining: 2.59s\n",
      "249:\tlearn: 0.3562095\ttotal: 860ms\tremaining: 2.58s\n",
      "250:\tlearn: 0.3559859\ttotal: 862ms\tremaining: 2.57s\n",
      "251:\tlearn: 0.3558313\ttotal: 863ms\tremaining: 2.56s\n",
      "252:\tlearn: 0.3557084\ttotal: 865ms\tremaining: 2.56s\n",
      "253:\tlearn: 0.3555287\ttotal: 867ms\tremaining: 2.55s\n",
      "254:\tlearn: 0.3553623\ttotal: 869ms\tremaining: 2.54s\n",
      "255:\tlearn: 0.3553404\ttotal: 869ms\tremaining: 2.52s\n",
      "256:\tlearn: 0.3550990\ttotal: 870ms\tremaining: 2.52s\n",
      "257:\tlearn: 0.3549151\ttotal: 872ms\tremaining: 2.51s\n",
      "258:\tlearn: 0.3547584\ttotal: 873ms\tremaining: 2.5s\n",
      "259:\tlearn: 0.3544953\ttotal: 875ms\tremaining: 2.49s\n",
      "260:\tlearn: 0.3542541\ttotal: 876ms\tremaining: 2.48s\n",
      "261:\tlearn: 0.3541104\ttotal: 878ms\tremaining: 2.47s\n",
      "262:\tlearn: 0.3538724\ttotal: 880ms\tremaining: 2.46s\n",
      "263:\tlearn: 0.3536704\ttotal: 881ms\tremaining: 2.46s\n",
      "264:\tlearn: 0.3534780\ttotal: 884ms\tremaining: 2.45s\n",
      "265:\tlearn: 0.3533680\ttotal: 886ms\tremaining: 2.44s\n",
      "266:\tlearn: 0.3532454\ttotal: 887ms\tremaining: 2.44s\n",
      "267:\tlearn: 0.3529981\ttotal: 889ms\tremaining: 2.43s\n",
      "268:\tlearn: 0.3528749\ttotal: 890ms\tremaining: 2.42s\n",
      "269:\tlearn: 0.3526724\ttotal: 892ms\tremaining: 2.41s\n",
      "270:\tlearn: 0.3525544\ttotal: 893ms\tremaining: 2.4s\n",
      "271:\tlearn: 0.3522117\ttotal: 895ms\tremaining: 2.4s\n",
      "272:\tlearn: 0.3520025\ttotal: 897ms\tremaining: 2.39s\n",
      "273:\tlearn: 0.3515918\ttotal: 899ms\tremaining: 2.38s\n",
      "274:\tlearn: 0.3514548\ttotal: 900ms\tremaining: 2.37s\n",
      "275:\tlearn: 0.3512442\ttotal: 902ms\tremaining: 2.37s\n",
      "276:\tlearn: 0.3510995\ttotal: 903ms\tremaining: 2.36s\n",
      "277:\tlearn: 0.3508710\ttotal: 904ms\tremaining: 2.35s\n",
      "278:\tlearn: 0.3507588\ttotal: 906ms\tremaining: 2.34s\n",
      "279:\tlearn: 0.3505911\ttotal: 907ms\tremaining: 2.33s\n",
      "280:\tlearn: 0.3502786\ttotal: 909ms\tremaining: 2.33s\n",
      "281:\tlearn: 0.3501473\ttotal: 910ms\tremaining: 2.32s\n",
      "282:\tlearn: 0.3501063\ttotal: 911ms\tremaining: 2.31s\n",
      "283:\tlearn: 0.3499367\ttotal: 913ms\tremaining: 2.3s\n",
      "284:\tlearn: 0.3497452\ttotal: 914ms\tremaining: 2.29s\n",
      "285:\tlearn: 0.3495544\ttotal: 915ms\tremaining: 2.29s\n",
      "286:\tlearn: 0.3494098\ttotal: 917ms\tremaining: 2.28s\n",
      "287:\tlearn: 0.3491977\ttotal: 918ms\tremaining: 2.27s\n",
      "288:\tlearn: 0.3490934\ttotal: 920ms\tremaining: 2.26s\n",
      "289:\tlearn: 0.3489654\ttotal: 922ms\tremaining: 2.26s\n",
      "290:\tlearn: 0.3488335\ttotal: 923ms\tremaining: 2.25s\n",
      "291:\tlearn: 0.3486781\ttotal: 925ms\tremaining: 2.24s\n",
      "292:\tlearn: 0.3484432\ttotal: 926ms\tremaining: 2.23s\n",
      "293:\tlearn: 0.3482538\ttotal: 928ms\tremaining: 2.23s\n",
      "294:\tlearn: 0.3481415\ttotal: 929ms\tremaining: 2.22s\n",
      "295:\tlearn: 0.3477862\ttotal: 931ms\tremaining: 2.21s\n",
      "296:\tlearn: 0.3476577\ttotal: 932ms\tremaining: 2.21s\n",
      "297:\tlearn: 0.3473913\ttotal: 934ms\tremaining: 2.2s\n",
      "298:\tlearn: 0.3471845\ttotal: 935ms\tremaining: 2.19s\n",
      "299:\tlearn: 0.3470315\ttotal: 937ms\tremaining: 2.19s\n",
      "300:\tlearn: 0.3469804\ttotal: 938ms\tremaining: 2.18s\n",
      "301:\tlearn: 0.3468126\ttotal: 940ms\tremaining: 2.17s\n",
      "302:\tlearn: 0.3466771\ttotal: 941ms\tremaining: 2.16s\n",
      "303:\tlearn: 0.3466667\ttotal: 942ms\tremaining: 2.15s\n",
      "304:\tlearn: 0.3464982\ttotal: 943ms\tremaining: 2.15s\n",
      "305:\tlearn: 0.3463954\ttotal: 945ms\tremaining: 2.14s\n",
      "306:\tlearn: 0.3462833\ttotal: 946ms\tremaining: 2.13s\n",
      "307:\tlearn: 0.3462072\ttotal: 947ms\tremaining: 2.13s\n",
      "308:\tlearn: 0.3459699\ttotal: 949ms\tremaining: 2.12s\n",
      "309:\tlearn: 0.3458507\ttotal: 951ms\tremaining: 2.12s\n",
      "310:\tlearn: 0.3456266\ttotal: 952ms\tremaining: 2.11s\n",
      "311:\tlearn: 0.3454610\ttotal: 953ms\tremaining: 2.1s\n",
      "312:\tlearn: 0.3453645\ttotal: 955ms\tremaining: 2.1s\n",
      "313:\tlearn: 0.3450699\ttotal: 956ms\tremaining: 2.09s\n",
      "314:\tlearn: 0.3448554\ttotal: 958ms\tremaining: 2.08s\n",
      "315:\tlearn: 0.3447254\ttotal: 959ms\tremaining: 2.08s\n",
      "316:\tlearn: 0.3445170\ttotal: 960ms\tremaining: 2.07s\n",
      "317:\tlearn: 0.3444097\ttotal: 962ms\tremaining: 2.06s\n",
      "318:\tlearn: 0.3442904\ttotal: 963ms\tremaining: 2.06s\n",
      "319:\tlearn: 0.3441782\ttotal: 964ms\tremaining: 2.05s\n",
      "320:\tlearn: 0.3439900\ttotal: 965ms\tremaining: 2.04s\n",
      "321:\tlearn: 0.3438380\ttotal: 966ms\tremaining: 2.03s\n",
      "322:\tlearn: 0.3435295\ttotal: 968ms\tremaining: 2.03s\n",
      "323:\tlearn: 0.3433683\ttotal: 969ms\tremaining: 2.02s\n",
      "324:\tlearn: 0.3432136\ttotal: 970ms\tremaining: 2.02s\n",
      "325:\tlearn: 0.3430217\ttotal: 972ms\tremaining: 2.01s\n",
      "326:\tlearn: 0.3427818\ttotal: 973ms\tremaining: 2s\n",
      "327:\tlearn: 0.3426594\ttotal: 974ms\tremaining: 2s\n",
      "328:\tlearn: 0.3425508\ttotal: 976ms\tremaining: 1.99s\n",
      "329:\tlearn: 0.3424216\ttotal: 977ms\tremaining: 1.98s\n",
      "330:\tlearn: 0.3423815\ttotal: 978ms\tremaining: 1.98s\n",
      "331:\tlearn: 0.3421968\ttotal: 979ms\tremaining: 1.97s\n",
      "332:\tlearn: 0.3419262\ttotal: 980ms\tremaining: 1.96s\n",
      "333:\tlearn: 0.3418105\ttotal: 981ms\tremaining: 1.96s\n",
      "334:\tlearn: 0.3415599\ttotal: 983ms\tremaining: 1.95s\n",
      "335:\tlearn: 0.3413773\ttotal: 984ms\tremaining: 1.94s\n",
      "336:\tlearn: 0.3413139\ttotal: 985ms\tremaining: 1.94s\n",
      "337:\tlearn: 0.3411172\ttotal: 987ms\tremaining: 1.93s\n",
      "338:\tlearn: 0.3409577\ttotal: 988ms\tremaining: 1.93s\n",
      "339:\tlearn: 0.3407928\ttotal: 989ms\tremaining: 1.92s\n",
      "340:\tlearn: 0.3406488\ttotal: 991ms\tremaining: 1.91s\n",
      "341:\tlearn: 0.3404951\ttotal: 992ms\tremaining: 1.91s\n",
      "342:\tlearn: 0.3403306\ttotal: 993ms\tremaining: 1.9s\n",
      "343:\tlearn: 0.3402391\ttotal: 994ms\tremaining: 1.9s\n",
      "344:\tlearn: 0.3400642\ttotal: 996ms\tremaining: 1.89s\n",
      "345:\tlearn: 0.3399085\ttotal: 997ms\tremaining: 1.89s\n",
      "346:\tlearn: 0.3397920\ttotal: 999ms\tremaining: 1.88s\n",
      "347:\tlearn: 0.3396480\ttotal: 1s\tremaining: 1.87s\n",
      "348:\tlearn: 0.3394851\ttotal: 1s\tremaining: 1.87s\n",
      "349:\tlearn: 0.3392557\ttotal: 1s\tremaining: 1.86s\n",
      "350:\tlearn: 0.3391223\ttotal: 1s\tremaining: 1.86s\n",
      "351:\tlearn: 0.3389831\ttotal: 1s\tremaining: 1.85s\n",
      "352:\tlearn: 0.3388756\ttotal: 1.01s\tremaining: 1.84s\n",
      "353:\tlearn: 0.3386957\ttotal: 1.01s\tremaining: 1.84s\n",
      "354:\tlearn: 0.3385507\ttotal: 1.01s\tremaining: 1.83s\n",
      "355:\tlearn: 0.3384528\ttotal: 1.01s\tremaining: 1.83s\n",
      "356:\tlearn: 0.3382715\ttotal: 1.01s\tremaining: 1.82s\n",
      "357:\tlearn: 0.3380998\ttotal: 1.01s\tremaining: 1.82s\n",
      "358:\tlearn: 0.3379320\ttotal: 1.01s\tremaining: 1.81s\n",
      "359:\tlearn: 0.3379301\ttotal: 1.01s\tremaining: 1.8s\n",
      "360:\tlearn: 0.3377777\ttotal: 1.02s\tremaining: 1.8s\n",
      "361:\tlearn: 0.3376625\ttotal: 1.02s\tremaining: 1.79s\n",
      "362:\tlearn: 0.3375888\ttotal: 1.02s\tremaining: 1.79s\n",
      "363:\tlearn: 0.3374274\ttotal: 1.02s\tremaining: 1.78s\n",
      "364:\tlearn: 0.3373359\ttotal: 1.02s\tremaining: 1.78s\n",
      "365:\tlearn: 0.3371091\ttotal: 1.02s\tremaining: 1.77s\n",
      "366:\tlearn: 0.3369303\ttotal: 1.02s\tremaining: 1.77s\n",
      "367:\tlearn: 0.3367657\ttotal: 1.03s\tremaining: 1.76s\n",
      "368:\tlearn: 0.3367174\ttotal: 1.03s\tremaining: 1.76s\n",
      "369:\tlearn: 0.3365397\ttotal: 1.03s\tremaining: 1.75s\n",
      "370:\tlearn: 0.3365255\ttotal: 1.03s\tremaining: 1.75s\n",
      "371:\tlearn: 0.3364107\ttotal: 1.03s\tremaining: 1.74s\n",
      "372:\tlearn: 0.3361984\ttotal: 1.03s\tremaining: 1.74s\n",
      "373:\tlearn: 0.3360760\ttotal: 1.03s\tremaining: 1.73s\n",
      "374:\tlearn: 0.3359387\ttotal: 1.04s\tremaining: 1.73s\n",
      "375:\tlearn: 0.3358470\ttotal: 1.04s\tremaining: 1.72s\n",
      "376:\tlearn: 0.3357329\ttotal: 1.04s\tremaining: 1.72s\n",
      "377:\tlearn: 0.3355928\ttotal: 1.04s\tremaining: 1.71s\n",
      "378:\tlearn: 0.3354322\ttotal: 1.04s\tremaining: 1.71s\n"
     ]
    },
    {
     "name": "stdout",
     "output_type": "stream",
     "text": [
      "379:\tlearn: 0.3352875\ttotal: 1.04s\tremaining: 1.7s\n",
      "380:\tlearn: 0.3352125\ttotal: 1.05s\tremaining: 1.7s\n",
      "381:\tlearn: 0.3351197\ttotal: 1.05s\tremaining: 1.7s\n",
      "382:\tlearn: 0.3349553\ttotal: 1.05s\tremaining: 1.69s\n",
      "383:\tlearn: 0.3348176\ttotal: 1.05s\tremaining: 1.69s\n",
      "384:\tlearn: 0.3347095\ttotal: 1.05s\tremaining: 1.68s\n",
      "385:\tlearn: 0.3345494\ttotal: 1.06s\tremaining: 1.68s\n",
      "386:\tlearn: 0.3344431\ttotal: 1.06s\tremaining: 1.68s\n",
      "387:\tlearn: 0.3343728\ttotal: 1.06s\tremaining: 1.67s\n",
      "388:\tlearn: 0.3342715\ttotal: 1.06s\tremaining: 1.67s\n",
      "389:\tlearn: 0.3341310\ttotal: 1.06s\tremaining: 1.66s\n",
      "390:\tlearn: 0.3341044\ttotal: 1.07s\tremaining: 1.66s\n",
      "391:\tlearn: 0.3339637\ttotal: 1.08s\tremaining: 1.68s\n",
      "392:\tlearn: 0.3338615\ttotal: 1.08s\tremaining: 1.67s\n",
      "393:\tlearn: 0.3336989\ttotal: 1.08s\tremaining: 1.67s\n",
      "394:\tlearn: 0.3335094\ttotal: 1.09s\tremaining: 1.67s\n",
      "395:\tlearn: 0.3333295\ttotal: 1.09s\tremaining: 1.66s\n",
      "396:\tlearn: 0.3331099\ttotal: 1.09s\tremaining: 1.66s\n",
      "397:\tlearn: 0.3328493\ttotal: 1.09s\tremaining: 1.65s\n",
      "398:\tlearn: 0.3327208\ttotal: 1.09s\tremaining: 1.65s\n",
      "399:\tlearn: 0.3324346\ttotal: 1.1s\tremaining: 1.65s\n",
      "400:\tlearn: 0.3322114\ttotal: 1.1s\tremaining: 1.64s\n",
      "401:\tlearn: 0.3320627\ttotal: 1.1s\tremaining: 1.64s\n",
      "402:\tlearn: 0.3319534\ttotal: 1.1s\tremaining: 1.63s\n",
      "403:\tlearn: 0.3318724\ttotal: 1.1s\tremaining: 1.63s\n",
      "404:\tlearn: 0.3317004\ttotal: 1.1s\tremaining: 1.62s\n",
      "405:\tlearn: 0.3315483\ttotal: 1.11s\tremaining: 1.62s\n",
      "406:\tlearn: 0.3314166\ttotal: 1.11s\tremaining: 1.61s\n",
      "407:\tlearn: 0.3313027\ttotal: 1.11s\tremaining: 1.61s\n",
      "408:\tlearn: 0.3311610\ttotal: 1.11s\tremaining: 1.6s\n",
      "409:\tlearn: 0.3310736\ttotal: 1.11s\tremaining: 1.6s\n",
      "410:\tlearn: 0.3309571\ttotal: 1.11s\tremaining: 1.6s\n",
      "411:\tlearn: 0.3308243\ttotal: 1.11s\tremaining: 1.59s\n",
      "412:\tlearn: 0.3307111\ttotal: 1.12s\tremaining: 1.59s\n",
      "413:\tlearn: 0.3306138\ttotal: 1.12s\tremaining: 1.58s\n",
      "414:\tlearn: 0.3305012\ttotal: 1.12s\tremaining: 1.58s\n",
      "415:\tlearn: 0.3304043\ttotal: 1.12s\tremaining: 1.57s\n",
      "416:\tlearn: 0.3302535\ttotal: 1.12s\tremaining: 1.57s\n",
      "417:\tlearn: 0.3301524\ttotal: 1.12s\tremaining: 1.57s\n",
      "418:\tlearn: 0.3299403\ttotal: 1.13s\tremaining: 1.56s\n",
      "419:\tlearn: 0.3297615\ttotal: 1.13s\tremaining: 1.56s\n",
      "420:\tlearn: 0.3295651\ttotal: 1.13s\tremaining: 1.55s\n",
      "421:\tlearn: 0.3295444\ttotal: 1.13s\tremaining: 1.55s\n",
      "422:\tlearn: 0.3295007\ttotal: 1.13s\tremaining: 1.55s\n",
      "423:\tlearn: 0.3293647\ttotal: 1.14s\tremaining: 1.54s\n",
      "424:\tlearn: 0.3292652\ttotal: 1.14s\tremaining: 1.54s\n",
      "425:\tlearn: 0.3291801\ttotal: 1.14s\tremaining: 1.53s\n",
      "426:\tlearn: 0.3290907\ttotal: 1.14s\tremaining: 1.53s\n",
      "427:\tlearn: 0.3290713\ttotal: 1.14s\tremaining: 1.53s\n",
      "428:\tlearn: 0.3288884\ttotal: 1.14s\tremaining: 1.52s\n",
      "429:\tlearn: 0.3288333\ttotal: 1.15s\tremaining: 1.52s\n",
      "430:\tlearn: 0.3286174\ttotal: 1.15s\tremaining: 1.52s\n",
      "431:\tlearn: 0.3284728\ttotal: 1.15s\tremaining: 1.51s\n",
      "432:\tlearn: 0.3284016\ttotal: 1.15s\tremaining: 1.51s\n",
      "433:\tlearn: 0.3283001\ttotal: 1.15s\tremaining: 1.51s\n",
      "434:\tlearn: 0.3281774\ttotal: 1.16s\tremaining: 1.5s\n",
      "435:\tlearn: 0.3280880\ttotal: 1.16s\tremaining: 1.5s\n",
      "436:\tlearn: 0.3278366\ttotal: 1.16s\tremaining: 1.5s\n",
      "437:\tlearn: 0.3277275\ttotal: 1.16s\tremaining: 1.49s\n",
      "438:\tlearn: 0.3276256\ttotal: 1.17s\tremaining: 1.49s\n",
      "439:\tlearn: 0.3275475\ttotal: 1.17s\tremaining: 1.49s\n",
      "440:\tlearn: 0.3274475\ttotal: 1.17s\tremaining: 1.48s\n",
      "441:\tlearn: 0.3273511\ttotal: 1.17s\tremaining: 1.48s\n",
      "442:\tlearn: 0.3272245\ttotal: 1.18s\tremaining: 1.48s\n",
      "443:\tlearn: 0.3270586\ttotal: 1.18s\tremaining: 1.48s\n",
      "444:\tlearn: 0.3269172\ttotal: 1.18s\tremaining: 1.47s\n",
      "445:\tlearn: 0.3267683\ttotal: 1.18s\tremaining: 1.47s\n",
      "446:\tlearn: 0.3267135\ttotal: 1.19s\tremaining: 1.47s\n",
      "447:\tlearn: 0.3264659\ttotal: 1.19s\tremaining: 1.47s\n",
      "448:\tlearn: 0.3262741\ttotal: 1.19s\tremaining: 1.46s\n",
      "449:\tlearn: 0.3261356\ttotal: 1.2s\tremaining: 1.46s\n",
      "450:\tlearn: 0.3260861\ttotal: 1.2s\tremaining: 1.46s\n",
      "451:\tlearn: 0.3260228\ttotal: 1.2s\tremaining: 1.45s\n",
      "452:\tlearn: 0.3259967\ttotal: 1.2s\tremaining: 1.45s\n",
      "453:\tlearn: 0.3258824\ttotal: 1.2s\tremaining: 1.45s\n",
      "454:\tlearn: 0.3257236\ttotal: 1.21s\tremaining: 1.45s\n",
      "455:\tlearn: 0.3256922\ttotal: 1.21s\tremaining: 1.44s\n",
      "456:\tlearn: 0.3255772\ttotal: 1.21s\tremaining: 1.44s\n",
      "457:\tlearn: 0.3254246\ttotal: 1.22s\tremaining: 1.44s\n",
      "458:\tlearn: 0.3253275\ttotal: 1.22s\tremaining: 1.44s\n",
      "459:\tlearn: 0.3251722\ttotal: 1.22s\tremaining: 1.43s\n",
      "460:\tlearn: 0.3251266\ttotal: 1.22s\tremaining: 1.43s\n",
      "461:\tlearn: 0.3249092\ttotal: 1.23s\tremaining: 1.43s\n",
      "462:\tlearn: 0.3246921\ttotal: 1.23s\tremaining: 1.43s\n",
      "463:\tlearn: 0.3244944\ttotal: 1.23s\tremaining: 1.43s\n",
      "464:\tlearn: 0.3243994\ttotal: 1.24s\tremaining: 1.43s\n",
      "465:\tlearn: 0.3241970\ttotal: 1.24s\tremaining: 1.42s\n",
      "466:\tlearn: 0.3240559\ttotal: 1.25s\tremaining: 1.42s\n",
      "467:\tlearn: 0.3239416\ttotal: 1.25s\tremaining: 1.42s\n",
      "468:\tlearn: 0.3237303\ttotal: 1.25s\tremaining: 1.42s\n",
      "469:\tlearn: 0.3235599\ttotal: 1.26s\tremaining: 1.42s\n",
      "470:\tlearn: 0.3234191\ttotal: 1.26s\tremaining: 1.42s\n",
      "471:\tlearn: 0.3233252\ttotal: 1.26s\tremaining: 1.41s\n",
      "472:\tlearn: 0.3231950\ttotal: 1.27s\tremaining: 1.41s\n",
      "473:\tlearn: 0.3230485\ttotal: 1.27s\tremaining: 1.41s\n",
      "474:\tlearn: 0.3229554\ttotal: 1.27s\tremaining: 1.41s\n",
      "475:\tlearn: 0.3228246\ttotal: 1.27s\tremaining: 1.4s\n",
      "476:\tlearn: 0.3227032\ttotal: 1.28s\tremaining: 1.4s\n",
      "477:\tlearn: 0.3225428\ttotal: 1.28s\tremaining: 1.4s\n",
      "478:\tlearn: 0.3224335\ttotal: 1.28s\tremaining: 1.4s\n",
      "479:\tlearn: 0.3223818\ttotal: 1.28s\tremaining: 1.39s\n",
      "480:\tlearn: 0.3222894\ttotal: 1.29s\tremaining: 1.39s\n",
      "481:\tlearn: 0.3221988\ttotal: 1.29s\tremaining: 1.39s\n",
      "482:\tlearn: 0.3221067\ttotal: 1.29s\tremaining: 1.38s\n",
      "483:\tlearn: 0.3219753\ttotal: 1.29s\tremaining: 1.38s\n",
      "484:\tlearn: 0.3219045\ttotal: 1.3s\tremaining: 1.38s\n",
      "485:\tlearn: 0.3218440\ttotal: 1.3s\tremaining: 1.37s\n",
      "486:\tlearn: 0.3218238\ttotal: 1.3s\tremaining: 1.37s\n",
      "487:\tlearn: 0.3217074\ttotal: 1.3s\tremaining: 1.37s\n",
      "488:\tlearn: 0.3216442\ttotal: 1.3s\tremaining: 1.36s\n",
      "489:\tlearn: 0.3216108\ttotal: 1.31s\tremaining: 1.36s\n",
      "490:\tlearn: 0.3214744\ttotal: 1.31s\tremaining: 1.36s\n",
      "491:\tlearn: 0.3213933\ttotal: 1.31s\tremaining: 1.35s\n",
      "492:\tlearn: 0.3213831\ttotal: 1.31s\tremaining: 1.35s\n",
      "493:\tlearn: 0.3212811\ttotal: 1.31s\tremaining: 1.35s\n",
      "494:\tlearn: 0.3210729\ttotal: 1.32s\tremaining: 1.34s\n",
      "495:\tlearn: 0.3208712\ttotal: 1.32s\tremaining: 1.34s\n",
      "496:\tlearn: 0.3207497\ttotal: 1.32s\tremaining: 1.34s\n",
      "497:\tlearn: 0.3206591\ttotal: 1.32s\tremaining: 1.33s\n",
      "498:\tlearn: 0.3205530\ttotal: 1.32s\tremaining: 1.33s\n",
      "499:\tlearn: 0.3203565\ttotal: 1.33s\tremaining: 1.33s\n",
      "500:\tlearn: 0.3201545\ttotal: 1.33s\tremaining: 1.32s\n",
      "501:\tlearn: 0.3199850\ttotal: 1.33s\tremaining: 1.32s\n",
      "502:\tlearn: 0.3198067\ttotal: 1.33s\tremaining: 1.32s\n",
      "503:\tlearn: 0.3197444\ttotal: 1.33s\tremaining: 1.31s\n",
      "504:\tlearn: 0.3196175\ttotal: 1.34s\tremaining: 1.31s\n",
      "505:\tlearn: 0.3195821\ttotal: 1.34s\tremaining: 1.31s\n",
      "506:\tlearn: 0.3194363\ttotal: 1.34s\tremaining: 1.3s\n",
      "507:\tlearn: 0.3193449\ttotal: 1.34s\tremaining: 1.3s\n",
      "508:\tlearn: 0.3192133\ttotal: 1.34s\tremaining: 1.3s\n",
      "509:\tlearn: 0.3191993\ttotal: 1.35s\tremaining: 1.29s\n",
      "510:\tlearn: 0.3190324\ttotal: 1.35s\tremaining: 1.29s\n",
      "511:\tlearn: 0.3188823\ttotal: 1.35s\tremaining: 1.29s\n",
      "512:\tlearn: 0.3187559\ttotal: 1.35s\tremaining: 1.28s\n",
      "513:\tlearn: 0.3186618\ttotal: 1.35s\tremaining: 1.28s\n",
      "514:\tlearn: 0.3185793\ttotal: 1.35s\tremaining: 1.28s\n",
      "515:\tlearn: 0.3184603\ttotal: 1.36s\tremaining: 1.27s\n",
      "516:\tlearn: 0.3183653\ttotal: 1.36s\tremaining: 1.27s\n",
      "517:\tlearn: 0.3182890\ttotal: 1.36s\tremaining: 1.27s\n",
      "518:\tlearn: 0.3181946\ttotal: 1.36s\tremaining: 1.26s\n",
      "519:\tlearn: 0.3180840\ttotal: 1.36s\tremaining: 1.26s\n",
      "520:\tlearn: 0.3179524\ttotal: 1.37s\tremaining: 1.26s\n",
      "521:\tlearn: 0.3178957\ttotal: 1.37s\tremaining: 1.25s\n",
      "522:\tlearn: 0.3177785\ttotal: 1.37s\tremaining: 1.25s\n",
      "523:\tlearn: 0.3176530\ttotal: 1.37s\tremaining: 1.25s\n",
      "524:\tlearn: 0.3174664\ttotal: 1.37s\tremaining: 1.24s\n",
      "525:\tlearn: 0.3173443\ttotal: 1.38s\tremaining: 1.24s\n",
      "526:\tlearn: 0.3172371\ttotal: 1.38s\tremaining: 1.24s\n",
      "527:\tlearn: 0.3171178\ttotal: 1.38s\tremaining: 1.23s\n",
      "528:\tlearn: 0.3170780\ttotal: 1.38s\tremaining: 1.23s\n",
      "529:\tlearn: 0.3169736\ttotal: 1.38s\tremaining: 1.23s\n",
      "530:\tlearn: 0.3168448\ttotal: 1.38s\tremaining: 1.22s\n",
      "531:\tlearn: 0.3167161\ttotal: 1.39s\tremaining: 1.22s\n",
      "532:\tlearn: 0.3166194\ttotal: 1.39s\tremaining: 1.22s\n",
      "533:\tlearn: 0.3164453\ttotal: 1.39s\tremaining: 1.21s\n",
      "534:\tlearn: 0.3163352\ttotal: 1.39s\tremaining: 1.21s\n",
      "535:\tlearn: 0.3161985\ttotal: 1.39s\tremaining: 1.21s\n",
      "536:\tlearn: 0.3160412\ttotal: 1.39s\tremaining: 1.2s\n",
      "537:\tlearn: 0.3159500\ttotal: 1.4s\tremaining: 1.2s\n",
      "538:\tlearn: 0.3158628\ttotal: 1.4s\tremaining: 1.2s\n",
      "539:\tlearn: 0.3158253\ttotal: 1.4s\tremaining: 1.19s\n",
      "540:\tlearn: 0.3157527\ttotal: 1.4s\tremaining: 1.19s\n"
     ]
    },
    {
     "name": "stdout",
     "output_type": "stream",
     "text": [
      "541:\tlearn: 0.3157073\ttotal: 1.4s\tremaining: 1.19s\n",
      "542:\tlearn: 0.3155277\ttotal: 1.41s\tremaining: 1.18s\n",
      "543:\tlearn: 0.3154104\ttotal: 1.41s\tremaining: 1.18s\n",
      "544:\tlearn: 0.3152663\ttotal: 1.41s\tremaining: 1.18s\n",
      "545:\tlearn: 0.3150363\ttotal: 1.41s\tremaining: 1.17s\n",
      "546:\tlearn: 0.3148963\ttotal: 1.41s\tremaining: 1.17s\n",
      "547:\tlearn: 0.3147880\ttotal: 1.41s\tremaining: 1.17s\n",
      "548:\tlearn: 0.3146322\ttotal: 1.42s\tremaining: 1.16s\n",
      "549:\tlearn: 0.3145676\ttotal: 1.42s\tremaining: 1.16s\n",
      "550:\tlearn: 0.3144313\ttotal: 1.42s\tremaining: 1.16s\n",
      "551:\tlearn: 0.3143079\ttotal: 1.42s\tremaining: 1.15s\n",
      "552:\tlearn: 0.3142418\ttotal: 1.42s\tremaining: 1.15s\n",
      "553:\tlearn: 0.3141219\ttotal: 1.42s\tremaining: 1.15s\n",
      "554:\tlearn: 0.3140303\ttotal: 1.43s\tremaining: 1.14s\n",
      "555:\tlearn: 0.3138267\ttotal: 1.43s\tremaining: 1.14s\n",
      "556:\tlearn: 0.3137102\ttotal: 1.43s\tremaining: 1.14s\n",
      "557:\tlearn: 0.3136548\ttotal: 1.43s\tremaining: 1.13s\n",
      "558:\tlearn: 0.3135674\ttotal: 1.43s\tremaining: 1.13s\n",
      "559:\tlearn: 0.3135331\ttotal: 1.43s\tremaining: 1.13s\n",
      "560:\tlearn: 0.3134943\ttotal: 1.44s\tremaining: 1.12s\n",
      "561:\tlearn: 0.3134371\ttotal: 1.44s\tremaining: 1.12s\n",
      "562:\tlearn: 0.3133101\ttotal: 1.44s\tremaining: 1.12s\n",
      "563:\tlearn: 0.3132889\ttotal: 1.44s\tremaining: 1.11s\n",
      "564:\tlearn: 0.3131396\ttotal: 1.44s\tremaining: 1.11s\n",
      "565:\tlearn: 0.3130730\ttotal: 1.44s\tremaining: 1.11s\n",
      "566:\tlearn: 0.3130267\ttotal: 1.44s\tremaining: 1.1s\n",
      "567:\tlearn: 0.3129401\ttotal: 1.45s\tremaining: 1.1s\n",
      "568:\tlearn: 0.3128627\ttotal: 1.45s\tremaining: 1.1s\n",
      "569:\tlearn: 0.3127301\ttotal: 1.45s\tremaining: 1.09s\n",
      "570:\tlearn: 0.3126427\ttotal: 1.45s\tremaining: 1.09s\n",
      "571:\tlearn: 0.3125208\ttotal: 1.45s\tremaining: 1.09s\n",
      "572:\tlearn: 0.3124670\ttotal: 1.45s\tremaining: 1.08s\n",
      "573:\tlearn: 0.3124058\ttotal: 1.45s\tremaining: 1.08s\n",
      "574:\tlearn: 0.3122271\ttotal: 1.46s\tremaining: 1.07s\n",
      "575:\tlearn: 0.3121436\ttotal: 1.46s\tremaining: 1.07s\n",
      "576:\tlearn: 0.3119610\ttotal: 1.46s\tremaining: 1.07s\n",
      "577:\tlearn: 0.3117881\ttotal: 1.46s\tremaining: 1.06s\n",
      "578:\tlearn: 0.3117027\ttotal: 1.46s\tremaining: 1.06s\n",
      "579:\tlearn: 0.3116137\ttotal: 1.46s\tremaining: 1.06s\n",
      "580:\tlearn: 0.3114883\ttotal: 1.46s\tremaining: 1.05s\n",
      "581:\tlearn: 0.3113741\ttotal: 1.47s\tremaining: 1.05s\n",
      "582:\tlearn: 0.3112321\ttotal: 1.47s\tremaining: 1.05s\n",
      "583:\tlearn: 0.3111004\ttotal: 1.47s\tremaining: 1.04s\n",
      "584:\tlearn: 0.3110148\ttotal: 1.47s\tremaining: 1.04s\n",
      "585:\tlearn: 0.3109720\ttotal: 1.47s\tremaining: 1.04s\n",
      "586:\tlearn: 0.3108224\ttotal: 1.47s\tremaining: 1.03s\n",
      "587:\tlearn: 0.3106614\ttotal: 1.47s\tremaining: 1.03s\n",
      "588:\tlearn: 0.3105472\ttotal: 1.47s\tremaining: 1.03s\n",
      "589:\tlearn: 0.3103244\ttotal: 1.48s\tremaining: 1.02s\n",
      "590:\tlearn: 0.3102037\ttotal: 1.48s\tremaining: 1.02s\n",
      "591:\tlearn: 0.3101352\ttotal: 1.48s\tremaining: 1.02s\n",
      "592:\tlearn: 0.3101269\ttotal: 1.48s\tremaining: 1.01s\n",
      "593:\tlearn: 0.3101267\ttotal: 1.48s\tremaining: 1.01s\n",
      "594:\tlearn: 0.3100303\ttotal: 1.48s\tremaining: 1.01s\n",
      "595:\tlearn: 0.3099113\ttotal: 1.48s\tremaining: 1s\n",
      "596:\tlearn: 0.3097467\ttotal: 1.48s\tremaining: 1s\n",
      "597:\tlearn: 0.3096282\ttotal: 1.49s\tremaining: 999ms\n",
      "598:\tlearn: 0.3095586\ttotal: 1.49s\tremaining: 996ms\n",
      "599:\tlearn: 0.3094190\ttotal: 1.49s\tremaining: 993ms\n",
      "600:\tlearn: 0.3092891\ttotal: 1.49s\tremaining: 990ms\n",
      "601:\tlearn: 0.3092167\ttotal: 1.49s\tremaining: 987ms\n",
      "602:\tlearn: 0.3090963\ttotal: 1.49s\tremaining: 984ms\n",
      "603:\tlearn: 0.3090541\ttotal: 1.5s\tremaining: 981ms\n",
      "604:\tlearn: 0.3089650\ttotal: 1.5s\tremaining: 978ms\n",
      "605:\tlearn: 0.3088872\ttotal: 1.5s\tremaining: 975ms\n",
      "606:\tlearn: 0.3088052\ttotal: 1.5s\tremaining: 972ms\n",
      "607:\tlearn: 0.3087376\ttotal: 1.5s\tremaining: 969ms\n",
      "608:\tlearn: 0.3086123\ttotal: 1.5s\tremaining: 966ms\n",
      "609:\tlearn: 0.3084999\ttotal: 1.51s\tremaining: 963ms\n",
      "610:\tlearn: 0.3084368\ttotal: 1.51s\tremaining: 960ms\n",
      "611:\tlearn: 0.3082752\ttotal: 1.51s\tremaining: 957ms\n",
      "612:\tlearn: 0.3082078\ttotal: 1.51s\tremaining: 954ms\n",
      "613:\tlearn: 0.3081997\ttotal: 1.51s\tremaining: 950ms\n",
      "614:\tlearn: 0.3080911\ttotal: 1.51s\tremaining: 947ms\n",
      "615:\tlearn: 0.3080017\ttotal: 1.51s\tremaining: 944ms\n",
      "616:\tlearn: 0.3079579\ttotal: 1.51s\tremaining: 941ms\n",
      "617:\tlearn: 0.3079219\ttotal: 1.52s\tremaining: 937ms\n",
      "618:\tlearn: 0.3078725\ttotal: 1.52s\tremaining: 934ms\n",
      "619:\tlearn: 0.3077879\ttotal: 1.52s\tremaining: 931ms\n",
      "620:\tlearn: 0.3076938\ttotal: 1.52s\tremaining: 928ms\n",
      "621:\tlearn: 0.3076645\ttotal: 1.52s\tremaining: 925ms\n",
      "622:\tlearn: 0.3076527\ttotal: 1.52s\tremaining: 922ms\n",
      "623:\tlearn: 0.3075120\ttotal: 1.52s\tremaining: 919ms\n",
      "624:\tlearn: 0.3073787\ttotal: 1.53s\tremaining: 916ms\n",
      "625:\tlearn: 0.3073183\ttotal: 1.53s\tremaining: 913ms\n",
      "626:\tlearn: 0.3072592\ttotal: 1.53s\tremaining: 910ms\n",
      "627:\tlearn: 0.3071978\ttotal: 1.53s\tremaining: 907ms\n",
      "628:\tlearn: 0.3069831\ttotal: 1.53s\tremaining: 904ms\n",
      "629:\tlearn: 0.3069750\ttotal: 1.53s\tremaining: 901ms\n",
      "630:\tlearn: 0.3069071\ttotal: 1.54s\tremaining: 898ms\n",
      "631:\tlearn: 0.3067257\ttotal: 1.54s\tremaining: 896ms\n",
      "632:\tlearn: 0.3066622\ttotal: 1.54s\tremaining: 893ms\n",
      "633:\tlearn: 0.3065244\ttotal: 1.54s\tremaining: 890ms\n",
      "634:\tlearn: 0.3063975\ttotal: 1.54s\tremaining: 887ms\n",
      "635:\tlearn: 0.3062939\ttotal: 1.54s\tremaining: 885ms\n",
      "636:\tlearn: 0.3062134\ttotal: 1.55s\tremaining: 882ms\n",
      "637:\tlearn: 0.3060748\ttotal: 1.55s\tremaining: 879ms\n",
      "638:\tlearn: 0.3058763\ttotal: 1.55s\tremaining: 877ms\n",
      "639:\tlearn: 0.3058233\ttotal: 1.55s\tremaining: 874ms\n",
      "640:\tlearn: 0.3057302\ttotal: 1.56s\tremaining: 872ms\n",
      "641:\tlearn: 0.3055586\ttotal: 1.56s\tremaining: 869ms\n",
      "642:\tlearn: 0.3053404\ttotal: 1.56s\tremaining: 867ms\n",
      "643:\tlearn: 0.3050847\ttotal: 1.56s\tremaining: 864ms\n",
      "644:\tlearn: 0.3050522\ttotal: 1.57s\tremaining: 862ms\n",
      "645:\tlearn: 0.3049624\ttotal: 1.57s\tremaining: 859ms\n",
      "646:\tlearn: 0.3048285\ttotal: 1.57s\tremaining: 857ms\n",
      "647:\tlearn: 0.3047691\ttotal: 1.57s\tremaining: 855ms\n",
      "648:\tlearn: 0.3046837\ttotal: 1.58s\tremaining: 853ms\n",
      "649:\tlearn: 0.3046064\ttotal: 1.58s\tremaining: 851ms\n",
      "650:\tlearn: 0.3044559\ttotal: 1.58s\tremaining: 849ms\n",
      "651:\tlearn: 0.3044332\ttotal: 1.58s\tremaining: 846ms\n",
      "652:\tlearn: 0.3043934\ttotal: 1.59s\tremaining: 843ms\n",
      "653:\tlearn: 0.3043163\ttotal: 1.59s\tremaining: 841ms\n",
      "654:\tlearn: 0.3042584\ttotal: 1.59s\tremaining: 839ms\n",
      "655:\tlearn: 0.3042280\ttotal: 1.6s\tremaining: 837ms\n",
      "656:\tlearn: 0.3041914\ttotal: 1.6s\tremaining: 835ms\n",
      "657:\tlearn: 0.3040980\ttotal: 1.6s\tremaining: 833ms\n",
      "658:\tlearn: 0.3040570\ttotal: 1.61s\tremaining: 831ms\n",
      "659:\tlearn: 0.3039606\ttotal: 1.61s\tremaining: 829ms\n",
      "660:\tlearn: 0.3038016\ttotal: 1.61s\tremaining: 827ms\n",
      "661:\tlearn: 0.3037238\ttotal: 1.62s\tremaining: 825ms\n",
      "662:\tlearn: 0.3036357\ttotal: 1.62s\tremaining: 823ms\n",
      "663:\tlearn: 0.3036343\ttotal: 1.62s\tremaining: 820ms\n",
      "664:\tlearn: 0.3035461\ttotal: 1.62s\tremaining: 818ms\n",
      "665:\tlearn: 0.3032947\ttotal: 1.63s\tremaining: 816ms\n",
      "666:\tlearn: 0.3032099\ttotal: 1.63s\tremaining: 814ms\n",
      "667:\tlearn: 0.3030451\ttotal: 1.63s\tremaining: 812ms\n",
      "668:\tlearn: 0.3029009\ttotal: 1.64s\tremaining: 810ms\n",
      "669:\tlearn: 0.3028233\ttotal: 1.64s\tremaining: 808ms\n",
      "670:\tlearn: 0.3027148\ttotal: 1.64s\tremaining: 806ms\n",
      "671:\tlearn: 0.3026476\ttotal: 1.65s\tremaining: 804ms\n",
      "672:\tlearn: 0.3025845\ttotal: 1.65s\tremaining: 802ms\n",
      "673:\tlearn: 0.3024337\ttotal: 1.65s\tremaining: 800ms\n",
      "674:\tlearn: 0.3022957\ttotal: 1.66s\tremaining: 798ms\n",
      "675:\tlearn: 0.3022154\ttotal: 1.66s\tremaining: 796ms\n",
      "676:\tlearn: 0.3021152\ttotal: 1.66s\tremaining: 794ms\n",
      "677:\tlearn: 0.3020450\ttotal: 1.67s\tremaining: 792ms\n",
      "678:\tlearn: 0.3019552\ttotal: 1.67s\tremaining: 790ms\n",
      "679:\tlearn: 0.3017876\ttotal: 1.67s\tremaining: 787ms\n",
      "680:\tlearn: 0.3016629\ttotal: 1.68s\tremaining: 785ms\n",
      "681:\tlearn: 0.3015424\ttotal: 1.68s\tremaining: 783ms\n",
      "682:\tlearn: 0.3014037\ttotal: 1.68s\tremaining: 781ms\n",
      "683:\tlearn: 0.3012579\ttotal: 1.69s\tremaining: 779ms\n",
      "684:\tlearn: 0.3011872\ttotal: 1.69s\tremaining: 777ms\n",
      "685:\tlearn: 0.3010370\ttotal: 1.69s\tremaining: 775ms\n",
      "686:\tlearn: 0.3009927\ttotal: 1.7s\tremaining: 773ms\n",
      "687:\tlearn: 0.3009374\ttotal: 1.7s\tremaining: 771ms\n",
      "688:\tlearn: 0.3008021\ttotal: 1.7s\tremaining: 769ms\n",
      "689:\tlearn: 0.3007419\ttotal: 1.71s\tremaining: 767ms\n",
      "690:\tlearn: 0.3006637\ttotal: 1.71s\tremaining: 765ms\n",
      "691:\tlearn: 0.3006578\ttotal: 1.71s\tremaining: 762ms\n",
      "692:\tlearn: 0.3005697\ttotal: 1.72s\tremaining: 760ms\n",
      "693:\tlearn: 0.3004429\ttotal: 1.72s\tremaining: 758ms\n",
      "694:\tlearn: 0.3003589\ttotal: 1.72s\tremaining: 757ms\n",
      "695:\tlearn: 0.3002843\ttotal: 1.73s\tremaining: 755ms\n",
      "696:\tlearn: 0.3002316\ttotal: 1.73s\tremaining: 753ms\n",
      "697:\tlearn: 0.3001581\ttotal: 1.73s\tremaining: 750ms\n",
      "698:\tlearn: 0.3000841\ttotal: 1.74s\tremaining: 748ms\n",
      "699:\tlearn: 0.3000111\ttotal: 1.74s\tremaining: 747ms\n",
      "700:\tlearn: 0.2999161\ttotal: 1.75s\tremaining: 745ms\n",
      "701:\tlearn: 0.2998241\ttotal: 1.75s\tremaining: 742ms\n",
      "702:\tlearn: 0.2997751\ttotal: 1.75s\tremaining: 740ms\n"
     ]
    },
    {
     "name": "stdout",
     "output_type": "stream",
     "text": [
      "703:\tlearn: 0.2997118\ttotal: 1.76s\tremaining: 739ms\n",
      "704:\tlearn: 0.2996184\ttotal: 1.76s\tremaining: 737ms\n",
      "705:\tlearn: 0.2995635\ttotal: 1.76s\tremaining: 735ms\n",
      "706:\tlearn: 0.2994820\ttotal: 1.77s\tremaining: 732ms\n",
      "707:\tlearn: 0.2993924\ttotal: 1.77s\tremaining: 730ms\n",
      "708:\tlearn: 0.2993032\ttotal: 1.77s\tremaining: 728ms\n",
      "709:\tlearn: 0.2991654\ttotal: 1.78s\tremaining: 726ms\n",
      "710:\tlearn: 0.2990146\ttotal: 1.78s\tremaining: 724ms\n",
      "711:\tlearn: 0.2988329\ttotal: 1.78s\tremaining: 721ms\n",
      "712:\tlearn: 0.2987380\ttotal: 1.79s\tremaining: 719ms\n",
      "713:\tlearn: 0.2986419\ttotal: 1.79s\tremaining: 717ms\n",
      "714:\tlearn: 0.2985525\ttotal: 1.79s\tremaining: 715ms\n",
      "715:\tlearn: 0.2983953\ttotal: 1.8s\tremaining: 713ms\n",
      "716:\tlearn: 0.2980353\ttotal: 1.8s\tremaining: 711ms\n",
      "717:\tlearn: 0.2979648\ttotal: 1.8s\tremaining: 709ms\n",
      "718:\tlearn: 0.2978895\ttotal: 1.81s\tremaining: 707ms\n",
      "719:\tlearn: 0.2977082\ttotal: 1.81s\tremaining: 704ms\n",
      "720:\tlearn: 0.2976432\ttotal: 1.81s\tremaining: 702ms\n",
      "721:\tlearn: 0.2975523\ttotal: 1.82s\tremaining: 701ms\n",
      "722:\tlearn: 0.2974286\ttotal: 1.82s\tremaining: 698ms\n",
      "723:\tlearn: 0.2972989\ttotal: 1.83s\tremaining: 696ms\n",
      "724:\tlearn: 0.2972042\ttotal: 1.83s\tremaining: 694ms\n",
      "725:\tlearn: 0.2970935\ttotal: 1.83s\tremaining: 692ms\n",
      "726:\tlearn: 0.2970310\ttotal: 1.84s\tremaining: 690ms\n",
      "727:\tlearn: 0.2968642\ttotal: 1.84s\tremaining: 688ms\n",
      "728:\tlearn: 0.2967650\ttotal: 1.84s\tremaining: 685ms\n",
      "729:\tlearn: 0.2966218\ttotal: 1.85s\tremaining: 683ms\n",
      "730:\tlearn: 0.2964939\ttotal: 1.85s\tremaining: 681ms\n",
      "731:\tlearn: 0.2963327\ttotal: 1.85s\tremaining: 679ms\n",
      "732:\tlearn: 0.2963008\ttotal: 1.86s\tremaining: 676ms\n",
      "733:\tlearn: 0.2960354\ttotal: 1.86s\tremaining: 674ms\n",
      "734:\tlearn: 0.2959545\ttotal: 1.86s\tremaining: 672ms\n",
      "735:\tlearn: 0.2957999\ttotal: 1.87s\tremaining: 669ms\n",
      "736:\tlearn: 0.2956894\ttotal: 1.87s\tremaining: 667ms\n",
      "737:\tlearn: 0.2955512\ttotal: 1.87s\tremaining: 665ms\n",
      "738:\tlearn: 0.2953407\ttotal: 1.88s\tremaining: 662ms\n",
      "739:\tlearn: 0.2952426\ttotal: 1.88s\tremaining: 660ms\n",
      "740:\tlearn: 0.2951844\ttotal: 1.88s\tremaining: 658ms\n",
      "741:\tlearn: 0.2950789\ttotal: 1.88s\tremaining: 655ms\n",
      "742:\tlearn: 0.2949861\ttotal: 1.89s\tremaining: 653ms\n",
      "743:\tlearn: 0.2948715\ttotal: 1.89s\tremaining: 650ms\n",
      "744:\tlearn: 0.2948067\ttotal: 1.89s\tremaining: 648ms\n",
      "745:\tlearn: 0.2946020\ttotal: 1.9s\tremaining: 646ms\n",
      "746:\tlearn: 0.2945440\ttotal: 1.9s\tremaining: 643ms\n",
      "747:\tlearn: 0.2944998\ttotal: 1.9s\tremaining: 641ms\n",
      "748:\tlearn: 0.2944280\ttotal: 1.9s\tremaining: 638ms\n",
      "749:\tlearn: 0.2942617\ttotal: 1.91s\tremaining: 636ms\n",
      "750:\tlearn: 0.2940787\ttotal: 1.91s\tremaining: 633ms\n",
      "751:\tlearn: 0.2939931\ttotal: 1.91s\tremaining: 631ms\n",
      "752:\tlearn: 0.2938949\ttotal: 1.92s\tremaining: 629ms\n",
      "753:\tlearn: 0.2938510\ttotal: 1.92s\tremaining: 626ms\n",
      "754:\tlearn: 0.2937508\ttotal: 1.92s\tremaining: 624ms\n",
      "755:\tlearn: 0.2937316\ttotal: 1.93s\tremaining: 621ms\n",
      "756:\tlearn: 0.2935829\ttotal: 1.93s\tremaining: 619ms\n",
      "757:\tlearn: 0.2934504\ttotal: 1.93s\tremaining: 616ms\n",
      "758:\tlearn: 0.2931398\ttotal: 1.93s\tremaining: 614ms\n",
      "759:\tlearn: 0.2929721\ttotal: 1.94s\tremaining: 612ms\n",
      "760:\tlearn: 0.2929218\ttotal: 1.94s\tremaining: 610ms\n",
      "761:\tlearn: 0.2925194\ttotal: 1.94s\tremaining: 607ms\n",
      "762:\tlearn: 0.2924390\ttotal: 1.95s\tremaining: 605ms\n",
      "763:\tlearn: 0.2923201\ttotal: 1.95s\tremaining: 603ms\n",
      "764:\tlearn: 0.2920939\ttotal: 1.95s\tremaining: 601ms\n",
      "765:\tlearn: 0.2919743\ttotal: 1.96s\tremaining: 598ms\n",
      "766:\tlearn: 0.2917572\ttotal: 1.96s\tremaining: 596ms\n",
      "767:\tlearn: 0.2916747\ttotal: 1.97s\tremaining: 594ms\n",
      "768:\tlearn: 0.2916174\ttotal: 1.97s\tremaining: 591ms\n",
      "769:\tlearn: 0.2915623\ttotal: 1.97s\tremaining: 589ms\n",
      "770:\tlearn: 0.2914458\ttotal: 1.97s\tremaining: 586ms\n",
      "771:\tlearn: 0.2913357\ttotal: 1.98s\tremaining: 584ms\n",
      "772:\tlearn: 0.2911900\ttotal: 1.98s\tremaining: 582ms\n",
      "773:\tlearn: 0.2911251\ttotal: 1.98s\tremaining: 579ms\n",
      "774:\tlearn: 0.2910750\ttotal: 1.99s\tremaining: 577ms\n",
      "775:\tlearn: 0.2910312\ttotal: 1.99s\tremaining: 574ms\n",
      "776:\tlearn: 0.2909035\ttotal: 1.99s\tremaining: 572ms\n",
      "777:\tlearn: 0.2908690\ttotal: 2s\tremaining: 570ms\n",
      "778:\tlearn: 0.2907869\ttotal: 2s\tremaining: 567ms\n",
      "779:\tlearn: 0.2907447\ttotal: 2s\tremaining: 565ms\n",
      "780:\tlearn: 0.2906933\ttotal: 2s\tremaining: 562ms\n",
      "781:\tlearn: 0.2905956\ttotal: 2.01s\tremaining: 560ms\n",
      "782:\tlearn: 0.2904449\ttotal: 2.01s\tremaining: 557ms\n",
      "783:\tlearn: 0.2903647\ttotal: 2.01s\tremaining: 555ms\n",
      "784:\tlearn: 0.2902672\ttotal: 2.02s\tremaining: 553ms\n",
      "785:\tlearn: 0.2902031\ttotal: 2.02s\tremaining: 550ms\n",
      "786:\tlearn: 0.2900771\ttotal: 2.02s\tremaining: 548ms\n",
      "787:\tlearn: 0.2900061\ttotal: 2.03s\tremaining: 545ms\n",
      "788:\tlearn: 0.2898927\ttotal: 2.03s\tremaining: 543ms\n",
      "789:\tlearn: 0.2897598\ttotal: 2.03s\tremaining: 541ms\n",
      "790:\tlearn: 0.2897232\ttotal: 2.04s\tremaining: 538ms\n",
      "791:\tlearn: 0.2896630\ttotal: 2.04s\tremaining: 536ms\n",
      "792:\tlearn: 0.2895995\ttotal: 2.04s\tremaining: 533ms\n",
      "793:\tlearn: 0.2895148\ttotal: 2.04s\tremaining: 531ms\n",
      "794:\tlearn: 0.2894856\ttotal: 2.05s\tremaining: 528ms\n",
      "795:\tlearn: 0.2893530\ttotal: 2.05s\tremaining: 526ms\n",
      "796:\tlearn: 0.2893154\ttotal: 2.05s\tremaining: 523ms\n",
      "797:\tlearn: 0.2892206\ttotal: 2.06s\tremaining: 521ms\n",
      "798:\tlearn: 0.2890191\ttotal: 2.06s\tremaining: 518ms\n",
      "799:\tlearn: 0.2889457\ttotal: 2.06s\tremaining: 516ms\n",
      "800:\tlearn: 0.2888861\ttotal: 2.06s\tremaining: 513ms\n",
      "801:\tlearn: 0.2887923\ttotal: 2.07s\tremaining: 511ms\n",
      "802:\tlearn: 0.2887079\ttotal: 2.07s\tremaining: 508ms\n",
      "803:\tlearn: 0.2886580\ttotal: 2.07s\tremaining: 506ms\n",
      "804:\tlearn: 0.2885901\ttotal: 2.08s\tremaining: 503ms\n",
      "805:\tlearn: 0.2885466\ttotal: 2.08s\tremaining: 501ms\n",
      "806:\tlearn: 0.2884627\ttotal: 2.08s\tremaining: 498ms\n",
      "807:\tlearn: 0.2883784\ttotal: 2.09s\tremaining: 496ms\n",
      "808:\tlearn: 0.2883274\ttotal: 2.09s\tremaining: 493ms\n",
      "809:\tlearn: 0.2882739\ttotal: 2.09s\tremaining: 491ms\n",
      "810:\tlearn: 0.2882175\ttotal: 2.09s\tremaining: 488ms\n",
      "811:\tlearn: 0.2881575\ttotal: 2.1s\tremaining: 485ms\n",
      "812:\tlearn: 0.2880953\ttotal: 2.1s\tremaining: 483ms\n",
      "813:\tlearn: 0.2879938\ttotal: 2.1s\tremaining: 480ms\n",
      "814:\tlearn: 0.2877988\ttotal: 2.1s\tremaining: 477ms\n",
      "815:\tlearn: 0.2877418\ttotal: 2.1s\tremaining: 474ms\n",
      "816:\tlearn: 0.2876425\ttotal: 2.11s\tremaining: 472ms\n",
      "817:\tlearn: 0.2875182\ttotal: 2.11s\tremaining: 469ms\n",
      "818:\tlearn: 0.2874350\ttotal: 2.11s\tremaining: 467ms\n",
      "819:\tlearn: 0.2873352\ttotal: 2.11s\tremaining: 464ms\n",
      "820:\tlearn: 0.2872747\ttotal: 2.12s\tremaining: 461ms\n",
      "821:\tlearn: 0.2871825\ttotal: 2.12s\tremaining: 459ms\n",
      "822:\tlearn: 0.2870480\ttotal: 2.12s\tremaining: 456ms\n",
      "823:\tlearn: 0.2870130\ttotal: 2.12s\tremaining: 453ms\n",
      "824:\tlearn: 0.2867179\ttotal: 2.13s\tremaining: 451ms\n",
      "825:\tlearn: 0.2865840\ttotal: 2.13s\tremaining: 449ms\n",
      "826:\tlearn: 0.2864808\ttotal: 2.13s\tremaining: 446ms\n",
      "827:\tlearn: 0.2863559\ttotal: 2.14s\tremaining: 444ms\n",
      "828:\tlearn: 0.2862513\ttotal: 2.14s\tremaining: 442ms\n",
      "829:\tlearn: 0.2861797\ttotal: 2.14s\tremaining: 439ms\n",
      "830:\tlearn: 0.2861589\ttotal: 2.15s\tremaining: 436ms\n",
      "831:\tlearn: 0.2860650\ttotal: 2.15s\tremaining: 434ms\n",
      "832:\tlearn: 0.2859267\ttotal: 2.15s\tremaining: 431ms\n",
      "833:\tlearn: 0.2858579\ttotal: 2.15s\tremaining: 429ms\n",
      "834:\tlearn: 0.2857985\ttotal: 2.16s\tremaining: 426ms\n",
      "835:\tlearn: 0.2856669\ttotal: 2.16s\tremaining: 424ms\n",
      "836:\tlearn: 0.2855924\ttotal: 2.16s\tremaining: 421ms\n",
      "837:\tlearn: 0.2855560\ttotal: 2.17s\tremaining: 419ms\n",
      "838:\tlearn: 0.2855084\ttotal: 2.17s\tremaining: 416ms\n",
      "839:\tlearn: 0.2854128\ttotal: 2.17s\tremaining: 413ms\n",
      "840:\tlearn: 0.2853493\ttotal: 2.17s\tremaining: 411ms\n",
      "841:\tlearn: 0.2853237\ttotal: 2.17s\tremaining: 408ms\n",
      "842:\tlearn: 0.2852565\ttotal: 2.18s\tremaining: 406ms\n",
      "843:\tlearn: 0.2851159\ttotal: 2.18s\tremaining: 403ms\n",
      "844:\tlearn: 0.2850814\ttotal: 2.19s\tremaining: 401ms\n",
      "845:\tlearn: 0.2849555\ttotal: 2.19s\tremaining: 398ms\n",
      "846:\tlearn: 0.2848781\ttotal: 2.19s\tremaining: 396ms\n",
      "847:\tlearn: 0.2847162\ttotal: 2.19s\tremaining: 393ms\n",
      "848:\tlearn: 0.2846410\ttotal: 2.2s\tremaining: 391ms\n",
      "849:\tlearn: 0.2843624\ttotal: 2.2s\tremaining: 389ms\n",
      "850:\tlearn: 0.2842370\ttotal: 2.21s\tremaining: 386ms\n",
      "851:\tlearn: 0.2842175\ttotal: 2.21s\tremaining: 384ms\n",
      "852:\tlearn: 0.2840452\ttotal: 2.21s\tremaining: 381ms\n",
      "853:\tlearn: 0.2840162\ttotal: 2.21s\tremaining: 379ms\n",
      "854:\tlearn: 0.2839111\ttotal: 2.22s\tremaining: 376ms\n",
      "855:\tlearn: 0.2838736\ttotal: 2.22s\tremaining: 374ms\n",
      "856:\tlearn: 0.2838374\ttotal: 2.22s\tremaining: 371ms\n",
      "857:\tlearn: 0.2837356\ttotal: 2.23s\tremaining: 368ms\n",
      "858:\tlearn: 0.2836790\ttotal: 2.23s\tremaining: 366ms\n",
      "859:\tlearn: 0.2835871\ttotal: 2.23s\tremaining: 363ms\n",
      "860:\tlearn: 0.2835052\ttotal: 2.23s\tremaining: 360ms\n",
      "861:\tlearn: 0.2834147\ttotal: 2.23s\tremaining: 358ms\n",
      "862:\tlearn: 0.2831227\ttotal: 2.24s\tremaining: 355ms\n",
      "863:\tlearn: 0.2830805\ttotal: 2.24s\tremaining: 353ms\n",
      "864:\tlearn: 0.2829151\ttotal: 2.24s\tremaining: 350ms\n",
      "865:\tlearn: 0.2828120\ttotal: 2.25s\tremaining: 348ms\n",
      "866:\tlearn: 0.2827447\ttotal: 2.25s\tremaining: 345ms\n",
      "867:\tlearn: 0.2826882\ttotal: 2.25s\tremaining: 342ms\n",
      "868:\tlearn: 0.2826083\ttotal: 2.25s\tremaining: 340ms\n",
      "869:\tlearn: 0.2824902\ttotal: 2.25s\tremaining: 337ms\n",
      "870:\tlearn: 0.2824460\ttotal: 2.26s\tremaining: 334ms\n",
      "871:\tlearn: 0.2823591\ttotal: 2.26s\tremaining: 332ms\n",
      "872:\tlearn: 0.2822937\ttotal: 2.26s\tremaining: 329ms\n",
      "873:\tlearn: 0.2822084\ttotal: 2.26s\tremaining: 326ms\n",
      "874:\tlearn: 0.2821666\ttotal: 2.27s\tremaining: 324ms\n",
      "875:\tlearn: 0.2820890\ttotal: 2.27s\tremaining: 321ms\n",
      "876:\tlearn: 0.2820169\ttotal: 2.27s\tremaining: 318ms\n",
      "877:\tlearn: 0.2819674\ttotal: 2.27s\tremaining: 316ms\n",
      "878:\tlearn: 0.2818707\ttotal: 2.27s\tremaining: 313ms\n"
     ]
    },
    {
     "name": "stdout",
     "output_type": "stream",
     "text": [
      "879:\tlearn: 0.2817945\ttotal: 2.28s\tremaining: 311ms\n",
      "880:\tlearn: 0.2817185\ttotal: 2.28s\tremaining: 308ms\n",
      "881:\tlearn: 0.2816398\ttotal: 2.28s\tremaining: 305ms\n",
      "882:\tlearn: 0.2815249\ttotal: 2.29s\tremaining: 303ms\n",
      "883:\tlearn: 0.2814691\ttotal: 2.29s\tremaining: 300ms\n",
      "884:\tlearn: 0.2814346\ttotal: 2.29s\tremaining: 298ms\n",
      "885:\tlearn: 0.2813740\ttotal: 2.29s\tremaining: 295ms\n",
      "886:\tlearn: 0.2810559\ttotal: 2.29s\tremaining: 292ms\n",
      "887:\tlearn: 0.2809350\ttotal: 2.3s\tremaining: 290ms\n",
      "888:\tlearn: 0.2808788\ttotal: 2.3s\tremaining: 287ms\n",
      "889:\tlearn: 0.2808170\ttotal: 2.3s\tremaining: 284ms\n",
      "890:\tlearn: 0.2806687\ttotal: 2.3s\tremaining: 282ms\n",
      "891:\tlearn: 0.2806042\ttotal: 2.31s\tremaining: 279ms\n",
      "892:\tlearn: 0.2805402\ttotal: 2.31s\tremaining: 277ms\n",
      "893:\tlearn: 0.2804689\ttotal: 2.31s\tremaining: 274ms\n",
      "894:\tlearn: 0.2803232\ttotal: 2.31s\tremaining: 271ms\n",
      "895:\tlearn: 0.2802426\ttotal: 2.31s\tremaining: 268ms\n",
      "896:\tlearn: 0.2801474\ttotal: 2.31s\tremaining: 266ms\n",
      "897:\tlearn: 0.2799970\ttotal: 2.32s\tremaining: 263ms\n",
      "898:\tlearn: 0.2799261\ttotal: 2.32s\tremaining: 260ms\n",
      "899:\tlearn: 0.2798935\ttotal: 2.32s\tremaining: 258ms\n",
      "900:\tlearn: 0.2798204\ttotal: 2.32s\tremaining: 255ms\n",
      "901:\tlearn: 0.2797560\ttotal: 2.32s\tremaining: 252ms\n",
      "902:\tlearn: 0.2796843\ttotal: 2.32s\tremaining: 250ms\n",
      "903:\tlearn: 0.2795835\ttotal: 2.33s\tremaining: 247ms\n",
      "904:\tlearn: 0.2795019\ttotal: 2.33s\tremaining: 244ms\n",
      "905:\tlearn: 0.2794288\ttotal: 2.33s\tremaining: 242ms\n",
      "906:\tlearn: 0.2793680\ttotal: 2.33s\tremaining: 239ms\n",
      "907:\tlearn: 0.2792954\ttotal: 2.33s\tremaining: 236ms\n",
      "908:\tlearn: 0.2792042\ttotal: 2.33s\tremaining: 234ms\n",
      "909:\tlearn: 0.2790886\ttotal: 2.34s\tremaining: 231ms\n",
      "910:\tlearn: 0.2790142\ttotal: 2.34s\tremaining: 229ms\n",
      "911:\tlearn: 0.2789711\ttotal: 2.34s\tremaining: 226ms\n",
      "912:\tlearn: 0.2789575\ttotal: 2.35s\tremaining: 223ms\n",
      "913:\tlearn: 0.2788940\ttotal: 2.35s\tremaining: 221ms\n",
      "914:\tlearn: 0.2786891\ttotal: 2.35s\tremaining: 218ms\n",
      "915:\tlearn: 0.2782878\ttotal: 2.35s\tremaining: 216ms\n",
      "916:\tlearn: 0.2782275\ttotal: 2.36s\tremaining: 213ms\n",
      "917:\tlearn: 0.2781857\ttotal: 2.36s\tremaining: 211ms\n",
      "918:\tlearn: 0.2781448\ttotal: 2.36s\tremaining: 208ms\n",
      "919:\tlearn: 0.2780532\ttotal: 2.37s\tremaining: 206ms\n",
      "920:\tlearn: 0.2779918\ttotal: 2.37s\tremaining: 203ms\n",
      "921:\tlearn: 0.2778668\ttotal: 2.37s\tremaining: 201ms\n",
      "922:\tlearn: 0.2777016\ttotal: 2.37s\tremaining: 198ms\n",
      "923:\tlearn: 0.2776316\ttotal: 2.38s\tremaining: 196ms\n",
      "924:\tlearn: 0.2775475\ttotal: 2.38s\tremaining: 193ms\n",
      "925:\tlearn: 0.2775173\ttotal: 2.38s\tremaining: 191ms\n",
      "926:\tlearn: 0.2774410\ttotal: 2.39s\tremaining: 188ms\n",
      "927:\tlearn: 0.2773876\ttotal: 2.39s\tremaining: 185ms\n",
      "928:\tlearn: 0.2773146\ttotal: 2.39s\tremaining: 183ms\n",
      "929:\tlearn: 0.2772082\ttotal: 2.4s\tremaining: 180ms\n",
      "930:\tlearn: 0.2771670\ttotal: 2.4s\tremaining: 178ms\n",
      "931:\tlearn: 0.2770037\ttotal: 2.4s\tremaining: 175ms\n",
      "932:\tlearn: 0.2769667\ttotal: 2.4s\tremaining: 173ms\n",
      "933:\tlearn: 0.2768932\ttotal: 2.41s\tremaining: 170ms\n",
      "934:\tlearn: 0.2767187\ttotal: 2.41s\tremaining: 168ms\n",
      "935:\tlearn: 0.2766118\ttotal: 2.42s\tremaining: 165ms\n",
      "936:\tlearn: 0.2765145\ttotal: 2.42s\tremaining: 163ms\n",
      "937:\tlearn: 0.2764725\ttotal: 2.42s\tremaining: 160ms\n",
      "938:\tlearn: 0.2764092\ttotal: 2.42s\tremaining: 157ms\n",
      "939:\tlearn: 0.2763730\ttotal: 2.43s\tremaining: 155ms\n",
      "940:\tlearn: 0.2763245\ttotal: 2.43s\tremaining: 152ms\n",
      "941:\tlearn: 0.2761421\ttotal: 2.43s\tremaining: 150ms\n",
      "942:\tlearn: 0.2760532\ttotal: 2.44s\tremaining: 147ms\n",
      "943:\tlearn: 0.2759929\ttotal: 2.44s\tremaining: 145ms\n",
      "944:\tlearn: 0.2759347\ttotal: 2.44s\tremaining: 142ms\n",
      "945:\tlearn: 0.2758803\ttotal: 2.44s\tremaining: 140ms\n",
      "946:\tlearn: 0.2758045\ttotal: 2.45s\tremaining: 137ms\n",
      "947:\tlearn: 0.2757249\ttotal: 2.45s\tremaining: 134ms\n",
      "948:\tlearn: 0.2755825\ttotal: 2.45s\tremaining: 132ms\n",
      "949:\tlearn: 0.2755154\ttotal: 2.46s\tremaining: 129ms\n",
      "950:\tlearn: 0.2752789\ttotal: 2.46s\tremaining: 127ms\n",
      "951:\tlearn: 0.2750442\ttotal: 2.46s\tremaining: 124ms\n",
      "952:\tlearn: 0.2747569\ttotal: 2.47s\tremaining: 122ms\n",
      "953:\tlearn: 0.2747165\ttotal: 2.47s\tremaining: 119ms\n",
      "954:\tlearn: 0.2745830\ttotal: 2.48s\tremaining: 117ms\n",
      "955:\tlearn: 0.2744534\ttotal: 2.48s\tremaining: 114ms\n",
      "956:\tlearn: 0.2744155\ttotal: 2.48s\tremaining: 112ms\n",
      "957:\tlearn: 0.2743794\ttotal: 2.48s\tremaining: 109ms\n",
      "958:\tlearn: 0.2743340\ttotal: 2.49s\tremaining: 106ms\n",
      "959:\tlearn: 0.2742633\ttotal: 2.49s\tremaining: 104ms\n",
      "960:\tlearn: 0.2741298\ttotal: 2.5s\tremaining: 101ms\n",
      "961:\tlearn: 0.2738989\ttotal: 2.5s\tremaining: 98.7ms\n",
      "962:\tlearn: 0.2738624\ttotal: 2.5s\tremaining: 96.1ms\n",
      "963:\tlearn: 0.2738192\ttotal: 2.5s\tremaining: 93.6ms\n",
      "964:\tlearn: 0.2736977\ttotal: 2.51s\tremaining: 91ms\n",
      "965:\tlearn: 0.2736429\ttotal: 2.51s\tremaining: 88.4ms\n",
      "966:\tlearn: 0.2736131\ttotal: 2.51s\tremaining: 85.8ms\n",
      "967:\tlearn: 0.2735609\ttotal: 2.52s\tremaining: 83.3ms\n",
      "968:\tlearn: 0.2734460\ttotal: 2.52s\tremaining: 80.7ms\n",
      "969:\tlearn: 0.2733822\ttotal: 2.52s\tremaining: 78.1ms\n",
      "970:\tlearn: 0.2732852\ttotal: 2.53s\tremaining: 75.5ms\n",
      "971:\tlearn: 0.2730876\ttotal: 2.53s\tremaining: 72.9ms\n",
      "972:\tlearn: 0.2728903\ttotal: 2.53s\tremaining: 70.3ms\n",
      "973:\tlearn: 0.2728719\ttotal: 2.54s\tremaining: 67.7ms\n",
      "974:\tlearn: 0.2726414\ttotal: 2.54s\tremaining: 65.1ms\n",
      "975:\tlearn: 0.2725898\ttotal: 2.54s\tremaining: 62.5ms\n",
      "976:\tlearn: 0.2725026\ttotal: 2.54s\tremaining: 59.9ms\n",
      "977:\tlearn: 0.2722756\ttotal: 2.55s\tremaining: 57.3ms\n",
      "978:\tlearn: 0.2722256\ttotal: 2.55s\tremaining: 54.7ms\n",
      "979:\tlearn: 0.2721845\ttotal: 2.55s\tremaining: 52.1ms\n",
      "980:\tlearn: 0.2721421\ttotal: 2.56s\tremaining: 49.5ms\n",
      "981:\tlearn: 0.2721099\ttotal: 2.56s\tremaining: 46.9ms\n",
      "982:\tlearn: 0.2719196\ttotal: 2.56s\tremaining: 44.4ms\n",
      "983:\tlearn: 0.2718216\ttotal: 2.57s\tremaining: 41.7ms\n",
      "984:\tlearn: 0.2717215\ttotal: 2.57s\tremaining: 39.1ms\n",
      "985:\tlearn: 0.2716236\ttotal: 2.57s\tremaining: 36.5ms\n",
      "986:\tlearn: 0.2715107\ttotal: 2.58s\tremaining: 33.9ms\n",
      "987:\tlearn: 0.2713197\ttotal: 2.58s\tremaining: 31.3ms\n",
      "988:\tlearn: 0.2712261\ttotal: 2.58s\tremaining: 28.7ms\n",
      "989:\tlearn: 0.2711553\ttotal: 2.59s\tremaining: 26.1ms\n",
      "990:\tlearn: 0.2710328\ttotal: 2.59s\tremaining: 23.5ms\n",
      "991:\tlearn: 0.2709549\ttotal: 2.59s\tremaining: 20.9ms\n",
      "992:\tlearn: 0.2707976\ttotal: 2.6s\tremaining: 18.3ms\n",
      "993:\tlearn: 0.2707565\ttotal: 2.6s\tremaining: 15.7ms\n",
      "994:\tlearn: 0.2705438\ttotal: 2.6s\tremaining: 13.1ms\n",
      "995:\tlearn: 0.2704563\ttotal: 2.61s\tremaining: 10.5ms\n",
      "996:\tlearn: 0.2703908\ttotal: 2.61s\tremaining: 7.85ms\n",
      "997:\tlearn: 0.2700411\ttotal: 2.61s\tremaining: 5.24ms\n",
      "998:\tlearn: 0.2699972\ttotal: 2.62s\tremaining: 2.62ms\n",
      "999:\tlearn: 0.2697629\ttotal: 2.62s\tremaining: 0us\n"
     ]
    }
   ],
   "source": [
    "pred_voting=vc.fit(x,y).predict(dummytest)"
   ]
  },
  {
   "cell_type": "code",
   "execution_count": 227,
   "id": "68d0ae3d",
   "metadata": {},
   "outputs": [],
   "source": [
    "submission=pd.DataFrame({'PassengerId':test.PassengerId,\n",
    "                        'Survived':pred_voting})\n",
    "\n",
    "submission.to_csv(\"vc.csv\",index=False)   ## 0.76555"
   ]
  },
  {
   "cell_type": "markdown",
   "id": "287ba333",
   "metadata": {},
   "source": [
    "## Stacking Classifier"
   ]
  },
  {
   "cell_type": "code",
   "execution_count": 228,
   "id": "05a48a3e",
   "metadata": {},
   "outputs": [],
   "source": [
    "# Stacking Classifier\n",
    "\n",
    "from sklearn.ensemble import StackingClassifier\n",
    "\n",
    "level0=[(\"xgb\",xgb),(\"gbm\",gbm),(\"lgbm\",lgbm)]\n",
    "level1=lg\n",
    "\n",
    "stack=StackingClassifier(estimators=level0,final_estimator=level1,\n",
    "                        cv=5)"
   ]
  },
  {
   "cell_type": "code",
   "execution_count": 229,
   "id": "a7a06c98",
   "metadata": {},
   "outputs": [],
   "source": [
    "pred_stack=stack.fit(x,y).predict(dummytest)"
   ]
  },
  {
   "cell_type": "code",
   "execution_count": 230,
   "id": "20149315",
   "metadata": {},
   "outputs": [],
   "source": [
    "submission=pd.DataFrame({'PassengerId':test.PassengerId,\n",
    "                        'Survived':pred_stack})\n",
    "\n",
    "submission.to_csv(\"stack.csv\",index=False) ### 0.76794"
   ]
  }
 ],
 "metadata": {
  "kernelspec": {
   "display_name": "Python 3 (ipykernel)",
   "language": "python",
   "name": "python3"
  },
  "language_info": {
   "codemirror_mode": {
    "name": "ipython",
    "version": 3
   },
   "file_extension": ".py",
   "mimetype": "text/x-python",
   "name": "python",
   "nbconvert_exporter": "python",
   "pygments_lexer": "ipython3",
   "version": "3.9.7"
  }
 },
 "nbformat": 4,
 "nbformat_minor": 5
}
